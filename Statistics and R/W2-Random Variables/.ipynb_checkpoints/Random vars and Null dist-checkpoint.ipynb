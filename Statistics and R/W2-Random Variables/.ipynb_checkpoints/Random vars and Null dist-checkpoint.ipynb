{
 "cells": [
  {
   "cell_type": "code",
   "execution_count": 1,
   "metadata": {},
   "outputs": [
    {
     "name": "stderr",
     "output_type": "stream",
     "text": [
      "\n",
      "Attaching package: ‘dplyr’\n",
      "\n",
      "\n",
      "The following objects are masked from ‘package:stats’:\n",
      "\n",
      "    filter, lag\n",
      "\n",
      "\n",
      "The following objects are masked from ‘package:base’:\n",
      "\n",
      "    intersect, setdiff, setequal, union\n",
      "\n",
      "\n"
     ]
    }
   ],
   "source": [
    "library(dplyr)"
   ]
  },
  {
   "cell_type": "code",
   "execution_count": 2,
   "metadata": {},
   "outputs": [],
   "source": [
    "dat <- read.csv(\"../dagdata/inst/extdata/femaleMiceWeights.csv\")"
   ]
  },
  {
   "cell_type": "code",
   "execution_count": 3,
   "metadata": {},
   "outputs": [
    {
     "data": {
      "text/html": [
       "<table>\n",
       "<caption>A data.frame: 6 × 2</caption>\n",
       "<thead>\n",
       "\t<tr><th></th><th scope=col>Diet</th><th scope=col>Bodyweight</th></tr>\n",
       "\t<tr><th></th><th scope=col>&lt;chr&gt;</th><th scope=col>&lt;dbl&gt;</th></tr>\n",
       "</thead>\n",
       "<tbody>\n",
       "\t<tr><th scope=row>1</th><td>chow</td><td>21.51</td></tr>\n",
       "\t<tr><th scope=row>2</th><td>chow</td><td>28.14</td></tr>\n",
       "\t<tr><th scope=row>3</th><td>chow</td><td>24.04</td></tr>\n",
       "\t<tr><th scope=row>4</th><td>chow</td><td>23.45</td></tr>\n",
       "\t<tr><th scope=row>5</th><td>chow</td><td>23.68</td></tr>\n",
       "\t<tr><th scope=row>6</th><td>chow</td><td>19.79</td></tr>\n",
       "</tbody>\n",
       "</table>\n"
      ],
      "text/latex": [
       "A data.frame: 6 × 2\n",
       "\\begin{tabular}{r|ll}\n",
       "  & Diet & Bodyweight\\\\\n",
       "  & <chr> & <dbl>\\\\\n",
       "\\hline\n",
       "\t1 & chow & 21.51\\\\\n",
       "\t2 & chow & 28.14\\\\\n",
       "\t3 & chow & 24.04\\\\\n",
       "\t4 & chow & 23.45\\\\\n",
       "\t5 & chow & 23.68\\\\\n",
       "\t6 & chow & 19.79\\\\\n",
       "\\end{tabular}\n"
      ],
      "text/markdown": [
       "\n",
       "A data.frame: 6 × 2\n",
       "\n",
       "| <!--/--> | Diet &lt;chr&gt; | Bodyweight &lt;dbl&gt; |\n",
       "|---|---|---|\n",
       "| 1 | chow | 21.51 |\n",
       "| 2 | chow | 28.14 |\n",
       "| 3 | chow | 24.04 |\n",
       "| 4 | chow | 23.45 |\n",
       "| 5 | chow | 23.68 |\n",
       "| 6 | chow | 19.79 |\n",
       "\n"
      ],
      "text/plain": [
       "  Diet Bodyweight\n",
       "1 chow 21.51     \n",
       "2 chow 28.14     \n",
       "3 chow 24.04     \n",
       "4 chow 23.45     \n",
       "5 chow 23.68     \n",
       "6 chow 19.79     "
      ]
     },
     "metadata": {},
     "output_type": "display_data"
    }
   ],
   "source": [
    "head(dat)"
   ]
  },
  {
   "cell_type": "code",
   "execution_count": 6,
   "metadata": {},
   "outputs": [
    {
     "data": {
      "text/html": [
       "<style>\n",
       ".dl-inline {width: auto; margin:0; padding: 0}\n",
       ".dl-inline>dt, .dl-inline>dd {float: none; width: auto; display: inline-block}\n",
       ".dl-inline>dt::after {content: \":\\0020\"; padding-right: .5ex}\n",
       ".dl-inline>dt:not(:first-of-type) {padding-left: .5ex}\n",
       "</style><dl class=dl-inline><dt>Bodyweight1</dt><dd>21.51</dd><dt>Bodyweight2</dt><dd>28.14</dd><dt>Bodyweight3</dt><dd>24.04</dd><dt>Bodyweight4</dt><dd>23.45</dd><dt>Bodyweight5</dt><dd>23.68</dd><dt>Bodyweight6</dt><dd>19.79</dd><dt>Bodyweight7</dt><dd>28.4</dd><dt>Bodyweight8</dt><dd>20.98</dd><dt>Bodyweight9</dt><dd>22.51</dd><dt>Bodyweight10</dt><dd>20.1</dd><dt>Bodyweight11</dt><dd>26.91</dd><dt>Bodyweight12</dt><dd>26.25</dd></dl>\n"
      ],
      "text/latex": [
       "\\begin{description*}\n",
       "\\item[Bodyweight1] 21.51\n",
       "\\item[Bodyweight2] 28.14\n",
       "\\item[Bodyweight3] 24.04\n",
       "\\item[Bodyweight4] 23.45\n",
       "\\item[Bodyweight5] 23.68\n",
       "\\item[Bodyweight6] 19.79\n",
       "\\item[Bodyweight7] 28.4\n",
       "\\item[Bodyweight8] 20.98\n",
       "\\item[Bodyweight9] 22.51\n",
       "\\item[Bodyweight10] 20.1\n",
       "\\item[Bodyweight11] 26.91\n",
       "\\item[Bodyweight12] 26.25\n",
       "\\end{description*}\n"
      ],
      "text/markdown": [
       "Bodyweight1\n",
       ":   21.51Bodyweight2\n",
       ":   28.14Bodyweight3\n",
       ":   24.04Bodyweight4\n",
       ":   23.45Bodyweight5\n",
       ":   23.68Bodyweight6\n",
       ":   19.79Bodyweight7\n",
       ":   28.4Bodyweight8\n",
       ":   20.98Bodyweight9\n",
       ":   22.51Bodyweight10\n",
       ":   20.1Bodyweight11\n",
       ":   26.91Bodyweight12\n",
       ":   26.25\n",
       "\n"
      ],
      "text/plain": [
       " Bodyweight1  Bodyweight2  Bodyweight3  Bodyweight4  Bodyweight5  Bodyweight6 \n",
       "       21.51        28.14        24.04        23.45        23.68        19.79 \n",
       " Bodyweight7  Bodyweight8  Bodyweight9 Bodyweight10 Bodyweight11 Bodyweight12 \n",
       "       28.40        20.98        22.51        20.10        26.91        26.25 "
      ]
     },
     "metadata": {},
     "output_type": "display_data"
    }
   ],
   "source": [
    "control <- filter(dat, Diet==\"chow\") %>% select(Bodyweight) %>% unlist\n",
    "control"
   ]
  },
  {
   "cell_type": "code",
   "execution_count": 8,
   "metadata": {},
   "outputs": [
    {
     "data": {
      "text/html": [
       "<style>\n",
       ".dl-inline {width: auto; margin:0; padding: 0}\n",
       ".dl-inline>dt, .dl-inline>dd {float: none; width: auto; display: inline-block}\n",
       ".dl-inline>dt::after {content: \":\\0020\"; padding-right: .5ex}\n",
       ".dl-inline>dt:not(:first-of-type) {padding-left: .5ex}\n",
       "</style><dl class=dl-inline><dt>Bodyweight1</dt><dd>25.71</dd><dt>Bodyweight2</dt><dd>26.37</dd><dt>Bodyweight3</dt><dd>22.8</dd><dt>Bodyweight4</dt><dd>25.34</dd><dt>Bodyweight5</dt><dd>24.97</dd><dt>Bodyweight6</dt><dd>28.14</dd><dt>Bodyweight7</dt><dd>29.58</dd><dt>Bodyweight8</dt><dd>30.92</dd><dt>Bodyweight9</dt><dd>34.02</dd><dt>Bodyweight10</dt><dd>21.9</dd><dt>Bodyweight11</dt><dd>31.53</dd><dt>Bodyweight12</dt><dd>20.73</dd></dl>\n"
      ],
      "text/latex": [
       "\\begin{description*}\n",
       "\\item[Bodyweight1] 25.71\n",
       "\\item[Bodyweight2] 26.37\n",
       "\\item[Bodyweight3] 22.8\n",
       "\\item[Bodyweight4] 25.34\n",
       "\\item[Bodyweight5] 24.97\n",
       "\\item[Bodyweight6] 28.14\n",
       "\\item[Bodyweight7] 29.58\n",
       "\\item[Bodyweight8] 30.92\n",
       "\\item[Bodyweight9] 34.02\n",
       "\\item[Bodyweight10] 21.9\n",
       "\\item[Bodyweight11] 31.53\n",
       "\\item[Bodyweight12] 20.73\n",
       "\\end{description*}\n"
      ],
      "text/markdown": [
       "Bodyweight1\n",
       ":   25.71Bodyweight2\n",
       ":   26.37Bodyweight3\n",
       ":   22.8Bodyweight4\n",
       ":   25.34Bodyweight5\n",
       ":   24.97Bodyweight6\n",
       ":   28.14Bodyweight7\n",
       ":   29.58Bodyweight8\n",
       ":   30.92Bodyweight9\n",
       ":   34.02Bodyweight10\n",
       ":   21.9Bodyweight11\n",
       ":   31.53Bodyweight12\n",
       ":   20.73\n",
       "\n"
      ],
      "text/plain": [
       " Bodyweight1  Bodyweight2  Bodyweight3  Bodyweight4  Bodyweight5  Bodyweight6 \n",
       "       25.71        26.37        22.80        25.34        24.97        28.14 \n",
       " Bodyweight7  Bodyweight8  Bodyweight9 Bodyweight10 Bodyweight11 Bodyweight12 \n",
       "       29.58        30.92        34.02        21.90        31.53        20.73 "
      ]
     },
     "metadata": {},
     "output_type": "display_data"
    }
   ],
   "source": [
    "treatment <- filter(dat, Diet==\"hf\") %>% select(Bodyweight) %>% unlist\n",
    "treatment"
   ]
  },
  {
   "cell_type": "code",
   "execution_count": 9,
   "metadata": {},
   "outputs": [
    {
     "data": {
      "text/html": [
       "26.8341666666667"
      ],
      "text/latex": [
       "26.8341666666667"
      ],
      "text/markdown": [
       "26.8341666666667"
      ],
      "text/plain": [
       "[1] 26.83417"
      ]
     },
     "metadata": {},
     "output_type": "display_data"
    }
   ],
   "source": [
    "mean(treatment)"
   ]
  },
  {
   "cell_type": "code",
   "execution_count": 11,
   "metadata": {},
   "outputs": [
    {
     "data": {
      "text/html": [
       "23.8133333333333"
      ],
      "text/latex": [
       "23.8133333333333"
      ],
      "text/markdown": [
       "23.8133333333333"
      ],
      "text/plain": [
       "[1] 23.81333"
      ]
     },
     "metadata": {},
     "output_type": "display_data"
    }
   ],
   "source": [
    "mean(control)"
   ]
  },
  {
   "cell_type": "code",
   "execution_count": 12,
   "metadata": {},
   "outputs": [
    {
     "data": {
      "text/html": [
       "3.02083333333334"
      ],
      "text/latex": [
       "3.02083333333334"
      ],
      "text/markdown": [
       "3.02083333333334"
      ],
      "text/plain": [
       "[1] 3.020833"
      ]
     },
     "metadata": {},
     "output_type": "display_data"
    }
   ],
   "source": [
    "mean(treatment) -mean(control)"
   ]
  },
  {
   "cell_type": "code",
   "execution_count": 14,
   "metadata": {},
   "outputs": [
    {
     "data": {
      "text/html": [
       "<table>\n",
       "<caption>A data.frame: 6 × 1</caption>\n",
       "<thead>\n",
       "\t<tr><th></th><th scope=col>Bodyweight</th></tr>\n",
       "\t<tr><th></th><th scope=col>&lt;dbl&gt;</th></tr>\n",
       "</thead>\n",
       "<tbody>\n",
       "\t<tr><th scope=row>1</th><td>27.03</td></tr>\n",
       "\t<tr><th scope=row>2</th><td>24.80</td></tr>\n",
       "\t<tr><th scope=row>3</th><td>27.02</td></tr>\n",
       "\t<tr><th scope=row>4</th><td>28.07</td></tr>\n",
       "\t<tr><th scope=row>5</th><td>23.55</td></tr>\n",
       "\t<tr><th scope=row>6</th><td>22.72</td></tr>\n",
       "</tbody>\n",
       "</table>\n"
      ],
      "text/latex": [
       "A data.frame: 6 × 1\n",
       "\\begin{tabular}{r|l}\n",
       "  & Bodyweight\\\\\n",
       "  & <dbl>\\\\\n",
       "\\hline\n",
       "\t1 & 27.03\\\\\n",
       "\t2 & 24.80\\\\\n",
       "\t3 & 27.02\\\\\n",
       "\t4 & 28.07\\\\\n",
       "\t5 & 23.55\\\\\n",
       "\t6 & 22.72\\\\\n",
       "\\end{tabular}\n"
      ],
      "text/markdown": [
       "\n",
       "A data.frame: 6 × 1\n",
       "\n",
       "| <!--/--> | Bodyweight &lt;dbl&gt; |\n",
       "|---|---|\n",
       "| 1 | 27.03 |\n",
       "| 2 | 24.80 |\n",
       "| 3 | 27.02 |\n",
       "| 4 | 28.07 |\n",
       "| 5 | 23.55 |\n",
       "| 6 | 22.72 |\n",
       "\n"
      ],
      "text/plain": [
       "  Bodyweight\n",
       "1 27.03     \n",
       "2 24.80     \n",
       "3 27.02     \n",
       "4 28.07     \n",
       "5 23.55     \n",
       "6 22.72     "
      ]
     },
     "metadata": {},
     "output_type": "display_data"
    }
   ],
   "source": [
    "population <- read.csv(\"../dagdata/inst/extdata/femaleControlsPopulation.csv\")\n",
    "head(population)"
   ]
  },
  {
   "cell_type": "code",
   "execution_count": 15,
   "metadata": {},
   "outputs": [],
   "source": [
    "population <- unlist(population)"
   ]
  },
  {
   "cell_type": "code",
   "execution_count": 20,
   "metadata": {},
   "outputs": [
    {
     "data": {
      "text/html": [
       "225"
      ],
      "text/latex": [
       "225"
      ],
      "text/markdown": [
       "225"
      ],
      "text/plain": [
       "[1] 225"
      ]
     },
     "metadata": {},
     "output_type": "display_data"
    }
   ],
   "source": [
    "length(population)"
   ]
  },
  {
   "cell_type": "code",
   "execution_count": 16,
   "metadata": {},
   "outputs": [
    {
     "data": {
      "text/html": [
       "<style>\n",
       ".dl-inline {width: auto; margin:0; padding: 0}\n",
       ".dl-inline>dt, .dl-inline>dd {float: none; width: auto; display: inline-block}\n",
       ".dl-inline>dt::after {content: \":\\0020\"; padding-right: .5ex}\n",
       ".dl-inline>dt:not(:first-of-type) {padding-left: .5ex}\n",
       "</style><dl class=dl-inline><dt>Bodyweight142</dt><dd>25.97</dd><dt>Bodyweight129</dt><dd>27.15</dd><dt>Bodyweight221</dt><dd>26.91</dd><dt>Bodyweight9</dt><dd>23.98</dd><dt>Bodyweight91</dt><dd>22.66</dd><dt>Bodyweight18</dt><dd>27.92</dd><dt>Bodyweight177</dt><dd>23.8</dd><dt>Bodyweight89</dt><dd>24.23</dd><dt>Bodyweight119</dt><dd>23.19</dd><dt>Bodyweight195</dt><dd>23.3</dd><dt>Bodyweight114</dt><dd>26.15</dd><dt>Bodyweight105</dt><dd>23.7</dd></dl>\n"
      ],
      "text/latex": [
       "\\begin{description*}\n",
       "\\item[Bodyweight142] 25.97\n",
       "\\item[Bodyweight129] 27.15\n",
       "\\item[Bodyweight221] 26.91\n",
       "\\item[Bodyweight9] 23.98\n",
       "\\item[Bodyweight91] 22.66\n",
       "\\item[Bodyweight18] 27.92\n",
       "\\item[Bodyweight177] 23.8\n",
       "\\item[Bodyweight89] 24.23\n",
       "\\item[Bodyweight119] 23.19\n",
       "\\item[Bodyweight195] 23.3\n",
       "\\item[Bodyweight114] 26.15\n",
       "\\item[Bodyweight105] 23.7\n",
       "\\end{description*}\n"
      ],
      "text/markdown": [
       "Bodyweight142\n",
       ":   25.97Bodyweight129\n",
       ":   27.15Bodyweight221\n",
       ":   26.91Bodyweight9\n",
       ":   23.98Bodyweight91\n",
       ":   22.66Bodyweight18\n",
       ":   27.92Bodyweight177\n",
       ":   23.8Bodyweight89\n",
       ":   24.23Bodyweight119\n",
       ":   23.19Bodyweight195\n",
       ":   23.3Bodyweight114\n",
       ":   26.15Bodyweight105\n",
       ":   23.7\n",
       "\n"
      ],
      "text/plain": [
       "Bodyweight142 Bodyweight129 Bodyweight221   Bodyweight9  Bodyweight91 \n",
       "        25.97         27.15         26.91         23.98         22.66 \n",
       " Bodyweight18 Bodyweight177  Bodyweight89 Bodyweight119 Bodyweight195 \n",
       "        27.92         23.80         24.23         23.19         23.30 \n",
       "Bodyweight114 Bodyweight105 \n",
       "        26.15         23.70 "
      ]
     },
     "metadata": {},
     "output_type": "display_data"
    }
   ],
   "source": [
    "sample(population, 12)"
   ]
  },
  {
   "cell_type": "code",
   "execution_count": 30,
   "metadata": {},
   "outputs": [
    {
     "data": {
      "text/html": [
       "25.6633333333333"
      ],
      "text/latex": [
       "25.6633333333333"
      ],
      "text/markdown": [
       "25.6633333333333"
      ],
      "text/plain": [
       "[1] 25.66333"
      ]
     },
     "metadata": {},
     "output_type": "display_data"
    }
   ],
   "source": [
    "mean(sample(population, 12))"
   ]
  },
  {
   "cell_type": "code",
   "execution_count": null,
   "metadata": {},
   "outputs": [],
   "source": []
  }
 ],
 "metadata": {
  "kernelspec": {
   "display_name": "R",
   "language": "R",
   "name": "ir"
  },
  "language_info": {
   "codemirror_mode": "r",
   "file_extension": ".r",
   "mimetype": "text/x-r-source",
   "name": "R",
   "pygments_lexer": "r",
   "version": "4.0.2"
  }
 },
 "nbformat": 4,
 "nbformat_minor": 4
}
