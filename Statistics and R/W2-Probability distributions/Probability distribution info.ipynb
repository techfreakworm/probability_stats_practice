{
 "cells": [
  {
   "cell_type": "markdown",
   "metadata": {},
   "source": [
    "### histogram dist tells us the proportion below any point: (Pr means Proportion NOT Probability)\n",
    "## F(a) = Pr(Height <= a)\n",
    "### Using this, we can say how many individials in any interval:\n",
    "## Pr(a<= Height <= b) = F(b) - F(a)\n"
   ]
  },
  {
   "cell_type": "markdown",
   "metadata": {},
   "source": [
    "## Emperical cumulative distribution function is nothing but F(a) vs a graph"
   ]
  },
  {
   "cell_type": "code",
   "execution_count": null,
   "metadata": {},
   "outputs": [],
   "source": [
    "dat <- read.csv(\"../dagdata/inst/extdata/\")"
   ]
  }
 ],
 "metadata": {
  "kernelspec": {
   "display_name": "R",
   "language": "R",
   "name": "ir"
  },
  "language_info": {
   "codemirror_mode": "r",
   "file_extension": ".r",
   "mimetype": "text/x-r-source",
   "name": "R",
   "pygments_lexer": "r",
   "version": "4.0.2"
  }
 },
 "nbformat": 4,
 "nbformat_minor": 4
}
