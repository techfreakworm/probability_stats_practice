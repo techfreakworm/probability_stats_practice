{
 "cells": [
  {
   "cell_type": "code",
   "execution_count": 2,
   "metadata": {},
   "outputs": [],
   "source": [
    "# install.packages(\"gapminder\")"
   ]
  },
  {
   "cell_type": "code",
   "execution_count": 6,
   "metadata": {},
   "outputs": [
    {
     "name": "stderr",
     "output_type": "stream",
     "text": [
      "\n",
      "Attaching package: ‘dplyr’\n",
      "\n",
      "\n",
      "The following objects are masked from ‘package:stats’:\n",
      "\n",
      "    filter, lag\n",
      "\n",
      "\n",
      "The following objects are masked from ‘package:base’:\n",
      "\n",
      "    intersect, setdiff, setequal, union\n",
      "\n",
      "\n"
     ]
    },
    {
     "data": {
      "text/html": [
       "<table>\n",
       "<caption>A tibble: 6 × 6</caption>\n",
       "<thead>\n",
       "\t<tr><th scope=col>country</th><th scope=col>continent</th><th scope=col>year</th><th scope=col>lifeExp</th><th scope=col>pop</th><th scope=col>gdpPercap</th></tr>\n",
       "\t<tr><th scope=col>&lt;fct&gt;</th><th scope=col>&lt;fct&gt;</th><th scope=col>&lt;int&gt;</th><th scope=col>&lt;dbl&gt;</th><th scope=col>&lt;int&gt;</th><th scope=col>&lt;dbl&gt;</th></tr>\n",
       "</thead>\n",
       "<tbody>\n",
       "\t<tr><td>Afghanistan</td><td>Asia</td><td>1952</td><td>28.801</td><td> 8425333</td><td>779.4453</td></tr>\n",
       "\t<tr><td>Afghanistan</td><td>Asia</td><td>1957</td><td>30.332</td><td> 9240934</td><td>820.8530</td></tr>\n",
       "\t<tr><td>Afghanistan</td><td>Asia</td><td>1962</td><td>31.997</td><td>10267083</td><td>853.1007</td></tr>\n",
       "\t<tr><td>Afghanistan</td><td>Asia</td><td>1967</td><td>34.020</td><td>11537966</td><td>836.1971</td></tr>\n",
       "\t<tr><td>Afghanistan</td><td>Asia</td><td>1972</td><td>36.088</td><td>13079460</td><td>739.9811</td></tr>\n",
       "\t<tr><td>Afghanistan</td><td>Asia</td><td>1977</td><td>38.438</td><td>14880372</td><td>786.1134</td></tr>\n",
       "</tbody>\n",
       "</table>\n"
      ],
      "text/latex": [
       "A tibble: 6 × 6\n",
       "\\begin{tabular}{llllll}\n",
       " country & continent & year & lifeExp & pop & gdpPercap\\\\\n",
       " <fct> & <fct> & <int> & <dbl> & <int> & <dbl>\\\\\n",
       "\\hline\n",
       "\t Afghanistan & Asia & 1952 & 28.801 &  8425333 & 779.4453\\\\\n",
       "\t Afghanistan & Asia & 1957 & 30.332 &  9240934 & 820.8530\\\\\n",
       "\t Afghanistan & Asia & 1962 & 31.997 & 10267083 & 853.1007\\\\\n",
       "\t Afghanistan & Asia & 1967 & 34.020 & 11537966 & 836.1971\\\\\n",
       "\t Afghanistan & Asia & 1972 & 36.088 & 13079460 & 739.9811\\\\\n",
       "\t Afghanistan & Asia & 1977 & 38.438 & 14880372 & 786.1134\\\\\n",
       "\\end{tabular}\n"
      ],
      "text/markdown": [
       "\n",
       "A tibble: 6 × 6\n",
       "\n",
       "| country &lt;fct&gt; | continent &lt;fct&gt; | year &lt;int&gt; | lifeExp &lt;dbl&gt; | pop &lt;int&gt; | gdpPercap &lt;dbl&gt; |\n",
       "|---|---|---|---|---|---|\n",
       "| Afghanistan | Asia | 1952 | 28.801 |  8425333 | 779.4453 |\n",
       "| Afghanistan | Asia | 1957 | 30.332 |  9240934 | 820.8530 |\n",
       "| Afghanistan | Asia | 1962 | 31.997 | 10267083 | 853.1007 |\n",
       "| Afghanistan | Asia | 1967 | 34.020 | 11537966 | 836.1971 |\n",
       "| Afghanistan | Asia | 1972 | 36.088 | 13079460 | 739.9811 |\n",
       "| Afghanistan | Asia | 1977 | 38.438 | 14880372 | 786.1134 |\n",
       "\n"
      ],
      "text/plain": [
       "  country     continent year lifeExp pop      gdpPercap\n",
       "1 Afghanistan Asia      1952 28.801   8425333 779.4453 \n",
       "2 Afghanistan Asia      1957 30.332   9240934 820.8530 \n",
       "3 Afghanistan Asia      1962 31.997  10267083 853.1007 \n",
       "4 Afghanistan Asia      1967 34.020  11537966 836.1971 \n",
       "5 Afghanistan Asia      1972 36.088  13079460 739.9811 \n",
       "6 Afghanistan Asia      1977 38.438  14880372 786.1134 "
      ]
     },
     "metadata": {},
     "output_type": "display_data"
    }
   ],
   "source": [
    "library(gapminder)\n",
    "library(dplyr)\n",
    "data(gapminder)\n",
    "head(gapminder)"
   ]
  },
  {
   "cell_type": "code",
   "execution_count": 7,
   "metadata": {},
   "outputs": [],
   "source": [
    "filtered <- filter(gapminder, year==1952)"
   ]
  },
  {
   "cell_type": "code",
   "execution_count": 8,
   "metadata": {},
   "outputs": [
    {
     "data": {
      "text/html": [
       "<table>\n",
       "<caption>A tibble: 6 × 6</caption>\n",
       "<thead>\n",
       "\t<tr><th scope=col>country</th><th scope=col>continent</th><th scope=col>year</th><th scope=col>lifeExp</th><th scope=col>pop</th><th scope=col>gdpPercap</th></tr>\n",
       "\t<tr><th scope=col>&lt;fct&gt;</th><th scope=col>&lt;fct&gt;</th><th scope=col>&lt;int&gt;</th><th scope=col>&lt;dbl&gt;</th><th scope=col>&lt;int&gt;</th><th scope=col>&lt;dbl&gt;</th></tr>\n",
       "</thead>\n",
       "<tbody>\n",
       "\t<tr><td>Afghanistan</td><td>Asia    </td><td>1952</td><td>28.801</td><td> 8425333</td><td>  779.4453</td></tr>\n",
       "\t<tr><td>Albania    </td><td>Europe  </td><td>1952</td><td>55.230</td><td> 1282697</td><td> 1601.0561</td></tr>\n",
       "\t<tr><td>Algeria    </td><td>Africa  </td><td>1952</td><td>43.077</td><td> 9279525</td><td> 2449.0082</td></tr>\n",
       "\t<tr><td>Angola     </td><td>Africa  </td><td>1952</td><td>30.015</td><td> 4232095</td><td> 3520.6103</td></tr>\n",
       "\t<tr><td>Argentina  </td><td>Americas</td><td>1952</td><td>62.485</td><td>17876956</td><td> 5911.3151</td></tr>\n",
       "\t<tr><td>Australia  </td><td>Oceania </td><td>1952</td><td>69.120</td><td> 8691212</td><td>10039.5956</td></tr>\n",
       "</tbody>\n",
       "</table>\n"
      ],
      "text/latex": [
       "A tibble: 6 × 6\n",
       "\\begin{tabular}{llllll}\n",
       " country & continent & year & lifeExp & pop & gdpPercap\\\\\n",
       " <fct> & <fct> & <int> & <dbl> & <int> & <dbl>\\\\\n",
       "\\hline\n",
       "\t Afghanistan & Asia     & 1952 & 28.801 &  8425333 &   779.4453\\\\\n",
       "\t Albania     & Europe   & 1952 & 55.230 &  1282697 &  1601.0561\\\\\n",
       "\t Algeria     & Africa   & 1952 & 43.077 &  9279525 &  2449.0082\\\\\n",
       "\t Angola      & Africa   & 1952 & 30.015 &  4232095 &  3520.6103\\\\\n",
       "\t Argentina   & Americas & 1952 & 62.485 & 17876956 &  5911.3151\\\\\n",
       "\t Australia   & Oceania  & 1952 & 69.120 &  8691212 & 10039.5956\\\\\n",
       "\\end{tabular}\n"
      ],
      "text/markdown": [
       "\n",
       "A tibble: 6 × 6\n",
       "\n",
       "| country &lt;fct&gt; | continent &lt;fct&gt; | year &lt;int&gt; | lifeExp &lt;dbl&gt; | pop &lt;int&gt; | gdpPercap &lt;dbl&gt; |\n",
       "|---|---|---|---|---|---|\n",
       "| Afghanistan | Asia     | 1952 | 28.801 |  8425333 |   779.4453 |\n",
       "| Albania     | Europe   | 1952 | 55.230 |  1282697 |  1601.0561 |\n",
       "| Algeria     | Africa   | 1952 | 43.077 |  9279525 |  2449.0082 |\n",
       "| Angola      | Africa   | 1952 | 30.015 |  4232095 |  3520.6103 |\n",
       "| Argentina   | Americas | 1952 | 62.485 | 17876956 |  5911.3151 |\n",
       "| Australia   | Oceania  | 1952 | 69.120 |  8691212 | 10039.5956 |\n",
       "\n"
      ],
      "text/plain": [
       "  country     continent year lifeExp pop      gdpPercap \n",
       "1 Afghanistan Asia      1952 28.801   8425333   779.4453\n",
       "2 Albania     Europe    1952 55.230   1282697  1601.0561\n",
       "3 Algeria     Africa    1952 43.077   9279525  2449.0082\n",
       "4 Angola      Africa    1952 30.015   4232095  3520.6103\n",
       "5 Argentina   Americas  1952 62.485  17876956  5911.3151\n",
       "6 Australia   Oceania   1952 69.120   8691212 10039.5956"
      ]
     },
     "metadata": {},
     "output_type": "display_data"
    }
   ],
   "source": [
    "head(filtered)"
   ]
  },
  {
   "cell_type": "code",
   "execution_count": 10,
   "metadata": {},
   "outputs": [
    {
     "data": {
      "text/html": [
       "0.288732394366197"
      ],
      "text/latex": [
       "0.288732394366197"
      ],
      "text/markdown": [
       "0.288732394366197"
      ],
      "text/plain": [
       "[1] 0.2887324"
      ]
     },
     "metadata": {},
     "output_type": "display_data"
    }
   ],
   "source": [
    "mean(filtered$lifeExp <=40)"
   ]
  },
  {
   "cell_type": "code",
   "execution_count": 12,
   "metadata": {},
   "outputs": [
    {
     "data": {
      "text/html": [
       "0.464788732394366"
      ],
      "text/latex": [
       "0.464788732394366"
      ],
      "text/markdown": [
       "0.464788732394366"
      ],
      "text/plain": [
       "[1] 0.4647887"
      ]
     },
     "metadata": {},
     "output_type": "display_data"
    }
   ],
   "source": [
    "abs(mean(filtered$lifeExp <=40) - mean(filtered$lifeExp <=60))"
   ]
  },
  {
   "cell_type": "markdown",
   "metadata": {},
   "source": [
    "# sapply() on a custom function\n"
   ]
  },
  {
   "cell_type": "code",
   "execution_count": 16,
   "metadata": {},
   "outputs": [],
   "source": [
    "x <- filtered$lifeExp %>% unlist"
   ]
  },
  {
   "cell_type": "code",
   "execution_count": 17,
   "metadata": {},
   "outputs": [],
   "source": [
    "prop = function(q) {\n",
    "    mean(x<=q)\n",
    "}"
   ]
  },
  {
   "cell_type": "code",
   "execution_count": 18,
   "metadata": {},
   "outputs": [
    {
     "data": {
      "text/html": [
       "0.288732394366197"
      ],
      "text/latex": [
       "0.288732394366197"
      ],
      "text/markdown": [
       "0.288732394366197"
      ],
      "text/plain": [
       "[1] 0.2887324"
      ]
     },
     "metadata": {},
     "output_type": "display_data"
    }
   ],
   "source": [
    "prop(40)"
   ]
  },
  {
   "cell_type": "code",
   "execution_count": 19,
   "metadata": {},
   "outputs": [],
   "source": [
    "qs = seq(from=min(x), to=max(x),length=20)"
   ]
  },
  {
   "cell_type": "code",
   "execution_count": 20,
   "metadata": {},
   "outputs": [
    {
     "data": {
      "text/html": [
       "<style>\n",
       ".list-inline {list-style: none; margin:0; padding: 0}\n",
       ".list-inline>li {display: inline-block}\n",
       ".list-inline>li:not(:last-child)::after {content: \"\\00b7\"; padding: 0 .5ex}\n",
       "</style>\n",
       "<ol class=list-inline><li>28.801</li><li>31.1098947368421</li><li>33.4187894736842</li><li>35.7276842105263</li><li>38.0365789473684</li><li>40.3454736842105</li><li>42.6543684210526</li><li>44.9632631578947</li><li>47.2721578947368</li><li>49.5810526315789</li><li>51.889947368421</li><li>54.1988421052632</li><li>56.5077368421053</li><li>58.8166315789474</li><li>61.1255263157895</li><li>63.4344210526316</li><li>65.7433157894737</li><li>68.0522105263158</li><li>70.3611052631579</li><li>72.67</li></ol>\n"
      ],
      "text/latex": [
       "\\begin{enumerate*}\n",
       "\\item 28.801\n",
       "\\item 31.1098947368421\n",
       "\\item 33.4187894736842\n",
       "\\item 35.7276842105263\n",
       "\\item 38.0365789473684\n",
       "\\item 40.3454736842105\n",
       "\\item 42.6543684210526\n",
       "\\item 44.9632631578947\n",
       "\\item 47.2721578947368\n",
       "\\item 49.5810526315789\n",
       "\\item 51.889947368421\n",
       "\\item 54.1988421052632\n",
       "\\item 56.5077368421053\n",
       "\\item 58.8166315789474\n",
       "\\item 61.1255263157895\n",
       "\\item 63.4344210526316\n",
       "\\item 65.7433157894737\n",
       "\\item 68.0522105263158\n",
       "\\item 70.3611052631579\n",
       "\\item 72.67\n",
       "\\end{enumerate*}\n"
      ],
      "text/markdown": [
       "1. 28.801\n",
       "2. 31.1098947368421\n",
       "3. 33.4187894736842\n",
       "4. 35.7276842105263\n",
       "5. 38.0365789473684\n",
       "6. 40.3454736842105\n",
       "7. 42.6543684210526\n",
       "8. 44.9632631578947\n",
       "9. 47.2721578947368\n",
       "10. 49.5810526315789\n",
       "11. 51.889947368421\n",
       "12. 54.1988421052632\n",
       "13. 56.5077368421053\n",
       "14. 58.8166315789474\n",
       "15. 61.1255263157895\n",
       "16. 63.4344210526316\n",
       "17. 65.7433157894737\n",
       "18. 68.0522105263158\n",
       "19. 70.3611052631579\n",
       "20. 72.67\n",
       "\n",
       "\n"
      ],
      "text/plain": [
       " [1] 28.80100 31.10989 33.41879 35.72768 38.03658 40.34547 42.65437 44.96326\n",
       " [9] 47.27216 49.58105 51.88995 54.19884 56.50774 58.81663 61.12553 63.43442\n",
       "[17] 65.74332 68.05221 70.36111 72.67000"
      ]
     },
     "metadata": {},
     "output_type": "display_data"
    }
   ],
   "source": [
    "qs"
   ]
  },
  {
   "cell_type": "code",
   "execution_count": 21,
   "metadata": {},
   "outputs": [],
   "source": [
    "props = sapply(qs, prop)"
   ]
  },
  {
   "cell_type": "code",
   "execution_count": 22,
   "metadata": {},
   "outputs": [
    {
     "data": {
      "text/html": [
       "<style>\n",
       ".list-inline {list-style: none; margin:0; padding: 0}\n",
       ".list-inline>li {display: inline-block}\n",
       ".list-inline>li:not(:last-child)::after {content: \"\\00b7\"; padding: 0 .5ex}\n",
       "</style>\n",
       "<ol class=list-inline><li>0.00704225352112676</li><li>0.028169014084507</li><li>0.0633802816901408</li><li>0.105633802816901</li><li>0.204225352112676</li><li>0.288732394366197</li><li>0.408450704225352</li><li>0.492957746478873</li><li>0.535211267605634</li><li>0.577464788732394</li><li>0.626760563380282</li><li>0.640845070422535</li><li>0.683098591549296</li><li>0.71830985915493</li><li>0.774647887323944</li><li>0.809859154929577</li><li>0.852112676056338</li><li>0.922535211267606</li><li>0.964788732394366</li><li>1</li></ol>\n"
      ],
      "text/latex": [
       "\\begin{enumerate*}\n",
       "\\item 0.00704225352112676\n",
       "\\item 0.028169014084507\n",
       "\\item 0.0633802816901408\n",
       "\\item 0.105633802816901\n",
       "\\item 0.204225352112676\n",
       "\\item 0.288732394366197\n",
       "\\item 0.408450704225352\n",
       "\\item 0.492957746478873\n",
       "\\item 0.535211267605634\n",
       "\\item 0.577464788732394\n",
       "\\item 0.626760563380282\n",
       "\\item 0.640845070422535\n",
       "\\item 0.683098591549296\n",
       "\\item 0.71830985915493\n",
       "\\item 0.774647887323944\n",
       "\\item 0.809859154929577\n",
       "\\item 0.852112676056338\n",
       "\\item 0.922535211267606\n",
       "\\item 0.964788732394366\n",
       "\\item 1\n",
       "\\end{enumerate*}\n"
      ],
      "text/markdown": [
       "1. 0.00704225352112676\n",
       "2. 0.028169014084507\n",
       "3. 0.0633802816901408\n",
       "4. 0.105633802816901\n",
       "5. 0.204225352112676\n",
       "6. 0.288732394366197\n",
       "7. 0.408450704225352\n",
       "8. 0.492957746478873\n",
       "9. 0.535211267605634\n",
       "10. 0.577464788732394\n",
       "11. 0.626760563380282\n",
       "12. 0.640845070422535\n",
       "13. 0.683098591549296\n",
       "14. 0.71830985915493\n",
       "15. 0.774647887323944\n",
       "16. 0.809859154929577\n",
       "17. 0.852112676056338\n",
       "18. 0.922535211267606\n",
       "19. 0.964788732394366\n",
       "20. 1\n",
       "\n",
       "\n"
      ],
      "text/plain": [
       " [1] 0.007042254 0.028169014 0.063380282 0.105633803 0.204225352 0.288732394\n",
       " [7] 0.408450704 0.492957746 0.535211268 0.577464789 0.626760563 0.640845070\n",
       "[13] 0.683098592 0.718309859 0.774647887 0.809859155 0.852112676 0.922535211\n",
       "[19] 0.964788732 1.000000000"
      ]
     },
     "metadata": {},
     "output_type": "display_data"
    }
   ],
   "source": [
    "props"
   ]
  },
  {
   "cell_type": "code",
   "execution_count": 23,
   "metadata": {},
   "outputs": [
    {
     "data": {
      "image/png": "[encoded data removed]",
      "text/plain": [
       "Plot with title “Histogram of qs”"
      ]
     },
     "metadata": {
      "image/png": {
       "height": 420,
       "width": 420
      }
     },
     "output_type": "display_data"
    }
   ],
   "source": [
    "hist(qs)"
   ]
  },
  {
   "cell_type": "code",
   "execution_count": 24,
   "metadata": {},
   "outputs": [],
   "source": [
    "props = sapply(qs, function(q) mean(x <= q))"
   ]
  },
  {
   "cell_type": "code",
   "execution_count": 25,
   "metadata": {},
   "outputs": [
    {
     "data": {
      "text/html": [
       "<style>\n",
       ".list-inline {list-style: none; margin:0; padding: 0}\n",
       ".list-inline>li {display: inline-block}\n",
       ".list-inline>li:not(:last-child)::after {content: \"\\00b7\"; padding: 0 .5ex}\n",
       "</style>\n",
       "<ol class=list-inline><li>0.00704225352112676</li><li>0.028169014084507</li><li>0.0633802816901408</li><li>0.105633802816901</li><li>0.204225352112676</li><li>0.288732394366197</li><li>0.408450704225352</li><li>0.492957746478873</li><li>0.535211267605634</li><li>0.577464788732394</li><li>0.626760563380282</li><li>0.640845070422535</li><li>0.683098591549296</li><li>0.71830985915493</li><li>0.774647887323944</li><li>0.809859154929577</li><li>0.852112676056338</li><li>0.922535211267606</li><li>0.964788732394366</li><li>1</li></ol>\n"
      ],
      "text/latex": [
       "\\begin{enumerate*}\n",
       "\\item 0.00704225352112676\n",
       "\\item 0.028169014084507\n",
       "\\item 0.0633802816901408\n",
       "\\item 0.105633802816901\n",
       "\\item 0.204225352112676\n",
       "\\item 0.288732394366197\n",
       "\\item 0.408450704225352\n",
       "\\item 0.492957746478873\n",
       "\\item 0.535211267605634\n",
       "\\item 0.577464788732394\n",
       "\\item 0.626760563380282\n",
       "\\item 0.640845070422535\n",
       "\\item 0.683098591549296\n",
       "\\item 0.71830985915493\n",
       "\\item 0.774647887323944\n",
       "\\item 0.809859154929577\n",
       "\\item 0.852112676056338\n",
       "\\item 0.922535211267606\n",
       "\\item 0.964788732394366\n",
       "\\item 1\n",
       "\\end{enumerate*}\n"
      ],
      "text/markdown": [
       "1. 0.00704225352112676\n",
       "2. 0.028169014084507\n",
       "3. 0.0633802816901408\n",
       "4. 0.105633802816901\n",
       "5. 0.204225352112676\n",
       "6. 0.288732394366197\n",
       "7. 0.408450704225352\n",
       "8. 0.492957746478873\n",
       "9. 0.535211267605634\n",
       "10. 0.577464788732394\n",
       "11. 0.626760563380282\n",
       "12. 0.640845070422535\n",
       "13. 0.683098591549296\n",
       "14. 0.71830985915493\n",
       "15. 0.774647887323944\n",
       "16. 0.809859154929577\n",
       "17. 0.852112676056338\n",
       "18. 0.922535211267606\n",
       "19. 0.964788732394366\n",
       "20. 1\n",
       "\n",
       "\n"
      ],
      "text/plain": [
       " [1] 0.007042254 0.028169014 0.063380282 0.105633803 0.204225352 0.288732394\n",
       " [7] 0.408450704 0.492957746 0.535211268 0.577464789 0.626760563 0.640845070\n",
       "[13] 0.683098592 0.718309859 0.774647887 0.809859155 0.852112676 0.922535211\n",
       "[19] 0.964788732 1.000000000"
      ]
     },
     "metadata": {},
     "output_type": "display_data"
    }
   ],
   "source": [
    "props"
   ]
  },
  {
   "cell_type": "code",
   "execution_count": 26,
   "metadata": {},
   "outputs": [
    {
     "data": {
      "image/png": "[encoded data removed]",
      "text/plain": [
       "Plot with title “ecdf(x)”"
      ]
     },
     "metadata": {
      "image/png": {
       "height": 420,
       "width": 420
      }
     },
     "output_type": "display_data"
    }
   ],
   "source": [
    "plot(ecdf(x))"
   ]
  },
  {
   "cell_type": "code",
   "execution_count": null,
   "metadata": {},
   "outputs": [],
   "source": []
  }
 ],
 "metadata": {
  "kernelspec": {
   "display_name": "R",
   "language": "R",
   "name": "ir"
  },
  "language_info": {
   "codemirror_mode": "r",
   "file_extension": ".r",
   "mimetype": "text/x-r-source",
   "name": "R",
   "pygments_lexer": "r",
   "version": "4.0.2"
  }
 },
 "nbformat": 4,
 "nbformat_minor": 4
}
