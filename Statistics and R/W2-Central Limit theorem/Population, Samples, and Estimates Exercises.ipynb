{
 "cells": [
  {
   "cell_type": "code",
   "execution_count": 1,
   "metadata": {},
   "outputs": [],
   "source": [
    "# install.packages(\"rafalib\")"
   ]
  },
  {
   "cell_type": "code",
   "execution_count": 2,
   "metadata": {},
   "outputs": [
    {
     "name": "stderr",
     "output_type": "stream",
     "text": [
      "\n",
      "Attaching package: ‘dplyr’\n",
      "\n",
      "\n",
      "The following objects are masked from ‘package:stats’:\n",
      "\n",
      "    filter, lag\n",
      "\n",
      "\n",
      "The following objects are masked from ‘package:base’:\n",
      "\n",
      "    intersect, setdiff, setequal, union\n",
      "\n",
      "\n",
      "------------------------------------------------------------------------------\n",
      "\n",
      "You have loaded plyr after dplyr - this is likely to cause problems.\n",
      "If you need functions from both plyr and dplyr, please load plyr first, then dplyr:\n",
      "library(plyr); library(dplyr)\n",
      "\n",
      "------------------------------------------------------------------------------\n",
      "\n",
      "\n",
      "Attaching package: ‘plyr’\n",
      "\n",
      "\n",
      "The following objects are masked from ‘package:dplyr’:\n",
      "\n",
      "    arrange, count, desc, failwith, id, mutate, rename, summarise,\n",
      "    summarize\n",
      "\n",
      "\n"
     ]
    }
   ],
   "source": [
    "library(dplyr)\n",
    "library(plyr)\n",
    "library(rafalib)"
   ]
  },
  {
   "cell_type": "markdown",
   "metadata": {},
   "source": [
    "# 1"
   ]
  },
  {
   "cell_type": "code",
   "execution_count": 3,
   "metadata": {},
   "outputs": [],
   "source": [
    "dat <- read.csv('../dagdata/inst/extdata/mice_pheno.csv')\n",
    "# dat <- read.csv('mice_pheno.csv')"
   ]
  },
  {
   "cell_type": "code",
   "execution_count": 4,
   "metadata": {},
   "outputs": [
    {
     "data": {
      "text/html": [
       "<table>\n",
       "<caption>A data.frame: 6 × 3</caption>\n",
       "<thead>\n",
       "\t<tr><th></th><th scope=col>Sex</th><th scope=col>Diet</th><th scope=col>Bodyweight</th></tr>\n",
       "\t<tr><th></th><th scope=col>&lt;chr&gt;</th><th scope=col>&lt;chr&gt;</th><th scope=col>&lt;dbl&gt;</th></tr>\n",
       "</thead>\n",
       "<tbody>\n",
       "\t<tr><th scope=row>1</th><td>F</td><td>hf</td><td>31.94</td></tr>\n",
       "\t<tr><th scope=row>2</th><td>F</td><td>hf</td><td>32.48</td></tr>\n",
       "\t<tr><th scope=row>3</th><td>F</td><td>hf</td><td>22.82</td></tr>\n",
       "\t<tr><th scope=row>4</th><td>F</td><td>hf</td><td>19.92</td></tr>\n",
       "\t<tr><th scope=row>5</th><td>F</td><td>hf</td><td>32.22</td></tr>\n",
       "\t<tr><th scope=row>6</th><td>F</td><td>hf</td><td>27.50</td></tr>\n",
       "</tbody>\n",
       "</table>\n"
      ],
      "text/latex": [
       "A data.frame: 6 × 3\n",
       "\\begin{tabular}{r|lll}\n",
       "  & Sex & Diet & Bodyweight\\\\\n",
       "  & <chr> & <chr> & <dbl>\\\\\n",
       "\\hline\n",
       "\t1 & F & hf & 31.94\\\\\n",
       "\t2 & F & hf & 32.48\\\\\n",
       "\t3 & F & hf & 22.82\\\\\n",
       "\t4 & F & hf & 19.92\\\\\n",
       "\t5 & F & hf & 32.22\\\\\n",
       "\t6 & F & hf & 27.50\\\\\n",
       "\\end{tabular}\n"
      ],
      "text/markdown": [
       "\n",
       "A data.frame: 6 × 3\n",
       "\n",
       "| <!--/--> | Sex &lt;chr&gt; | Diet &lt;chr&gt; | Bodyweight &lt;dbl&gt; |\n",
       "|---|---|---|---|\n",
       "| 1 | F | hf | 31.94 |\n",
       "| 2 | F | hf | 32.48 |\n",
       "| 3 | F | hf | 22.82 |\n",
       "| 4 | F | hf | 19.92 |\n",
       "| 5 | F | hf | 32.22 |\n",
       "| 6 | F | hf | 27.50 |\n",
       "\n"
      ],
      "text/plain": [
       "  Sex Diet Bodyweight\n",
       "1 F   hf   31.94     \n",
       "2 F   hf   32.48     \n",
       "3 F   hf   22.82     \n",
       "4 F   hf   19.92     \n",
       "5 F   hf   32.22     \n",
       "6 F   hf   27.50     "
      ]
     },
     "metadata": {},
     "output_type": "display_data"
    }
   ],
   "source": [
    "head(dat)"
   ]
  },
  {
   "cell_type": "code",
   "execution_count": 5,
   "metadata": {},
   "outputs": [],
   "source": [
    "dat <- na.omit( dat )"
   ]
  },
  {
   "cell_type": "code",
   "execution_count": 6,
   "metadata": {},
   "outputs": [
    {
     "data": {
      "text/html": [
       "<table>\n",
       "<caption>A data.frame: 2 × 2</caption>\n",
       "<thead>\n",
       "\t<tr><th scope=col>Diet</th><th scope=col>freq</th></tr>\n",
       "\t<tr><th scope=col>&lt;chr&gt;</th><th scope=col>&lt;int&gt;</th></tr>\n",
       "</thead>\n",
       "<tbody>\n",
       "\t<tr><td>chow</td><td>448</td></tr>\n",
       "\t<tr><td>hf  </td><td>393</td></tr>\n",
       "</tbody>\n",
       "</table>\n"
      ],
      "text/latex": [
       "A data.frame: 2 × 2\n",
       "\\begin{tabular}{ll}\n",
       " Diet & freq\\\\\n",
       " <chr> & <int>\\\\\n",
       "\\hline\n",
       "\t chow & 448\\\\\n",
       "\t hf   & 393\\\\\n",
       "\\end{tabular}\n"
      ],
      "text/markdown": [
       "\n",
       "A data.frame: 2 × 2\n",
       "\n",
       "| Diet &lt;chr&gt; | freq &lt;int&gt; |\n",
       "|---|---|\n",
       "| chow | 448 |\n",
       "| hf   | 393 |\n",
       "\n"
      ],
      "text/plain": [
       "  Diet freq\n",
       "1 chow 448 \n",
       "2 hf   393 "
      ]
     },
     "metadata": {},
     "output_type": "display_data"
    }
   ],
   "source": [
    "count(dat, vars='Diet')"
   ]
  },
  {
   "cell_type": "code",
   "execution_count": 7,
   "metadata": {},
   "outputs": [
    {
     "data": {
      "text/html": [
       "27.4128125"
      ],
      "text/latex": [
       "27.4128125"
      ],
      "text/markdown": [
       "27.4128125"
      ],
      "text/plain": [
       "[1] 27.41281"
      ]
     },
     "metadata": {},
     "output_type": "display_data"
    }
   ],
   "source": [
    "mean(filter(dat, Diet=='chow')$Bodyweight)"
   ]
  },
  {
   "cell_type": "code",
   "execution_count": 8,
   "metadata": {},
   "outputs": [
    {
     "data": {
      "text/html": [
       "841"
      ],
      "text/latex": [
       "841"
      ],
      "text/markdown": [
       "841"
      ],
      "text/plain": [
       "[1] 841"
      ]
     },
     "metadata": {},
     "output_type": "display_data"
    }
   ],
   "source": [
    "nrow(dat)"
   ]
  },
  {
   "cell_type": "code",
   "execution_count": 36,
   "metadata": {},
   "outputs": [
    {
     "data": {
      "text/html": [
       "30.9638116591928"
      ],
      "text/latex": [
       "30.9638116591928"
      ],
      "text/markdown": [
       "30.9638116591928"
      ],
      "text/plain": [
       "[1] 30.96381"
      ]
     },
     "metadata": {},
     "output_type": "display_data"
    }
   ],
   "source": [
    "# Answer from Edx\n",
    "x <- filter(dat, Sex==\"M\" & Diet==\"chow\") %>% select(Bodyweight) %>% unlist\n",
    "x_bar = mean(x)\n",
    "x_bar"
   ]
  },
  {
   "cell_type": "markdown",
   "metadata": {},
   "source": [
    "# 2"
   ]
  },
  {
   "cell_type": "code",
   "execution_count": 19,
   "metadata": {},
   "outputs": [
    {
     "data": {
      "text/html": [
       "4.42050058042843"
      ],
      "text/latex": [
       "4.42050058042843"
      ],
      "text/markdown": [
       "4.42050058042843"
      ],
      "text/plain": [
       "[1] 4.420501"
      ]
     },
     "metadata": {},
     "output_type": "display_data"
    }
   ],
   "source": [
    "popsd(x)"
   ]
  },
  {
   "cell_type": "code",
   "execution_count": 35,
   "metadata": {},
   "outputs": [
    {
     "data": {
      "text/html": [
       "30.5196"
      ],
      "text/latex": [
       "30.5196"
      ],
      "text/markdown": [
       "30.5196"
      ],
      "text/plain": [
       "[1] 30.5196"
      ]
     },
     "metadata": {},
     "output_type": "display_data"
    }
   ],
   "source": [
    "set.seed(1)\n",
    "X_bar = mean(sample(x, 25))\n",
    "X_bar"
   ]
  },
  {
   "cell_type": "code",
   "execution_count": 31,
   "metadata": {},
   "outputs": [],
   "source": [
    "y <- filter(dat, Sex==\"M\" & Diet==\"hf\") %>% select(Bodyweight) %>% unlist"
   ]
  },
  {
   "cell_type": "code",
   "execution_count": 37,
   "metadata": {},
   "outputs": [
    {
     "data": {
      "text/html": [
       "34.8479274611399"
      ],
      "text/latex": [
       "34.8479274611399"
      ],
      "text/markdown": [
       "34.8479274611399"
      ],
      "text/plain": [
       "[1] 34.84793"
      ]
     },
     "metadata": {},
     "output_type": "display_data"
    }
   ],
   "source": [
    "y_bar = mean(y)\n",
    "y_bar"
   ]
  },
  {
   "cell_type": "code",
   "execution_count": 33,
   "metadata": {},
   "outputs": [
    {
     "data": {
      "text/html": [
       "5.57460905991657"
      ],
      "text/latex": [
       "5.57460905991657"
      ],
      "text/markdown": [
       "5.57460905991657"
      ],
      "text/plain": [
       "[1] 5.574609"
      ]
     },
     "metadata": {},
     "output_type": "display_data"
    }
   ],
   "source": [
    "popsd(y)"
   ]
  },
  {
   "cell_type": "code",
   "execution_count": 39,
   "metadata": {},
   "outputs": [
    {
     "data": {
      "text/html": [
       "35.8036"
      ],
      "text/latex": [
       "35.8036"
      ],
      "text/markdown": [
       "35.8036"
      ],
      "text/plain": [
       "[1] 35.8036"
      ]
     },
     "metadata": {},
     "output_type": "display_data"
    }
   ],
   "source": [
    "set.seed(1)\n",
    "Y_bar = mean(sample(y, 25))\n",
    "Y_bar"
   ]
  },
  {
   "cell_type": "code",
   "execution_count": 40,
   "metadata": {},
   "outputs": [
    {
     "data": {
      "text/html": [
       "1.39988419805293"
      ],
      "text/latex": [
       "1.39988419805293"
      ],
      "text/markdown": [
       "1.39988419805293"
      ],
      "text/plain": [
       "[1] 1.399884"
      ]
     },
     "metadata": {},
     "output_type": "display_data"
    }
   ],
   "source": [
    "abs((y_bar - x_bar)-(Y_bar - X_bar))"
   ]
  },
  {
   "cell_type": "markdown",
   "metadata": {},
   "source": [
    "# 8"
   ]
  },
  {
   "cell_type": "code",
   "execution_count": 42,
   "metadata": {},
   "outputs": [],
   "source": [
    "x <- filter(dat, Sex==\"F\" & Diet==\"chow\") %>% select(Bodyweight) %>% unlist\n",
    "x_bar = mean(x)\n",
    "y <- filter(dat, Sex==\"F\" & Diet==\"hf\") %>% select(Bodyweight) %>% unlist\n",
    "y_bar = mean(y)\n",
    "set.seed(2)\n",
    "X_bar = mean(sample(x, 25))\n",
    "set.seed(2)\n",
    "Y_bar = mean(sample(y, 25))"
   ]
  },
  {
   "cell_type": "code",
   "execution_count": 43,
   "metadata": {},
   "outputs": [
    {
     "data": {
      "text/html": [
       "0.364717222222222"
      ],
      "text/latex": [
       "0.364717222222222"
      ],
      "text/markdown": [
       "0.364717222222222"
      ],
      "text/plain": [
       "[1] 0.3647172"
      ]
     },
     "metadata": {},
     "output_type": "display_data"
    }
   ],
   "source": [
    "abs((y_bar - x_bar)-(Y_bar - X_bar))"
   ]
  },
  {
   "cell_type": "code",
   "execution_count": 44,
   "metadata": {},
   "outputs": [
    {
     "data": {
      "text/html": [
       "5.06986968116292"
      ],
      "text/latex": [
       "5.06986968116292"
      ],
      "text/markdown": [
       "5.06986968116292"
      ],
      "text/plain": [
       "[1] 5.06987"
      ]
     },
     "metadata": {},
     "output_type": "display_data"
    }
   ],
   "source": [
    "popsd(y)"
   ]
  },
  {
   "cell_type": "code",
   "execution_count": 45,
   "metadata": {},
   "outputs": [
    {
     "data": {
      "text/html": [
       "3.41643845279384"
      ],
      "text/latex": [
       "3.41643845279384"
      ],
      "text/markdown": [
       "3.41643845279384"
      ],
      "text/plain": [
       "[1] 3.416438"
      ]
     },
     "metadata": {},
     "output_type": "display_data"
    }
   ],
   "source": [
    "popsd(x)"
   ]
  },
  {
   "cell_type": "code",
   "execution_count": null,
   "metadata": {},
   "outputs": [],
   "source": []
  }
 ],
 "metadata": {
  "kernelspec": {
   "display_name": "R",
   "language": "R",
   "name": "ir"
  },
  "language_info": {
   "codemirror_mode": "r",
   "file_extension": ".r",
   "mimetype": "text/x-r-source",
   "name": "R",
   "pygments_lexer": "r",
   "version": "4.0.2"
  }
 },
 "nbformat": 4,
 "nbformat_minor": 4
}
