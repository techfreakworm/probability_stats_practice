{
 "cells": [
  {
   "cell_type": "code",
   "execution_count": 1,
   "metadata": {},
   "outputs": [
    {
     "name": "stderr",
     "output_type": "stream",
     "text": [
      "\n",
      "Attaching package: ‘dplyr’\n",
      "\n",
      "\n",
      "The following objects are masked from ‘package:stats’:\n",
      "\n",
      "    filter, lag\n",
      "\n",
      "\n",
      "The following objects are masked from ‘package:base’:\n",
      "\n",
      "    intersect, setdiff, setequal, union\n",
      "\n",
      "\n"
     ]
    }
   ],
   "source": [
    "library(dplyr)"
   ]
  },
  {
   "cell_type": "code",
   "execution_count": 2,
   "metadata": {},
   "outputs": [],
   "source": [
    "dat <- read.csv('../dagdata/inst/extdata/femaleMiceWeights.csv')"
   ]
  },
  {
   "cell_type": "code",
   "execution_count": 4,
   "metadata": {},
   "outputs": [],
   "source": [
    "n=100\n",
    "x=sample(1:6, n, replace=TRUE)"
   ]
  },
  {
   "cell_type": "code",
   "execution_count": 5,
   "metadata": {},
   "outputs": [
    {
     "data": {
      "text/html": [
       "<style>\n",
       ".list-inline {list-style: none; margin:0; padding: 0}\n",
       ".list-inline>li {display: inline-block}\n",
       ".list-inline>li:not(:last-child)::after {content: \"\\00b7\"; padding: 0 .5ex}\n",
       "</style>\n",
       "<ol class=list-inline><li>6</li><li>6</li><li>1</li><li>6</li><li>2</li><li>1</li><li>6</li><li>6</li><li>2</li><li>2</li><li>4</li><li>2</li><li>2</li><li>5</li><li>4</li><li>4</li><li>2</li><li>3</li><li>4</li><li>4</li><li>2</li><li>3</li><li>2</li><li>4</li><li>6</li><li>5</li><li>3</li><li>3</li><li>3</li><li>5</li><li>2</li><li>5</li><li>4</li><li>3</li><li>3</li><li>5</li><li>6</li><li>3</li><li>1</li><li>6</li><li>3</li><li>3</li><li>3</li><li>5</li><li>4</li><li>5</li><li>4</li><li>5</li><li>2</li><li>4</li><li>5</li><li>2</li><li>1</li><li>4</li><li>3</li><li>5</li><li>6</li><li>5</li><li>6</li><li>5</li><li>5</li><li>6</li><li>2</li><li>2</li><li>4</li><li>4</li><li>4</li><li>5</li><li>1</li><li>3</li><li>2</li><li>3</li><li>5</li><li>4</li><li>1</li><li>2</li><li>3</li><li>1</li><li>1</li><li>3</li><li>4</li><li>6</li><li>3</li><li>5</li><li>3</li><li>4</li><li>1</li><li>2</li><li>6</li><li>1</li><li>2</li><li>6</li><li>2</li><li>4</li><li>3</li><li>6</li><li>6</li><li>2</li><li>1</li><li>6</li></ol>\n"
      ],
      "text/latex": [
       "\\begin{enumerate*}\n",
       "\\item 6\n",
       "\\item 6\n",
       "\\item 1\n",
       "\\item 6\n",
       "\\item 2\n",
       "\\item 1\n",
       "\\item 6\n",
       "\\item 6\n",
       "\\item 2\n",
       "\\item 2\n",
       "\\item 4\n",
       "\\item 2\n",
       "\\item 2\n",
       "\\item 5\n",
       "\\item 4\n",
       "\\item 4\n",
       "\\item 2\n",
       "\\item 3\n",
       "\\item 4\n",
       "\\item 4\n",
       "\\item 2\n",
       "\\item 3\n",
       "\\item 2\n",
       "\\item 4\n",
       "\\item 6\n",
       "\\item 5\n",
       "\\item 3\n",
       "\\item 3\n",
       "\\item 3\n",
       "\\item 5\n",
       "\\item 2\n",
       "\\item 5\n",
       "\\item 4\n",
       "\\item 3\n",
       "\\item 3\n",
       "\\item 5\n",
       "\\item 6\n",
       "\\item 3\n",
       "\\item 1\n",
       "\\item 6\n",
       "\\item 3\n",
       "\\item 3\n",
       "\\item 3\n",
       "\\item 5\n",
       "\\item 4\n",
       "\\item 5\n",
       "\\item 4\n",
       "\\item 5\n",
       "\\item 2\n",
       "\\item 4\n",
       "\\item 5\n",
       "\\item 2\n",
       "\\item 1\n",
       "\\item 4\n",
       "\\item 3\n",
       "\\item 5\n",
       "\\item 6\n",
       "\\item 5\n",
       "\\item 6\n",
       "\\item 5\n",
       "\\item 5\n",
       "\\item 6\n",
       "\\item 2\n",
       "\\item 2\n",
       "\\item 4\n",
       "\\item 4\n",
       "\\item 4\n",
       "\\item 5\n",
       "\\item 1\n",
       "\\item 3\n",
       "\\item 2\n",
       "\\item 3\n",
       "\\item 5\n",
       "\\item 4\n",
       "\\item 1\n",
       "\\item 2\n",
       "\\item 3\n",
       "\\item 1\n",
       "\\item 1\n",
       "\\item 3\n",
       "\\item 4\n",
       "\\item 6\n",
       "\\item 3\n",
       "\\item 5\n",
       "\\item 3\n",
       "\\item 4\n",
       "\\item 1\n",
       "\\item 2\n",
       "\\item 6\n",
       "\\item 1\n",
       "\\item 2\n",
       "\\item 6\n",
       "\\item 2\n",
       "\\item 4\n",
       "\\item 3\n",
       "\\item 6\n",
       "\\item 6\n",
       "\\item 2\n",
       "\\item 1\n",
       "\\item 6\n",
       "\\end{enumerate*}\n"
      ],
      "text/markdown": [
       "1. 6\n",
       "2. 6\n",
       "3. 1\n",
       "4. 6\n",
       "5. 2\n",
       "6. 1\n",
       "7. 6\n",
       "8. 6\n",
       "9. 2\n",
       "10. 2\n",
       "11. 4\n",
       "12. 2\n",
       "13. 2\n",
       "14. 5\n",
       "15. 4\n",
       "16. 4\n",
       "17. 2\n",
       "18. 3\n",
       "19. 4\n",
       "20. 4\n",
       "21. 2\n",
       "22. 3\n",
       "23. 2\n",
       "24. 4\n",
       "25. 6\n",
       "26. 5\n",
       "27. 3\n",
       "28. 3\n",
       "29. 3\n",
       "30. 5\n",
       "31. 2\n",
       "32. 5\n",
       "33. 4\n",
       "34. 3\n",
       "35. 3\n",
       "36. 5\n",
       "37. 6\n",
       "38. 3\n",
       "39. 1\n",
       "40. 6\n",
       "41. 3\n",
       "42. 3\n",
       "43. 3\n",
       "44. 5\n",
       "45. 4\n",
       "46. 5\n",
       "47. 4\n",
       "48. 5\n",
       "49. 2\n",
       "50. 4\n",
       "51. 5\n",
       "52. 2\n",
       "53. 1\n",
       "54. 4\n",
       "55. 3\n",
       "56. 5\n",
       "57. 6\n",
       "58. 5\n",
       "59. 6\n",
       "60. 5\n",
       "61. 5\n",
       "62. 6\n",
       "63. 2\n",
       "64. 2\n",
       "65. 4\n",
       "66. 4\n",
       "67. 4\n",
       "68. 5\n",
       "69. 1\n",
       "70. 3\n",
       "71. 2\n",
       "72. 3\n",
       "73. 5\n",
       "74. 4\n",
       "75. 1\n",
       "76. 2\n",
       "77. 3\n",
       "78. 1\n",
       "79. 1\n",
       "80. 3\n",
       "81. 4\n",
       "82. 6\n",
       "83. 3\n",
       "84. 5\n",
       "85. 3\n",
       "86. 4\n",
       "87. 1\n",
       "88. 2\n",
       "89. 6\n",
       "90. 1\n",
       "91. 2\n",
       "92. 6\n",
       "93. 2\n",
       "94. 4\n",
       "95. 3\n",
       "96. 6\n",
       "97. 6\n",
       "98. 2\n",
       "99. 1\n",
       "100. 6\n",
       "\n",
       "\n"
      ],
      "text/plain": [
       "  [1] 6 6 1 6 2 1 6 6 2 2 4 2 2 5 4 4 2 3 4 4 2 3 2 4 6 5 3 3 3 5 2 5 4 3 3 5 6\n",
       " [38] 3 1 6 3 3 3 5 4 5 4 5 2 4 5 2 1 4 3 5 6 5 6 5 5 6 2 2 4 4 4 5 1 3 2 3 5 4\n",
       " [75] 1 2 3 1 1 3 4 6 3 5 3 4 1 2 6 1 2 6 2 4 3 6 6 2 1 6"
      ]
     },
     "metadata": {},
     "output_type": "display_data"
    }
   ],
   "source": [
    "x"
   ]
  },
  {
   "cell_type": "code",
   "execution_count": 6,
   "metadata": {},
   "outputs": [
    {
     "data": {
      "text/html": [
       "0.17"
      ],
      "text/latex": [
       "0.17"
      ],
      "text/markdown": [
       "0.17"
      ],
      "text/plain": [
       "[1] 0.17"
      ]
     },
     "metadata": {},
     "output_type": "display_data"
    }
   ],
   "source": [
    "mean(x==6)"
   ]
  },
  {
   "cell_type": "code",
   "execution_count": 7,
   "metadata": {},
   "outputs": [
    {
     "data": {
      "text/html": [
       "0.166666666666667"
      ],
      "text/latex": [
       "0.166666666666667"
      ],
      "text/markdown": [
       "0.166666666666667"
      ],
      "text/plain": [
       "[1] 0.1666667"
      ]
     },
     "metadata": {},
     "output_type": "display_data"
    }
   ],
   "source": [
    "1/6"
   ]
  },
  {
   "cell_type": "code",
   "execution_count": 9,
   "metadata": {},
   "outputs": [],
   "source": [
    "p=1/6"
   ]
  },
  {
   "cell_type": "code",
   "execution_count": 10,
   "metadata": {},
   "outputs": [],
   "source": [
    "z = (mean(x==6) - p) / sqrt(p*(1-p)/n)"
   ]
  },
  {
   "cell_type": "code",
   "execution_count": 11,
   "metadata": {},
   "outputs": [
    {
     "data": {
      "text/html": [
       "0.0894427190999922"
      ],
      "text/latex": [
       "0.0894427190999922"
      ],
      "text/markdown": [
       "0.0894427190999922"
      ],
      "text/plain": [
       "[1] 0.08944272"
      ]
     },
     "metadata": {},
     "output_type": "display_data"
    }
   ],
   "source": [
    "z"
   ]
  },
  {
   "cell_type": "code",
   "execution_count": 12,
   "metadata": {},
   "outputs": [
    {
     "data": {
      "text/html": [
       "0.535634962717599"
      ],
      "text/latex": [
       "0.535634962717599"
      ],
      "text/markdown": [
       "0.535634962717599"
      ],
      "text/plain": [
       "[1] 0.535635"
      ]
     },
     "metadata": {},
     "output_type": "display_data"
    }
   ],
   "source": [
    "pnorm(z)"
   ]
  },
  {
   "cell_type": "code",
   "execution_count": 13,
   "metadata": {},
   "outputs": [
    {
     "data": {
      "text/html": [
       "0.928730074564802"
      ],
      "text/latex": [
       "0.928730074564802"
      ],
      "text/markdown": [
       "0.928730074564802"
      ],
      "text/plain": [
       "[1] 0.9287301"
      ]
     },
     "metadata": {},
     "output_type": "display_data"
    }
   ],
   "source": [
    "2*(1 - pnorm(z))"
   ]
  },
  {
   "cell_type": "code",
   "execution_count": null,
   "metadata": {},
   "outputs": [],
   "source": []
  }
 ],
 "metadata": {
  "kernelspec": {
   "display_name": "R",
   "language": "R",
   "name": "ir"
  },
  "language_info": {
   "codemirror_mode": "r",
   "file_extension": ".r",
   "mimetype": "text/x-r-source",
   "name": "R",
   "pygments_lexer": "r",
   "version": "4.0.2"
  }
 },
 "nbformat": 4,
 "nbformat_minor": 4
}
