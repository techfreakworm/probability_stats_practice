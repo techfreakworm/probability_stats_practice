{
 "cells": [
  {
   "cell_type": "code",
   "execution_count": 1,
   "metadata": {},
   "outputs": [
    {
     "name": "stdout",
     "output_type": "stream",
     "text": [
      "\n",
      "The downloaded binary packages are in\n",
      "\t/var/folders/4r/qr64vrt52z364sk5wv7jy3yr0000gq/T//RtmpxUEMex/downloaded_packages\n"
     ]
    }
   ],
   "source": [
    "install.packages(\"rafalib\")"
   ]
  },
  {
   "cell_type": "code",
   "execution_count": 2,
   "metadata": {},
   "outputs": [],
   "source": [
    "library(rafalib)"
   ]
  },
  {
   "cell_type": "code",
   "execution_count": 3,
   "metadata": {},
   "outputs": [
    {
     "name": "stderr",
     "output_type": "stream",
     "text": [
      "also installing the dependencies ‘bitops’, ‘RCurl’\n",
      "\n",
      "\n"
     ]
    },
    {
     "name": "stdout",
     "output_type": "stream",
     "text": [
      "\n",
      "The downloaded binary packages are in\n",
      "\t/var/folders/4r/qr64vrt52z364sk5wv7jy3yr0000gq/T//RtmpxUEMex/downloaded_packages\n"
     ]
    }
   ],
   "source": [
    "install.packages(\"swirl\")"
   ]
  },
  {
   "cell_type": "code",
   "execution_count": 4,
   "metadata": {},
   "outputs": [
    {
     "name": "stderr",
     "output_type": "stream",
     "text": [
      "\n",
      "| Hi! Type swirl() when you are ready to begin.\n",
      "\n",
      "\n"
     ]
    }
   ],
   "source": [
    "library(swirl)"
   ]
  },
  {
   "cell_type": "code",
   "execution_count": 5,
   "metadata": {},
   "outputs": [],
   "source": [
    "swirl()"
   ]
  },
  {
   "cell_type": "code",
   "execution_count": 6,
   "metadata": {},
   "outputs": [
    {
     "name": "stderr",
     "output_type": "stream",
     "text": [
      "Warning message:\n",
      "“In seq.default(2.23, 3.45, 1.87, 2.11, 7.33, 18.34, 19.23) :\n",
      " extra arguments  will be disregarded”\n"
     ]
    },
    {
     "ename": "ERROR",
     "evalue": "Error in seq.default(2.23, 3.45, 1.87, 2.11, 7.33, 18.34, 19.23): too many arguments\n",
     "output_type": "error",
     "traceback": [
      "Error in seq.default(2.23, 3.45, 1.87, 2.11, 7.33, 18.34, 19.23): too many arguments\nTraceback:\n",
      "1. seq(2.23, 3.45, 1.87, 2.11, 7.33, 18.34, 19.23)",
      "2. seq.default(2.23, 3.45, 1.87, 2.11, 7.33, 18.34, 19.23)",
      "3. stop(\"too many arguments\")"
     ]
    }
   ],
   "source": [
    "seq(2.23, 3.45, 1.87, 2.11, 7.33, 18.34, 19.23)"
   ]
  },
  {
   "cell_type": "code",
   "execution_count": 7,
   "metadata": {},
   "outputs": [],
   "source": [
    "Storage<-numeric(5)"
   ]
  },
  {
   "cell_type": "code",
   "execution_count": 27,
   "metadata": {},
   "outputs": [],
   "source": [
    "for(i in 1:25) {\n",
    "    Storage[i]<-i^2\n",
    "}"
   ]
  },
  {
   "cell_type": "code",
   "execution_count": 28,
   "metadata": {},
   "outputs": [
    {
     "data": {
      "text/html": [
       "5525"
      ],
      "text/latex": [
       "5525"
      ],
      "text/markdown": [
       "5525"
      ],
      "text/plain": [
       "[1] 5525"
      ]
     },
     "metadata": {},
     "output_type": "display_data"
    }
   ],
   "source": [
    "sum(Storage)"
   ]
  },
  {
   "cell_type": "code",
   "execution_count": 10,
   "metadata": {},
   "outputs": [],
   "source": [
    "x<-c(2.23, 3.45, 1.87, 2.11, 7.33, 18.34, 19.23)"
   ]
  },
  {
   "cell_type": "code",
   "execution_count": 11,
   "metadata": {},
   "outputs": [
    {
     "data": {
      "text/html": [
       "<style>\n",
       ".list-inline {list-style: none; margin:0; padding: 0}\n",
       ".list-inline>li {display: inline-block}\n",
       ".list-inline>li:not(:last-child)::after {content: \"\\00b7\"; padding: 0 .5ex}\n",
       "</style>\n",
       "<ol class=list-inline><li>2.23</li><li>3.45</li><li>1.87</li><li>2.11</li><li>7.33</li><li>18.34</li><li>19.23</li></ol>\n"
      ],
      "text/latex": [
       "\\begin{enumerate*}\n",
       "\\item 2.23\n",
       "\\item 3.45\n",
       "\\item 1.87\n",
       "\\item 2.11\n",
       "\\item 7.33\n",
       "\\item 18.34\n",
       "\\item 19.23\n",
       "\\end{enumerate*}\n"
      ],
      "text/markdown": [
       "1. 2.23\n",
       "2. 3.45\n",
       "3. 1.87\n",
       "4. 2.11\n",
       "5. 7.33\n",
       "6. 18.34\n",
       "7. 19.23\n",
       "\n",
       "\n"
      ],
      "text/plain": [
       "[1]  2.23  3.45  1.87  2.11  7.33 18.34 19.23"
      ]
     },
     "metadata": {},
     "output_type": "display_data"
    }
   ],
   "source": [
    "x"
   ]
  },
  {
   "cell_type": "code",
   "execution_count": 12,
   "metadata": {},
   "outputs": [
    {
     "data": {
      "text/html": [
       "7"
      ],
      "text/latex": [
       "7"
      ],
      "text/markdown": [
       "7"
      ],
      "text/plain": [
       "[1] 7"
      ]
     },
     "metadata": {},
     "output_type": "display_data"
    }
   ],
   "source": [
    "length(x)"
   ]
  },
  {
   "cell_type": "code",
   "execution_count": 14,
   "metadata": {},
   "outputs": [
    {
     "data": {
      "text/html": [
       "'double'"
      ],
      "text/latex": [
       "'double'"
      ],
      "text/markdown": [
       "'double'"
      ],
      "text/plain": [
       "[1] \"double\""
      ]
     },
     "metadata": {},
     "output_type": "display_data"
    }
   ],
   "source": [
    "typeof(x[i])"
   ]
  },
  {
   "cell_type": "code",
   "execution_count": 16,
   "metadata": {},
   "outputs": [
    {
     "data": {
      "text/html": [
       "7.79428571428571"
      ],
      "text/latex": [
       "7.79428571428571"
      ],
      "text/markdown": [
       "7.79428571428571"
      ],
      "text/plain": [
       "[1] 7.794286"
      ]
     },
     "metadata": {},
     "output_type": "display_data"
    }
   ],
   "source": [
    "mean(x)"
   ]
  },
  {
   "cell_type": "code",
   "execution_count": 17,
   "metadata": {},
   "outputs": [
    {
     "data": {
      "text/html": [
       "<table>\n",
       "<caption>A data.frame: 50 × 2</caption>\n",
       "<thead>\n",
       "\t<tr><th scope=col>speed</th><th scope=col>dist</th></tr>\n",
       "\t<tr><th scope=col>&lt;dbl&gt;</th><th scope=col>&lt;dbl&gt;</th></tr>\n",
       "</thead>\n",
       "<tbody>\n",
       "\t<tr><td> 4</td><td>  2</td></tr>\n",
       "\t<tr><td> 4</td><td> 10</td></tr>\n",
       "\t<tr><td> 7</td><td>  4</td></tr>\n",
       "\t<tr><td> 7</td><td> 22</td></tr>\n",
       "\t<tr><td> 8</td><td> 16</td></tr>\n",
       "\t<tr><td> 9</td><td> 10</td></tr>\n",
       "\t<tr><td>10</td><td> 18</td></tr>\n",
       "\t<tr><td>10</td><td> 26</td></tr>\n",
       "\t<tr><td>10</td><td> 34</td></tr>\n",
       "\t<tr><td>11</td><td> 17</td></tr>\n",
       "\t<tr><td>11</td><td> 28</td></tr>\n",
       "\t<tr><td>12</td><td> 14</td></tr>\n",
       "\t<tr><td>12</td><td> 20</td></tr>\n",
       "\t<tr><td>12</td><td> 24</td></tr>\n",
       "\t<tr><td>12</td><td> 28</td></tr>\n",
       "\t<tr><td>13</td><td> 26</td></tr>\n",
       "\t<tr><td>13</td><td> 34</td></tr>\n",
       "\t<tr><td>13</td><td> 34</td></tr>\n",
       "\t<tr><td>13</td><td> 46</td></tr>\n",
       "\t<tr><td>14</td><td> 26</td></tr>\n",
       "\t<tr><td>14</td><td> 36</td></tr>\n",
       "\t<tr><td>14</td><td> 60</td></tr>\n",
       "\t<tr><td>14</td><td> 80</td></tr>\n",
       "\t<tr><td>15</td><td> 20</td></tr>\n",
       "\t<tr><td>15</td><td> 26</td></tr>\n",
       "\t<tr><td>15</td><td> 54</td></tr>\n",
       "\t<tr><td>16</td><td> 32</td></tr>\n",
       "\t<tr><td>16</td><td> 40</td></tr>\n",
       "\t<tr><td>17</td><td> 32</td></tr>\n",
       "\t<tr><td>17</td><td> 40</td></tr>\n",
       "\t<tr><td>17</td><td> 50</td></tr>\n",
       "\t<tr><td>18</td><td> 42</td></tr>\n",
       "\t<tr><td>18</td><td> 56</td></tr>\n",
       "\t<tr><td>18</td><td> 76</td></tr>\n",
       "\t<tr><td>18</td><td> 84</td></tr>\n",
       "\t<tr><td>19</td><td> 36</td></tr>\n",
       "\t<tr><td>19</td><td> 46</td></tr>\n",
       "\t<tr><td>19</td><td> 68</td></tr>\n",
       "\t<tr><td>20</td><td> 32</td></tr>\n",
       "\t<tr><td>20</td><td> 48</td></tr>\n",
       "\t<tr><td>20</td><td> 52</td></tr>\n",
       "\t<tr><td>20</td><td> 56</td></tr>\n",
       "\t<tr><td>20</td><td> 64</td></tr>\n",
       "\t<tr><td>22</td><td> 66</td></tr>\n",
       "\t<tr><td>23</td><td> 54</td></tr>\n",
       "\t<tr><td>24</td><td> 70</td></tr>\n",
       "\t<tr><td>24</td><td> 92</td></tr>\n",
       "\t<tr><td>24</td><td> 93</td></tr>\n",
       "\t<tr><td>24</td><td>120</td></tr>\n",
       "\t<tr><td>25</td><td> 85</td></tr>\n",
       "</tbody>\n",
       "</table>\n"
      ],
      "text/latex": [
       "A data.frame: 50 × 2\n",
       "\\begin{tabular}{ll}\n",
       " speed & dist\\\\\n",
       " <dbl> & <dbl>\\\\\n",
       "\\hline\n",
       "\t  4 &   2\\\\\n",
       "\t  4 &  10\\\\\n",
       "\t  7 &   4\\\\\n",
       "\t  7 &  22\\\\\n",
       "\t  8 &  16\\\\\n",
       "\t  9 &  10\\\\\n",
       "\t 10 &  18\\\\\n",
       "\t 10 &  26\\\\\n",
       "\t 10 &  34\\\\\n",
       "\t 11 &  17\\\\\n",
       "\t 11 &  28\\\\\n",
       "\t 12 &  14\\\\\n",
       "\t 12 &  20\\\\\n",
       "\t 12 &  24\\\\\n",
       "\t 12 &  28\\\\\n",
       "\t 13 &  26\\\\\n",
       "\t 13 &  34\\\\\n",
       "\t 13 &  34\\\\\n",
       "\t 13 &  46\\\\\n",
       "\t 14 &  26\\\\\n",
       "\t 14 &  36\\\\\n",
       "\t 14 &  60\\\\\n",
       "\t 14 &  80\\\\\n",
       "\t 15 &  20\\\\\n",
       "\t 15 &  26\\\\\n",
       "\t 15 &  54\\\\\n",
       "\t 16 &  32\\\\\n",
       "\t 16 &  40\\\\\n",
       "\t 17 &  32\\\\\n",
       "\t 17 &  40\\\\\n",
       "\t 17 &  50\\\\\n",
       "\t 18 &  42\\\\\n",
       "\t 18 &  56\\\\\n",
       "\t 18 &  76\\\\\n",
       "\t 18 &  84\\\\\n",
       "\t 19 &  36\\\\\n",
       "\t 19 &  46\\\\\n",
       "\t 19 &  68\\\\\n",
       "\t 20 &  32\\\\\n",
       "\t 20 &  48\\\\\n",
       "\t 20 &  52\\\\\n",
       "\t 20 &  56\\\\\n",
       "\t 20 &  64\\\\\n",
       "\t 22 &  66\\\\\n",
       "\t 23 &  54\\\\\n",
       "\t 24 &  70\\\\\n",
       "\t 24 &  92\\\\\n",
       "\t 24 &  93\\\\\n",
       "\t 24 & 120\\\\\n",
       "\t 25 &  85\\\\\n",
       "\\end{tabular}\n"
      ],
      "text/markdown": [
       "\n",
       "A data.frame: 50 × 2\n",
       "\n",
       "| speed &lt;dbl&gt; | dist &lt;dbl&gt; |\n",
       "|---|---|\n",
       "|  4 |   2 |\n",
       "|  4 |  10 |\n",
       "|  7 |   4 |\n",
       "|  7 |  22 |\n",
       "|  8 |  16 |\n",
       "|  9 |  10 |\n",
       "| 10 |  18 |\n",
       "| 10 |  26 |\n",
       "| 10 |  34 |\n",
       "| 11 |  17 |\n",
       "| 11 |  28 |\n",
       "| 12 |  14 |\n",
       "| 12 |  20 |\n",
       "| 12 |  24 |\n",
       "| 12 |  28 |\n",
       "| 13 |  26 |\n",
       "| 13 |  34 |\n",
       "| 13 |  34 |\n",
       "| 13 |  46 |\n",
       "| 14 |  26 |\n",
       "| 14 |  36 |\n",
       "| 14 |  60 |\n",
       "| 14 |  80 |\n",
       "| 15 |  20 |\n",
       "| 15 |  26 |\n",
       "| 15 |  54 |\n",
       "| 16 |  32 |\n",
       "| 16 |  40 |\n",
       "| 17 |  32 |\n",
       "| 17 |  40 |\n",
       "| 17 |  50 |\n",
       "| 18 |  42 |\n",
       "| 18 |  56 |\n",
       "| 18 |  76 |\n",
       "| 18 |  84 |\n",
       "| 19 |  36 |\n",
       "| 19 |  46 |\n",
       "| 19 |  68 |\n",
       "| 20 |  32 |\n",
       "| 20 |  48 |\n",
       "| 20 |  52 |\n",
       "| 20 |  56 |\n",
       "| 20 |  64 |\n",
       "| 22 |  66 |\n",
       "| 23 |  54 |\n",
       "| 24 |  70 |\n",
       "| 24 |  92 |\n",
       "| 24 |  93 |\n",
       "| 24 | 120 |\n",
       "| 25 |  85 |\n",
       "\n"
      ],
      "text/plain": [
       "   speed dist\n",
       "1   4      2 \n",
       "2   4     10 \n",
       "3   7      4 \n",
       "4   7     22 \n",
       "5   8     16 \n",
       "6   9     10 \n",
       "7  10     18 \n",
       "8  10     26 \n",
       "9  10     34 \n",
       "10 11     17 \n",
       "11 11     28 \n",
       "12 12     14 \n",
       "13 12     20 \n",
       "14 12     24 \n",
       "15 12     28 \n",
       "16 13     26 \n",
       "17 13     34 \n",
       "18 13     34 \n",
       "19 13     46 \n",
       "20 14     26 \n",
       "21 14     36 \n",
       "22 14     60 \n",
       "23 14     80 \n",
       "24 15     20 \n",
       "25 15     26 \n",
       "26 15     54 \n",
       "27 16     32 \n",
       "28 16     40 \n",
       "29 17     32 \n",
       "30 17     40 \n",
       "31 17     50 \n",
       "32 18     42 \n",
       "33 18     56 \n",
       "34 18     76 \n",
       "35 18     84 \n",
       "36 19     36 \n",
       "37 19     46 \n",
       "38 19     68 \n",
       "39 20     32 \n",
       "40 20     48 \n",
       "41 20     52 \n",
       "42 20     56 \n",
       "43 20     64 \n",
       "44 22     66 \n",
       "45 23     54 \n",
       "46 24     70 \n",
       "47 24     92 \n",
       "48 24     93 \n",
       "49 24    120 \n",
       "50 25     85 "
      ]
     },
     "metadata": {},
     "output_type": "display_data"
    }
   ],
   "source": [
    "cars"
   ]
  },
  {
   "cell_type": "code",
   "execution_count": 18,
   "metadata": {},
   "outputs": [
    {
     "ename": "ERROR",
     "evalue": "Error in cars.class(): could not find function \"cars.class\"\n",
     "output_type": "error",
     "traceback": [
      "Error in cars.class(): could not find function \"cars.class\"\nTraceback:\n"
     ]
    }
   ],
   "source": [
    "cars.class()"
   ]
  },
  {
   "cell_type": "code",
   "execution_count": 19,
   "metadata": {},
   "outputs": [
    {
     "data": {
      "text/html": [
       "'data.frame'"
      ],
      "text/latex": [
       "'data.frame'"
      ],
      "text/markdown": [
       "'data.frame'"
      ],
      "text/plain": [
       "[1] \"data.frame\""
      ]
     },
     "metadata": {},
     "output_type": "display_data"
    }
   ],
   "source": [
    "class(cars)"
   ]
  },
  {
   "cell_type": "code",
   "execution_count": 20,
   "metadata": {},
   "outputs": [
    {
     "data": {
      "text/html": [
       "2"
      ],
      "text/latex": [
       "2"
      ],
      "text/markdown": [
       "2"
      ],
      "text/plain": [
       "[1] 2"
      ]
     },
     "metadata": {},
     "output_type": "display_data"
    }
   ],
   "source": [
    "length(cars)"
   ]
  },
  {
   "cell_type": "code",
   "execution_count": 21,
   "metadata": {},
   "outputs": [
    {
     "data": {
      "text/html": [
       "50"
      ],
      "text/latex": [
       "50"
      ],
      "text/markdown": [
       "50"
      ],
      "text/plain": [
       "[1] 50"
      ]
     },
     "metadata": {},
     "output_type": "display_data"
    }
   ],
   "source": [
    "nrow(cars)"
   ]
  },
  {
   "cell_type": "code",
   "execution_count": 23,
   "metadata": {},
   "outputs": [
    {
     "data": {
      "text/html": [
       "42.98"
      ],
      "text/latex": [
       "42.98"
      ],
      "text/markdown": [
       "42.98"
      ],
      "text/plain": [
       "[1] 42.98"
      ]
     },
     "metadata": {},
     "output_type": "display_data"
    }
   ],
   "source": [
    "mean(cars[,2])"
   ]
  },
  {
   "cell_type": "code",
   "execution_count": 24,
   "metadata": {},
   "outputs": [
    {
     "data": {
      "text/html": [
       "50"
      ],
      "text/latex": [
       "50"
      ],
      "text/markdown": [
       "50"
      ],
      "text/plain": [
       "[1] 50"
      ]
     },
     "metadata": {},
     "output_type": "display_data"
    }
   ],
   "source": [
    "which(cars[,2] == 85)"
   ]
  },
  {
   "cell_type": "code",
   "execution_count": 25,
   "metadata": {},
   "outputs": [
    {
     "data": {
      "text/html": [
       "<table>\n",
       "<caption>A data.frame: 1 × 2</caption>\n",
       "<thead>\n",
       "\t<tr><th></th><th scope=col>speed</th><th scope=col>dist</th></tr>\n",
       "\t<tr><th></th><th scope=col>&lt;dbl&gt;</th><th scope=col>&lt;dbl&gt;</th></tr>\n",
       "</thead>\n",
       "<tbody>\n",
       "\t<tr><th scope=row>50</th><td>25</td><td>85</td></tr>\n",
       "</tbody>\n",
       "</table>\n"
      ],
      "text/latex": [
       "A data.frame: 1 × 2\n",
       "\\begin{tabular}{r|ll}\n",
       "  & speed & dist\\\\\n",
       "  & <dbl> & <dbl>\\\\\n",
       "\\hline\n",
       "\t50 & 25 & 85\\\\\n",
       "\\end{tabular}\n"
      ],
      "text/markdown": [
       "\n",
       "A data.frame: 1 × 2\n",
       "\n",
       "| <!--/--> | speed &lt;dbl&gt; | dist &lt;dbl&gt; |\n",
       "|---|---|---|\n",
       "| 50 | 25 | 85 |\n",
       "\n"
      ],
      "text/plain": [
       "   speed dist\n",
       "50 25    85  "
      ]
     },
     "metadata": {},
     "output_type": "display_data"
    }
   ],
   "source": [
    "cars[50,]"
   ]
  },
  {
   "cell_type": "code",
   "execution_count": 29,
   "metadata": {},
   "outputs": [
    {
     "data": {
      "text/plain": [
       "               _                           \n",
       "platform       x86_64-apple-darwin17.0     \n",
       "arch           x86_64                      \n",
       "os             darwin17.0                  \n",
       "system         x86_64, darwin17.0          \n",
       "status                                     \n",
       "major          4                           \n",
       "minor          0.2                         \n",
       "year           2020                        \n",
       "month          06                          \n",
       "day            22                          \n",
       "svn rev        78730                       \n",
       "language       R                           \n",
       "version.string R version 4.0.2 (2020-06-22)\n",
       "nickname       Taking Off Again            "
      ]
     },
     "metadata": {},
     "output_type": "display_data"
    }
   ],
   "source": [
    "version"
   ]
  },
  {
   "cell_type": "code",
   "execution_count": null,
   "metadata": {},
   "outputs": [],
   "source": []
  }
 ],
 "metadata": {
  "kernelspec": {
   "display_name": "R",
   "language": "R",
   "name": "ir"
  },
  "language_info": {
   "codemirror_mode": "r",
   "file_extension": ".r",
   "mimetype": "text/x-r-source",
   "name": "R",
   "pygments_lexer": "r",
   "version": "4.0.2"
  }
 },
 "nbformat": 4,
 "nbformat_minor": 4
}
