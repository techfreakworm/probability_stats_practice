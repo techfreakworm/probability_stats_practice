{
 "cells": [
  {
   "cell_type": "code",
   "execution_count": 4,
   "metadata": {},
   "outputs": [],
   "source": [
    "path <- \"dagdata/inst/extdata/femaleMiceWeights.csv\""
   ]
  },
  {
   "cell_type": "code",
   "execution_count": 5,
   "metadata": {},
   "outputs": [],
   "source": [
    "df <- read.csv(file = path)"
   ]
  },
  {
   "cell_type": "code",
   "execution_count": 6,
   "metadata": {},
   "outputs": [
    {
     "data": {
      "text/html": [
       "<table>\n",
       "<caption>A data.frame: 24 × 2</caption>\n",
       "<thead>\n",
       "\t<tr><th scope=col>Diet</th><th scope=col>Bodyweight</th></tr>\n",
       "\t<tr><th scope=col>&lt;chr&gt;</th><th scope=col>&lt;dbl&gt;</th></tr>\n",
       "</thead>\n",
       "<tbody>\n",
       "\t<tr><td>chow</td><td>21.51</td></tr>\n",
       "\t<tr><td>chow</td><td>28.14</td></tr>\n",
       "\t<tr><td>chow</td><td>24.04</td></tr>\n",
       "\t<tr><td>chow</td><td>23.45</td></tr>\n",
       "\t<tr><td>chow</td><td>23.68</td></tr>\n",
       "\t<tr><td>chow</td><td>19.79</td></tr>\n",
       "\t<tr><td>chow</td><td>28.40</td></tr>\n",
       "\t<tr><td>chow</td><td>20.98</td></tr>\n",
       "\t<tr><td>chow</td><td>22.51</td></tr>\n",
       "\t<tr><td>chow</td><td>20.10</td></tr>\n",
       "\t<tr><td>chow</td><td>26.91</td></tr>\n",
       "\t<tr><td>chow</td><td>26.25</td></tr>\n",
       "\t<tr><td>hf  </td><td>25.71</td></tr>\n",
       "\t<tr><td>hf  </td><td>26.37</td></tr>\n",
       "\t<tr><td>hf  </td><td>22.80</td></tr>\n",
       "\t<tr><td>hf  </td><td>25.34</td></tr>\n",
       "\t<tr><td>hf  </td><td>24.97</td></tr>\n",
       "\t<tr><td>hf  </td><td>28.14</td></tr>\n",
       "\t<tr><td>hf  </td><td>29.58</td></tr>\n",
       "\t<tr><td>hf  </td><td>30.92</td></tr>\n",
       "\t<tr><td>hf  </td><td>34.02</td></tr>\n",
       "\t<tr><td>hf  </td><td>21.90</td></tr>\n",
       "\t<tr><td>hf  </td><td>31.53</td></tr>\n",
       "\t<tr><td>hf  </td><td>20.73</td></tr>\n",
       "</tbody>\n",
       "</table>\n"
      ],
      "text/latex": [
       "A data.frame: 24 × 2\n",
       "\\begin{tabular}{ll}\n",
       " Diet & Bodyweight\\\\\n",
       " <chr> & <dbl>\\\\\n",
       "\\hline\n",
       "\t chow & 21.51\\\\\n",
       "\t chow & 28.14\\\\\n",
       "\t chow & 24.04\\\\\n",
       "\t chow & 23.45\\\\\n",
       "\t chow & 23.68\\\\\n",
       "\t chow & 19.79\\\\\n",
       "\t chow & 28.40\\\\\n",
       "\t chow & 20.98\\\\\n",
       "\t chow & 22.51\\\\\n",
       "\t chow & 20.10\\\\\n",
       "\t chow & 26.91\\\\\n",
       "\t chow & 26.25\\\\\n",
       "\t hf   & 25.71\\\\\n",
       "\t hf   & 26.37\\\\\n",
       "\t hf   & 22.80\\\\\n",
       "\t hf   & 25.34\\\\\n",
       "\t hf   & 24.97\\\\\n",
       "\t hf   & 28.14\\\\\n",
       "\t hf   & 29.58\\\\\n",
       "\t hf   & 30.92\\\\\n",
       "\t hf   & 34.02\\\\\n",
       "\t hf   & 21.90\\\\\n",
       "\t hf   & 31.53\\\\\n",
       "\t hf   & 20.73\\\\\n",
       "\\end{tabular}\n"
      ],
      "text/markdown": [
       "\n",
       "A data.frame: 24 × 2\n",
       "\n",
       "| Diet &lt;chr&gt; | Bodyweight &lt;dbl&gt; |\n",
       "|---|---|\n",
       "| chow | 21.51 |\n",
       "| chow | 28.14 |\n",
       "| chow | 24.04 |\n",
       "| chow | 23.45 |\n",
       "| chow | 23.68 |\n",
       "| chow | 19.79 |\n",
       "| chow | 28.40 |\n",
       "| chow | 20.98 |\n",
       "| chow | 22.51 |\n",
       "| chow | 20.10 |\n",
       "| chow | 26.91 |\n",
       "| chow | 26.25 |\n",
       "| hf   | 25.71 |\n",
       "| hf   | 26.37 |\n",
       "| hf   | 22.80 |\n",
       "| hf   | 25.34 |\n",
       "| hf   | 24.97 |\n",
       "| hf   | 28.14 |\n",
       "| hf   | 29.58 |\n",
       "| hf   | 30.92 |\n",
       "| hf   | 34.02 |\n",
       "| hf   | 21.90 |\n",
       "| hf   | 31.53 |\n",
       "| hf   | 20.73 |\n",
       "\n"
      ],
      "text/plain": [
       "   Diet Bodyweight\n",
       "1  chow 21.51     \n",
       "2  chow 28.14     \n",
       "3  chow 24.04     \n",
       "4  chow 23.45     \n",
       "5  chow 23.68     \n",
       "6  chow 19.79     \n",
       "7  chow 28.40     \n",
       "8  chow 20.98     \n",
       "9  chow 22.51     \n",
       "10 chow 20.10     \n",
       "11 chow 26.91     \n",
       "12 chow 26.25     \n",
       "13 hf   25.71     \n",
       "14 hf   26.37     \n",
       "15 hf   22.80     \n",
       "16 hf   25.34     \n",
       "17 hf   24.97     \n",
       "18 hf   28.14     \n",
       "19 hf   29.58     \n",
       "20 hf   30.92     \n",
       "21 hf   34.02     \n",
       "22 hf   21.90     \n",
       "23 hf   31.53     \n",
       "24 hf   20.73     "
      ]
     },
     "metadata": {},
     "output_type": "display_data"
    }
   ],
   "source": [
    "df"
   ]
  },
  {
   "cell_type": "code",
   "execution_count": 9,
   "metadata": {},
   "outputs": [
    {
     "data": {
      "text/html": [
       "26.25"
      ],
      "text/latex": [
       "26.25"
      ],
      "text/markdown": [
       "26.25"
      ],
      "text/plain": [
       "[1] 26.25"
      ]
     },
     "metadata": {},
     "output_type": "display_data"
    }
   ],
   "source": [
    "df[12,2]"
   ]
  },
  {
   "cell_type": "code",
   "execution_count": 12,
   "metadata": {},
   "outputs": [
    {
     "data": {
      "text/html": [
       "26.91"
      ],
      "text/latex": [
       "26.91"
      ],
      "text/markdown": [
       "26.91"
      ],
      "text/plain": [
       "[1] 26.91"
      ]
     },
     "metadata": {},
     "output_type": "display_data"
    }
   ],
   "source": [
    "df$Bodyweight[11]"
   ]
  },
  {
   "cell_type": "code",
   "execution_count": 15,
   "metadata": {},
   "outputs": [
    {
     "data": {
      "text/html": [
       "24"
      ],
      "text/latex": [
       "24"
      ],
      "text/markdown": [
       "24"
      ],
      "text/plain": [
       "[1] 24"
      ]
     },
     "metadata": {},
     "output_type": "display_data"
    }
   ],
   "source": [
    "length(df$Bodyweight)"
   ]
  },
  {
   "cell_type": "code",
   "execution_count": 16,
   "metadata": {},
   "outputs": [
    {
     "data": {
      "text/html": [
       "<style>\n",
       ".list-inline {list-style: none; margin:0; padding: 0}\n",
       ".list-inline>li {display: inline-block}\n",
       ".list-inline>li:not(:last-child)::after {content: \"\\00b7\"; padding: 0 .5ex}\n",
       "</style>\n",
       "<ol class=list-inline><li>13</li><li>14</li><li>15</li><li>16</li><li>17</li><li>18</li><li>19</li><li>20</li><li>21</li><li>22</li><li>23</li><li>24</li></ol>\n"
      ],
      "text/latex": [
       "\\begin{enumerate*}\n",
       "\\item 13\n",
       "\\item 14\n",
       "\\item 15\n",
       "\\item 16\n",
       "\\item 17\n",
       "\\item 18\n",
       "\\item 19\n",
       "\\item 20\n",
       "\\item 21\n",
       "\\item 22\n",
       "\\item 23\n",
       "\\item 24\n",
       "\\end{enumerate*}\n"
      ],
      "text/markdown": [
       "1. 13\n",
       "2. 14\n",
       "3. 15\n",
       "4. 16\n",
       "5. 17\n",
       "6. 18\n",
       "7. 19\n",
       "8. 20\n",
       "9. 21\n",
       "10. 22\n",
       "11. 23\n",
       "12. 24\n",
       "\n",
       "\n"
      ],
      "text/plain": [
       " [1] 13 14 15 16 17 18 19 20 21 22 23 24"
      ]
     },
     "metadata": {},
     "output_type": "display_data"
    }
   ],
   "source": [
    "which(df$Diet == \"hf\")"
   ]
  },
  {
   "cell_type": "code",
   "execution_count": 21,
   "metadata": {},
   "outputs": [
    {
     "data": {
      "text/html": [
       "<table>\n",
       "<caption>A data.frame: 12 × 1</caption>\n",
       "<thead>\n",
       "\t<tr><th></th><th scope=col>Bodyweight</th></tr>\n",
       "\t<tr><th></th><th scope=col>&lt;dbl&gt;</th></tr>\n",
       "</thead>\n",
       "<tbody>\n",
       "\t<tr><th scope=row>13</th><td>25.71</td></tr>\n",
       "\t<tr><th scope=row>14</th><td>26.37</td></tr>\n",
       "\t<tr><th scope=row>15</th><td>22.80</td></tr>\n",
       "\t<tr><th scope=row>16</th><td>25.34</td></tr>\n",
       "\t<tr><th scope=row>17</th><td>24.97</td></tr>\n",
       "\t<tr><th scope=row>18</th><td>28.14</td></tr>\n",
       "\t<tr><th scope=row>19</th><td>29.58</td></tr>\n",
       "\t<tr><th scope=row>20</th><td>30.92</td></tr>\n",
       "\t<tr><th scope=row>21</th><td>34.02</td></tr>\n",
       "\t<tr><th scope=row>22</th><td>21.90</td></tr>\n",
       "\t<tr><th scope=row>23</th><td>31.53</td></tr>\n",
       "\t<tr><th scope=row>24</th><td>20.73</td></tr>\n",
       "</tbody>\n",
       "</table>\n"
      ],
      "text/latex": [
       "A data.frame: 12 × 1\n",
       "\\begin{tabular}{r|l}\n",
       "  & Bodyweight\\\\\n",
       "  & <dbl>\\\\\n",
       "\\hline\n",
       "\t13 & 25.71\\\\\n",
       "\t14 & 26.37\\\\\n",
       "\t15 & 22.80\\\\\n",
       "\t16 & 25.34\\\\\n",
       "\t17 & 24.97\\\\\n",
       "\t18 & 28.14\\\\\n",
       "\t19 & 29.58\\\\\n",
       "\t20 & 30.92\\\\\n",
       "\t21 & 34.02\\\\\n",
       "\t22 & 21.90\\\\\n",
       "\t23 & 31.53\\\\\n",
       "\t24 & 20.73\\\\\n",
       "\\end{tabular}\n"
      ],
      "text/markdown": [
       "\n",
       "A data.frame: 12 × 1\n",
       "\n",
       "| <!--/--> | Bodyweight &lt;dbl&gt; |\n",
       "|---|---|\n",
       "| 13 | 25.71 |\n",
       "| 14 | 26.37 |\n",
       "| 15 | 22.80 |\n",
       "| 16 | 25.34 |\n",
       "| 17 | 24.97 |\n",
       "| 18 | 28.14 |\n",
       "| 19 | 29.58 |\n",
       "| 20 | 30.92 |\n",
       "| 21 | 34.02 |\n",
       "| 22 | 21.90 |\n",
       "| 23 | 31.53 |\n",
       "| 24 | 20.73 |\n",
       "\n"
      ],
      "text/plain": [
       "   Bodyweight\n",
       "13 25.71     \n",
       "14 26.37     \n",
       "15 22.80     \n",
       "16 25.34     \n",
       "17 24.97     \n",
       "18 28.14     \n",
       "19 29.58     \n",
       "20 30.92     \n",
       "21 34.02     \n",
       "22 21.90     \n",
       "23 31.53     \n",
       "24 20.73     "
      ]
     },
     "metadata": {},
     "output_type": "display_data"
    }
   ],
   "source": [
    "df2 <- subset(df, (Diet == 'hf'), select=c(Bodyweight))\n",
    "df2"
   ]
  },
  {
   "cell_type": "code",
   "execution_count": 23,
   "metadata": {},
   "outputs": [
    {
     "data": {
      "text/html": [
       "26.8341666666667"
      ],
      "text/latex": [
       "26.8341666666667"
      ],
      "text/markdown": [
       "26.8341666666667"
      ],
      "text/plain": [
       "[1] 26.83417"
      ]
     },
     "metadata": {},
     "output_type": "display_data"
    }
   ],
   "source": [
    "mean(df2$Bodyweight)"
   ]
  },
  {
   "cell_type": "code",
   "execution_count": 24,
   "metadata": {},
   "outputs": [
    {
     "ename": "ERROR",
     "evalue": "Error in sample(): argument \"x\" is missing, with no default\n",
     "output_type": "error",
     "traceback": [
      "Error in sample(): argument \"x\" is missing, with no default\nTraceback:\n",
      "1. sample()"
     ]
    }
   ],
   "source": [
    "sample()"
   ]
  },
  {
   "cell_type": "code",
   "execution_count": 30,
   "metadata": {},
   "outputs": [],
   "source": [
    "set.seed(1)"
   ]
  },
  {
   "cell_type": "code",
   "execution_count": 32,
   "metadata": {},
   "outputs": [
    {
     "data": {
      "text/html": [
       "<style>\n",
       ".list-inline {list-style: none; margin:0; padding: 0}\n",
       ".list-inline>li {display: inline-block}\n",
       ".list-inline>li:not(:last-child)::after {content: \"\\00b7\"; padding: 0 .5ex}\n",
       "</style>\n",
       "<ol class=list-inline><li>25.71</li><li>26.37</li><li>22.8</li><li>25.34</li><li>24.97</li><li>28.14</li><li>29.58</li><li>30.92</li><li>34.02</li><li>21.9</li><li>31.53</li><li>20.73</li></ol>\n"
      ],
      "text/latex": [
       "\\begin{enumerate*}\n",
       "\\item 25.71\n",
       "\\item 26.37\n",
       "\\item 22.8\n",
       "\\item 25.34\n",
       "\\item 24.97\n",
       "\\item 28.14\n",
       "\\item 29.58\n",
       "\\item 30.92\n",
       "\\item 34.02\n",
       "\\item 21.9\n",
       "\\item 31.53\n",
       "\\item 20.73\n",
       "\\end{enumerate*}\n"
      ],
      "text/markdown": [
       "1. 25.71\n",
       "2. 26.37\n",
       "3. 22.8\n",
       "4. 25.34\n",
       "5. 24.97\n",
       "6. 28.14\n",
       "7. 29.58\n",
       "8. 30.92\n",
       "9. 34.02\n",
       "10. 21.9\n",
       "11. 31.53\n",
       "12. 20.73\n",
       "\n",
       "\n"
      ],
      "text/plain": [
       " [1] 25.71 26.37 22.80 25.34 24.97 28.14 29.58 30.92 34.02 21.90 31.53 20.73"
      ]
     },
     "metadata": {},
     "output_type": "display_data"
    }
   ],
   "source": [
    "df[13:24,2]"
   ]
  },
  {
   "cell_type": "code",
   "execution_count": 31,
   "metadata": {},
   "outputs": [
    {
     "data": {
      "text/html": [
       "34.02"
      ],
      "text/latex": [
       "34.02"
      ],
      "text/markdown": [
       "34.02"
      ],
      "text/plain": [
       "[1] 34.02"
      ]
     },
     "metadata": {},
     "output_type": "display_data"
    }
   ],
   "source": [
    "sample(df[13:24,2], 1)"
   ]
  },
  {
   "cell_type": "code",
   "execution_count": 26,
   "metadata": {},
   "outputs": [
    {
     "data": {
      "text/html": [
       "\n",
       "<table width=\"100%\" summary=\"page for sample {base}\"><tr><td>sample {base}</td><td style=\"text-align: right;\">R Documentation</td></tr></table>\n",
       "\n",
       "<h2>Random Samples and Permutations</h2>\n",
       "\n",
       "<h3>Description</h3>\n",
       "\n",
       "<p><code>sample</code> takes a sample of the specified size from the elements\n",
       "of <code>x</code> using either with or without replacement.\n",
       "</p>\n",
       "\n",
       "\n",
       "<h3>Usage</h3>\n",
       "\n",
       "<pre>\n",
       "sample(x, size, replace = FALSE, prob = NULL)\n",
       "\n",
       "sample.int(n, size = n, replace = FALSE, prob = NULL,\n",
       "           useHash = (!replace &amp;&amp; is.null(prob) &amp;&amp; size &lt;= n/2 &amp;&amp; n &gt; 1e7))\n",
       "</pre>\n",
       "\n",
       "\n",
       "<h3>Arguments</h3>\n",
       "\n",
       "<table summary=\"R argblock\">\n",
       "<tr valign=\"top\"><td><code>x</code></td>\n",
       "<td>\n",
       "<p>either a vector of one or more elements from which to choose,\n",
       "or a positive integer.  See &lsquo;Details.&rsquo;</p>\n",
       "</td></tr>\n",
       "<tr valign=\"top\"><td><code>n</code></td>\n",
       "<td>\n",
       "<p>a positive number, the number of items to choose from.  See\n",
       "&lsquo;Details.&rsquo;</p>\n",
       "</td></tr>\n",
       "<tr valign=\"top\"><td><code>size</code></td>\n",
       "<td>\n",
       "<p>a non-negative integer giving the number of items to choose.</p>\n",
       "</td></tr>\n",
       "<tr valign=\"top\"><td><code>replace</code></td>\n",
       "<td>\n",
       "<p>should sampling be with replacement?</p>\n",
       "</td></tr>\n",
       "<tr valign=\"top\"><td><code>prob</code></td>\n",
       "<td>\n",
       "<p>a vector of probability weights for obtaining the elements\n",
       "of the vector being sampled.</p>\n",
       "</td></tr>\n",
       "<tr valign=\"top\"><td><code>useHash</code></td>\n",
       "<td>\n",
       "<p><code>logical</code> indicating if the hash-version of\n",
       "the algorithm should be used.  Can only be used for <code>replace =\n",
       "      FALSE</code>, <code>prob = NULL</code>, and <code>size &lt;= n/2</code>, and really\n",
       "should be used for large <code>n</code>, as <code>useHash=FALSE</code> will use\n",
       "memory proportional to <code>n</code>.</p>\n",
       "</td></tr>\n",
       "</table>\n",
       "\n",
       "\n",
       "<h3>Details</h3>\n",
       "\n",
       "<p>If <code>x</code> has length 1, is numeric (in the sense of\n",
       "<code>is.numeric</code>) and <code>x &gt;= 1</code>, sampling <em>via</em>\n",
       "<code>sample</code> takes place from <code>1:x</code>.  <em>Note</em> that this\n",
       "convenience feature may lead to undesired behaviour when <code>x</code> is\n",
       "of varying length in calls such as <code>sample(x)</code>.  See the examples.\n",
       "</p>\n",
       "<p>Otherwise <code>x</code> can be any <span style=\"font-family: Courier New, Courier; color: #666666;\"><b>R</b></span> object for which <code>length</code> and\n",
       "subsetting by integers make sense: S3 or S4 methods for these\n",
       "operations will be dispatched as appropriate.\n",
       "</p>\n",
       "<p>For <code>sample</code> the default for <code>size</code> is the number of items\n",
       "inferred from the first argument, so that <code>sample(x)</code> generates a\n",
       "random permutation of the elements of <code>x</code> (or <code>1:x</code>).\n",
       "</p>\n",
       "<p>It is allowed to ask for <code>size = 0</code> samples with <code>n = 0</code> or\n",
       "a length-zero <code>x</code>, but otherwise <code>n &gt; 0</code> or positive\n",
       "<code>length(x)</code> is required.\n",
       "</p>\n",
       "<p>Non-integer positive numerical values of <code>n</code> or <code>x</code> will be\n",
       "truncated to the next smallest integer, which has to be no larger than\n",
       "<code>.Machine$integer.max</code>.\n",
       "</p>\n",
       "<p>The optional <code>prob</code> argument can be used to give a vector of\n",
       "weights for obtaining the elements of the vector being sampled.  They\n",
       "need not sum to one, but they should be non-negative and not all zero.\n",
       "If <code>replace</code> is true, Walker's alias method (Ripley, 1987) is\n",
       "used when there are more than 200 reasonably probable values: this\n",
       "gives results incompatible with those from <span style=\"font-family: Courier New, Courier; color: #666666;\"><b>R</b></span> &lt; 2.2.0.\n",
       "</p>\n",
       "<p>If <code>replace</code> is false, these probabilities are applied\n",
       "sequentially, that is the probability of choosing the next item is\n",
       "proportional to the weights amongst the remaining items.  The number\n",
       "of nonzero weights must be at least <code>size</code> in this case.\n",
       "</p>\n",
       "<p><code>sample.int</code> is a bare interface in which both <code>n</code> and\n",
       "<code>size</code> must be supplied as integers.\n",
       "</p>\n",
       "<p>Argument <code>n</code> can be larger than the largest integer of\n",
       "type <code>integer</code>, up to the largest representable integer in type\n",
       "<code>double</code>.  Only uniform sampling is supported.  Two\n",
       "random numbers are used to ensure uniform sampling of large integers.\n",
       "</p>\n",
       "\n",
       "\n",
       "<h3>Value</h3>\n",
       "\n",
       "<p>For <code>sample</code> a vector of length <code>size</code> with elements\n",
       "drawn from either <code>x</code> or from the integers <code>1:x</code>.\n",
       "</p>\n",
       "<p>For <code>sample.int</code>, an integer vector of length <code>size</code> with\n",
       "elements from <code>1:n</code>, or a double vector if\n",
       "<i>n &gt;= 2^31</i>.\n",
       "</p>\n",
       "\n",
       "\n",
       "<h3>References</h3>\n",
       "\n",
       "<p>Becker, R. A., Chambers, J. M. and Wilks, A. R. (1988)\n",
       "<em>The New S Language</em>.\n",
       "Wadsworth &amp; Brooks/Cole.\n",
       "</p>\n",
       "<p>Ripley, B. D. (1987) <em>Stochastic Simulation</em>. Wiley.\n",
       "</p>\n",
       "\n",
       "\n",
       "<h3>See Also</h3>\n",
       "\n",
       "<p><code>RNGkind(sample.kind = ..)</code> about random number generation,\n",
       "notably the change of <code>sample()</code> results with <span style=\"font-family: Courier New, Courier; color: #666666;\"><b>R</b></span> version 3.6.0.\n",
       "</p>\n",
       "<p>CRAN package <a href=\"https://CRAN.R-project.org/package=sampling\"><span class=\"pkg\">sampling</span></a> for other methods of weighted sampling\n",
       "without replacement.\n",
       "</p>\n",
       "\n",
       "\n",
       "<h3>Examples</h3>\n",
       "\n",
       "<pre>\n",
       "x &lt;- 1:12\n",
       "# a random permutation\n",
       "sample(x)\n",
       "# bootstrap resampling -- only if length(x) &gt; 1 !\n",
       "sample(x, replace = TRUE)\n",
       "\n",
       "# 100 Bernoulli trials\n",
       "sample(c(0,1), 100, replace = TRUE)\n",
       "\n",
       "## More careful bootstrapping --  Consider this when using sample()\n",
       "## programmatically (i.e., in your function or simulation)!\n",
       "\n",
       "# sample()'s surprise -- example\n",
       "x &lt;- 1:10\n",
       "    sample(x[x &gt;  8]) # length 2\n",
       "    sample(x[x &gt;  9]) # oops -- length 10!\n",
       "    sample(x[x &gt; 10]) # length 0\n",
       "\n",
       "## safer version:\n",
       "resample &lt;- function(x, ...) x[sample.int(length(x), ...)]\n",
       "resample(x[x &gt;  8]) # length 2\n",
       "resample(x[x &gt;  9]) # length 1\n",
       "resample(x[x &gt; 10]) # length 0\n",
       "\n",
       "## R 3.x.y only\n",
       "sample.int(1e10, 12, replace = TRUE)\n",
       "sample.int(1e10, 12) # not that there is much chance of duplicates\n",
       "</pre>\n",
       "\n",
       "<hr /><div style=\"text-align: center;\">[Package <em>base</em> version 4.0.2 ]</div>"
      ],
      "text/latex": [
       "\\inputencoding{utf8}\n",
       "\\HeaderA{sample}{Random Samples and Permutations}{sample}\n",
       "\\methaliasA{sample.int}{sample}{sample.int}\n",
       "\\keyword{distribution}{sample}\n",
       "%\n",
       "\\begin{Description}\\relax\n",
       "\\code{sample} takes a sample of the specified size from the elements\n",
       "of \\code{x} using either with or without replacement.\n",
       "\\end{Description}\n",
       "%\n",
       "\\begin{Usage}\n",
       "\\begin{verbatim}\n",
       "sample(x, size, replace = FALSE, prob = NULL)\n",
       "\n",
       "sample.int(n, size = n, replace = FALSE, prob = NULL,\n",
       "           useHash = (!replace && is.null(prob) && size <= n/2 && n > 1e7))\n",
       "\\end{verbatim}\n",
       "\\end{Usage}\n",
       "%\n",
       "\\begin{Arguments}\n",
       "\\begin{ldescription}\n",
       "\\item[\\code{x}] either a vector of one or more elements from which to choose,\n",
       "or a positive integer.  See `Details.'\n",
       "\\item[\\code{n}] a positive number, the number of items to choose from.  See\n",
       "`Details.'\n",
       "\\item[\\code{size}] a non-negative integer giving the number of items to choose.\n",
       "\\item[\\code{replace}] should sampling be with replacement?\n",
       "\\item[\\code{prob}] a vector of probability weights for obtaining the elements\n",
       "of the vector being sampled.\n",
       "\\item[\\code{useHash}] \\code{\\LinkA{logical}{logical}} indicating if the hash-version of\n",
       "the algorithm should be used.  Can only be used for \\code{replace =\n",
       "      FALSE}, \\code{prob = NULL}, and \\code{size <= n/2}, and really\n",
       "should be used for large \\code{n}, as \\code{useHash=FALSE} will use\n",
       "memory proportional to \\code{n}.\n",
       "\\end{ldescription}\n",
       "\\end{Arguments}\n",
       "%\n",
       "\\begin{Details}\\relax\n",
       "If \\code{x} has length 1, is numeric (in the sense of\n",
       "\\code{\\LinkA{is.numeric}{is.numeric}}) and \\code{x >= 1}, sampling \\emph{via}\n",
       "\\code{sample} takes place from \\code{1:x}.  \\emph{Note} that this\n",
       "convenience feature may lead to undesired behaviour when \\code{x} is\n",
       "of varying length in calls such as \\code{sample(x)}.  See the examples.\n",
       "\n",
       "Otherwise \\code{x} can be any \\R{} object for which \\code{length} and\n",
       "subsetting by integers make sense: S3 or S4 methods for these\n",
       "operations will be dispatched as appropriate.\n",
       "\n",
       "For \\code{sample} the default for \\code{size} is the number of items\n",
       "inferred from the first argument, so that \\code{sample(x)} generates a\n",
       "random permutation of the elements of \\code{x} (or \\code{1:x}).\n",
       "\n",
       "It is allowed to ask for \\code{size = 0} samples with \\code{n = 0} or\n",
       "a length-zero \\code{x}, but otherwise \\code{n > 0} or positive\n",
       "\\code{length(x)} is required.\n",
       "\n",
       "Non-integer positive numerical values of \\code{n} or \\code{x} will be\n",
       "truncated to the next smallest integer, which has to be no larger than\n",
       "\\code{\\LinkA{.Machine}{.Machine}\\$integer.max}.\n",
       "\n",
       "The optional \\code{prob} argument can be used to give a vector of\n",
       "weights for obtaining the elements of the vector being sampled.  They\n",
       "need not sum to one, but they should be non-negative and not all zero.\n",
       "If \\code{replace} is true, Walker's alias method (Ripley, 1987) is\n",
       "used when there are more than 200 reasonably probable values: this\n",
       "gives results incompatible with those from \\R{} < 2.2.0.\n",
       "\n",
       "If \\code{replace} is false, these probabilities are applied\n",
       "sequentially, that is the probability of choosing the next item is\n",
       "proportional to the weights amongst the remaining items.  The number\n",
       "of nonzero weights must be at least \\code{size} in this case.\n",
       "\n",
       "\\code{sample.int} is a bare interface in which both \\code{n} and\n",
       "\\code{size} must be supplied as integers.\n",
       "\n",
       "Argument \\code{n} can be larger than the largest integer of\n",
       "type \\code{integer}, up to the largest representable integer in type\n",
       "\\code{double}.  Only uniform sampling is supported.  Two\n",
       "random numbers are used to ensure uniform sampling of large integers.\n",
       "\\end{Details}\n",
       "%\n",
       "\\begin{Value}\n",
       "For \\code{sample} a vector of length \\code{size} with elements\n",
       "drawn from either \\code{x} or from the integers \\code{1:x}.\n",
       "\n",
       "For \\code{sample.int}, an integer vector of length \\code{size} with\n",
       "elements from \\code{1:n}, or a double vector if\n",
       "\\eqn{n \\ge 2^{31}}{}.\n",
       "\\end{Value}\n",
       "%\n",
       "\\begin{References}\\relax\n",
       "Becker, R. A., Chambers, J. M. and Wilks, A. R. (1988)\n",
       "\\emph{The New S Language}.\n",
       "Wadsworth \\& Brooks/Cole.\n",
       "\n",
       "Ripley, B. D. (1987) \\emph{Stochastic Simulation}. Wiley.\n",
       "\\end{References}\n",
       "%\n",
       "\\begin{SeeAlso}\\relax\n",
       "\\code{\\LinkA{RNGkind}{RNGkind}(sample.kind = ..)} about random number generation,\n",
       "notably the change of \\code{sample()} results with \\R{} version 3.6.0.\n",
       "\n",
       "CRAN package \\Rhref{https://CRAN.R-project.org/package=sampling}{\\pkg{sampling}} for other methods of weighted sampling\n",
       "without replacement.\n",
       "\\end{SeeAlso}\n",
       "%\n",
       "\\begin{Examples}\n",
       "\\begin{ExampleCode}\n",
       "x <- 1:12\n",
       "# a random permutation\n",
       "sample(x)\n",
       "# bootstrap resampling -- only if length(x) > 1 !\n",
       "sample(x, replace = TRUE)\n",
       "\n",
       "# 100 Bernoulli trials\n",
       "sample(c(0,1), 100, replace = TRUE)\n",
       "\n",
       "## More careful bootstrapping --  Consider this when using sample()\n",
       "## programmatically (i.e., in your function or simulation)!\n",
       "\n",
       "# sample()'s surprise -- example\n",
       "x <- 1:10\n",
       "    sample(x[x >  8]) # length 2\n",
       "    sample(x[x >  9]) # oops -- length 10!\n",
       "    sample(x[x > 10]) # length 0\n",
       "\n",
       "## safer version:\n",
       "resample <- function(x, ...) x[sample.int(length(x), ...)]\n",
       "resample(x[x >  8]) # length 2\n",
       "resample(x[x >  9]) # length 1\n",
       "resample(x[x > 10]) # length 0\n",
       "\n",
       "## R 3.x.y only\n",
       "sample.int(1e10, 12, replace = TRUE)\n",
       "sample.int(1e10, 12) # not that there is much chance of duplicates\n",
       "\\end{ExampleCode}\n",
       "\\end{Examples}"
      ],
      "text/plain": [
       "sample                  package:base                   R Documentation\n",
       "\n",
       "_\bR_\ba_\bn_\bd_\bo_\bm _\bS_\ba_\bm_\bp_\bl_\be_\bs _\ba_\bn_\bd _\bP_\be_\br_\bm_\bu_\bt_\ba_\bt_\bi_\bo_\bn_\bs\n",
       "\n",
       "_\bD_\be_\bs_\bc_\br_\bi_\bp_\bt_\bi_\bo_\bn:\n",
       "\n",
       "     ‘sample’ takes a sample of the specified size from the elements of\n",
       "     ‘x’ using either with or without replacement.\n",
       "\n",
       "_\bU_\bs_\ba_\bg_\be:\n",
       "\n",
       "     sample(x, size, replace = FALSE, prob = NULL)\n",
       "     \n",
       "     sample.int(n, size = n, replace = FALSE, prob = NULL,\n",
       "                useHash = (!replace && is.null(prob) && size <= n/2 && n > 1e7))\n",
       "     \n",
       "_\bA_\br_\bg_\bu_\bm_\be_\bn_\bt_\bs:\n",
       "\n",
       "       x: either a vector of one or more elements from which to choose,\n",
       "          or a positive integer.  See ‘Details.’\n",
       "\n",
       "       n: a positive number, the number of items to choose from.  See\n",
       "          ‘Details.’\n",
       "\n",
       "    size: a non-negative integer giving the number of items to choose.\n",
       "\n",
       " replace: should sampling be with replacement?\n",
       "\n",
       "    prob: a vector of probability weights for obtaining the elements of\n",
       "          the vector being sampled.\n",
       "\n",
       " useHash: ‘logical’ indicating if the hash-version of the algorithm\n",
       "          should be used.  Can only be used for ‘replace = FALSE’,\n",
       "          ‘prob = NULL’, and ‘size <= n/2’, and really should be used\n",
       "          for large ‘n’, as ‘useHash=FALSE’ will use memory\n",
       "          proportional to ‘n’.\n",
       "\n",
       "_\bD_\be_\bt_\ba_\bi_\bl_\bs:\n",
       "\n",
       "     If ‘x’ has length 1, is numeric (in the sense of ‘is.numeric’) and\n",
       "     ‘x >= 1’, sampling _via_ ‘sample’ takes place from ‘1:x’.  _Note_\n",
       "     that this convenience feature may lead to undesired behaviour when\n",
       "     ‘x’ is of varying length in calls such as ‘sample(x)’.  See the\n",
       "     examples.\n",
       "\n",
       "     Otherwise ‘x’ can be any R object for which ‘length’ and\n",
       "     subsetting by integers make sense: S3 or S4 methods for these\n",
       "     operations will be dispatched as appropriate.\n",
       "\n",
       "     For ‘sample’ the default for ‘size’ is the number of items\n",
       "     inferred from the first argument, so that ‘sample(x)’ generates a\n",
       "     random permutation of the elements of ‘x’ (or ‘1:x’).\n",
       "\n",
       "     It is allowed to ask for ‘size = 0’ samples with ‘n = 0’ or a\n",
       "     length-zero ‘x’, but otherwise ‘n > 0’ or positive ‘length(x)’ is\n",
       "     required.\n",
       "\n",
       "     Non-integer positive numerical values of ‘n’ or ‘x’ will be\n",
       "     truncated to the next smallest integer, which has to be no larger\n",
       "     than ‘.Machine$integer.max’.\n",
       "\n",
       "     The optional ‘prob’ argument can be used to give a vector of\n",
       "     weights for obtaining the elements of the vector being sampled.\n",
       "     They need not sum to one, but they should be non-negative and not\n",
       "     all zero.  If ‘replace’ is true, Walker's alias method (Ripley,\n",
       "     1987) is used when there are more than 200 reasonably probable\n",
       "     values: this gives results incompatible with those from R < 2.2.0.\n",
       "\n",
       "     If ‘replace’ is false, these probabilities are applied\n",
       "     sequentially, that is the probability of choosing the next item is\n",
       "     proportional to the weights amongst the remaining items.  The\n",
       "     number of nonzero weights must be at least ‘size’ in this case.\n",
       "\n",
       "     ‘sample.int’ is a bare interface in which both ‘n’ and ‘size’ must\n",
       "     be supplied as integers.\n",
       "\n",
       "     Argument ‘n’ can be larger than the largest integer of type\n",
       "     ‘integer’, up to the largest representable integer in type\n",
       "     ‘double’.  Only uniform sampling is supported.  Two random numbers\n",
       "     are used to ensure uniform sampling of large integers.\n",
       "\n",
       "_\bV_\ba_\bl_\bu_\be:\n",
       "\n",
       "     For ‘sample’ a vector of length ‘size’ with elements drawn from\n",
       "     either ‘x’ or from the integers ‘1:x’.\n",
       "\n",
       "     For ‘sample.int’, an integer vector of length ‘size’ with elements\n",
       "     from ‘1:n’, or a double vector if n >= 2^31.\n",
       "\n",
       "_\bR_\be_\bf_\be_\br_\be_\bn_\bc_\be_\bs:\n",
       "\n",
       "     Becker, R. A., Chambers, J. M. and Wilks, A. R. (1988) _The New S\n",
       "     Language_.  Wadsworth & Brooks/Cole.\n",
       "\n",
       "     Ripley, B. D. (1987) _Stochastic Simulation_. Wiley.\n",
       "\n",
       "_\bS_\be_\be _\bA_\bl_\bs_\bo:\n",
       "\n",
       "     ‘RNGkind(sample.kind = ..)’ about random number generation,\n",
       "     notably the change of ‘sample()’ results with R version 3.6.0.\n",
       "\n",
       "     CRAN package ‘sampling’ for other methods of weighted sampling\n",
       "     without replacement.\n",
       "\n",
       "_\bE_\bx_\ba_\bm_\bp_\bl_\be_\bs:\n",
       "\n",
       "     x <- 1:12\n",
       "     # a random permutation\n",
       "     sample(x)\n",
       "     # bootstrap resampling -- only if length(x) > 1 !\n",
       "     sample(x, replace = TRUE)\n",
       "     \n",
       "     # 100 Bernoulli trials\n",
       "     sample(c(0,1), 100, replace = TRUE)\n",
       "     \n",
       "     ## More careful bootstrapping --  Consider this when using sample()\n",
       "     ## programmatically (i.e., in your function or simulation)!\n",
       "     \n",
       "     # sample()'s surprise -- example\n",
       "     x <- 1:10\n",
       "         sample(x[x >  8]) # length 2\n",
       "         sample(x[x >  9]) # oops -- length 10!\n",
       "         sample(x[x > 10]) # length 0\n",
       "     \n",
       "     ## safer version:\n",
       "     resample <- function(x, ...) x[sample.int(length(x), ...)]\n",
       "     resample(x[x >  8]) # length 2\n",
       "     resample(x[x >  9]) # length 1\n",
       "     resample(x[x > 10]) # length 0\n",
       "     \n",
       "     ## R 3.x.y only\n",
       "     sample.int(1e10, 12, replace = TRUE)\n",
       "     sample.int(1e10, 12) # not that there is much chance of duplicates\n",
       "     "
      ]
     },
     "metadata": {},
     "output_type": "display_data"
    }
   ],
   "source": [
    "?sample"
   ]
  },
  {
   "cell_type": "code",
   "execution_count": null,
   "metadata": {},
   "outputs": [],
   "source": []
  }
 ],
 "metadata": {
  "kernelspec": {
   "display_name": "R",
   "language": "R",
   "name": "ir"
  },
  "language_info": {
   "codemirror_mode": "r",
   "file_extension": ".r",
   "mimetype": "text/x-r-source",
   "name": "R",
   "pygments_lexer": "r",
   "version": "4.0.2"
  }
 },
 "nbformat": 4,
 "nbformat_minor": 4
}
