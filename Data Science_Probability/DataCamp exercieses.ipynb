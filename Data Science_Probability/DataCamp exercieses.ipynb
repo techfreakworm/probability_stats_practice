{
 "cells": [
  {
   "cell_type": "markdown",
   "metadata": {},
   "source": [
    "# Addition rule\n",
    "## Exercise 1. The Cavs and the Warriors\n",
    "Two teams, say the Cavs and the Warriors, are playing a seven game championship series. The first to win four games wins the series. The teams are equally good, so they each have a 50-50 chance of winning each game.\n",
    "\n",
    "If the Cavs lose the first game, what is the probability that they win the series?"
   ]
  },
  {
   "cell_type": "code",
   "execution_count": 1,
   "metadata": {},
   "outputs": [
    {
     "data": {
      "text/html": [
       "0.34375"
      ],
      "text/latex": [
       "0.34375"
      ],
      "text/markdown": [
       "0.34375"
      ],
      "text/plain": [
       "[1] 0.34375"
      ]
     },
     "metadata": {},
     "output_type": "display_data"
    }
   ],
   "source": [
    "# Assign a variable 'n' as the number of remaining games.\n",
    "n <- 6\n",
    "\n",
    "# Assign a variable `outcomes` as a vector of possible game outcomes, where 0 indicates a loss and 1 indicates a win for the Cavs.\n",
    "outcomes <- c(0,1)\n",
    "\n",
    "# Assign a variable `l` to a list of all possible outcomes in all remaining games. Use the `rep` function on `list(outcomes)` to create list of length `n`. \n",
    "l <- rep(list(outcomes), n)\n",
    "\n",
    "# Create a data frame named 'possibilities' that contains all combinations of possible outcomes for the remaining games.\n",
    "possibilities <- expand.grid(l)\n",
    "\n",
    "# Create a vector named 'results' that indicates whether each row in the data frame 'possibilities' contains enough wins for the Cavs to win the series.\n",
    "results <- rowSums(possibilities)>=4\n",
    "\n",
    "# Calculate the proportion of 'results' in which the Cavs win the series. Print the outcome to the console.\n",
    "mean(results)"
   ]
  },
  {
   "cell_type": "code",
   "execution_count": null,
   "metadata": {},
   "outputs": [],
   "source": []
  }
 ],
 "metadata": {
  "kernelspec": {
   "display_name": "R",
   "language": "R",
   "name": "ir"
  },
  "language_info": {
   "codemirror_mode": "r",
   "file_extension": ".r",
   "mimetype": "text/x-r-source",
   "name": "R",
   "pygments_lexer": "r",
   "version": "4.0.2"
  }
 },
 "nbformat": 4,
 "nbformat_minor": 4
}
