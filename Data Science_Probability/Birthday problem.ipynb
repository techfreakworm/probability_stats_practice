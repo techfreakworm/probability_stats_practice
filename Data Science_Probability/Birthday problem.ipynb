{
 "cells": [
  {
   "cell_type": "markdown",
   "metadata": {},
   "source": [
    "### Birthday problem"
   ]
  },
  {
   "cell_type": "markdown",
   "metadata": {},
   "source": [
    "#### 50 people are selected at random, what are the chances that at least 2 of them have same birthdays"
   ]
  },
  {
   "cell_type": "code",
   "execution_count": 1,
   "metadata": {},
   "outputs": [],
   "source": [
    "n <- 50\n",
    "# Since birthdays can also be represented as numbers between 1-365, then we select 50 birthdays with replacement\n",
    "bdays <- sample(1:365, n, replace=TRUE)"
   ]
  },
  {
   "cell_type": "code",
   "execution_count": 2,
   "metadata": {},
   "outputs": [
    {
     "data": {
      "text/html": [
       "<style>\n",
       ".list-inline {list-style: none; margin:0; padding: 0}\n",
       ".list-inline>li {display: inline-block}\n",
       ".list-inline>li:not(:last-child)::after {content: \"\\00b7\"; padding: 0 .5ex}\n",
       "</style>\n",
       "<ol class=list-inline><li>99</li><li>186</li><li>239</li><li>48</li><li>348</li><li>120</li><li>60</li><li>143</li><li>301</li><li>177</li><li>260</li><li>358</li><li>103</li><li>273</li><li>133</li><li>278</li><li>329</li><li>201</li><li>91</li><li>331</li><li>151</li><li>20</li><li>32</li><li>56</li><li>288</li><li>117</li><li>214</li><li>351</li><li>258</li><li>129</li><li>82</li><li>99</li><li>6</li><li>28</li><li>332</li><li>39</li><li>8</li><li>144</li><li>261</li><li>162</li><li>318</li><li>181</li><li>185</li><li>342</li><li>176</li><li>70</li><li>144</li><li>22</li><li>49</li><li>218</li></ol>\n"
      ],
      "text/latex": [
       "\\begin{enumerate*}\n",
       "\\item 99\n",
       "\\item 186\n",
       "\\item 239\n",
       "\\item 48\n",
       "\\item 348\n",
       "\\item 120\n",
       "\\item 60\n",
       "\\item 143\n",
       "\\item 301\n",
       "\\item 177\n",
       "\\item 260\n",
       "\\item 358\n",
       "\\item 103\n",
       "\\item 273\n",
       "\\item 133\n",
       "\\item 278\n",
       "\\item 329\n",
       "\\item 201\n",
       "\\item 91\n",
       "\\item 331\n",
       "\\item 151\n",
       "\\item 20\n",
       "\\item 32\n",
       "\\item 56\n",
       "\\item 288\n",
       "\\item 117\n",
       "\\item 214\n",
       "\\item 351\n",
       "\\item 258\n",
       "\\item 129\n",
       "\\item 82\n",
       "\\item 99\n",
       "\\item 6\n",
       "\\item 28\n",
       "\\item 332\n",
       "\\item 39\n",
       "\\item 8\n",
       "\\item 144\n",
       "\\item 261\n",
       "\\item 162\n",
       "\\item 318\n",
       "\\item 181\n",
       "\\item 185\n",
       "\\item 342\n",
       "\\item 176\n",
       "\\item 70\n",
       "\\item 144\n",
       "\\item 22\n",
       "\\item 49\n",
       "\\item 218\n",
       "\\end{enumerate*}\n"
      ],
      "text/markdown": [
       "1. 99\n",
       "2. 186\n",
       "3. 239\n",
       "4. 48\n",
       "5. 348\n",
       "6. 120\n",
       "7. 60\n",
       "8. 143\n",
       "9. 301\n",
       "10. 177\n",
       "11. 260\n",
       "12. 358\n",
       "13. 103\n",
       "14. 273\n",
       "15. 133\n",
       "16. 278\n",
       "17. 329\n",
       "18. 201\n",
       "19. 91\n",
       "20. 331\n",
       "21. 151\n",
       "22. 20\n",
       "23. 32\n",
       "24. 56\n",
       "25. 288\n",
       "26. 117\n",
       "27. 214\n",
       "28. 351\n",
       "29. 258\n",
       "30. 129\n",
       "31. 82\n",
       "32. 99\n",
       "33. 6\n",
       "34. 28\n",
       "35. 332\n",
       "36. 39\n",
       "37. 8\n",
       "38. 144\n",
       "39. 261\n",
       "40. 162\n",
       "41. 318\n",
       "42. 181\n",
       "43. 185\n",
       "44. 342\n",
       "45. 176\n",
       "46. 70\n",
       "47. 144\n",
       "48. 22\n",
       "49. 49\n",
       "50. 218\n",
       "\n",
       "\n"
      ],
      "text/plain": [
       " [1]  99 186 239  48 348 120  60 143 301 177 260 358 103 273 133 278 329 201  91\n",
       "[20] 331 151  20  32  56 288 117 214 351 258 129  82  99   6  28 332  39   8 144\n",
       "[39] 261 162 318 181 185 342 176  70 144  22  49 218"
      ]
     },
     "metadata": {},
     "output_type": "display_data"
    }
   ],
   "source": [
    "bdays"
   ]
  },
  {
   "cell_type": "code",
   "execution_count": 3,
   "metadata": {},
   "outputs": [
    {
     "data": {
      "text/html": [
       "<style>\n",
       ".list-inline {list-style: none; margin:0; padding: 0}\n",
       ".list-inline>li {display: inline-block}\n",
       ".list-inline>li:not(:last-child)::after {content: \"\\00b7\"; padding: 0 .5ex}\n",
       "</style>\n",
       "<ol class=list-inline><li>FALSE</li><li>FALSE</li><li>FALSE</li><li>FALSE</li><li>FALSE</li><li>FALSE</li><li>FALSE</li><li>FALSE</li><li>FALSE</li><li>FALSE</li><li>FALSE</li><li>FALSE</li><li>FALSE</li><li>FALSE</li><li>FALSE</li><li>FALSE</li><li>FALSE</li><li>FALSE</li><li>FALSE</li><li>FALSE</li><li>FALSE</li><li>FALSE</li><li>FALSE</li><li>FALSE</li><li>FALSE</li><li>FALSE</li><li>FALSE</li><li>FALSE</li><li>FALSE</li><li>FALSE</li><li>FALSE</li><li>TRUE</li><li>FALSE</li><li>FALSE</li><li>FALSE</li><li>FALSE</li><li>FALSE</li><li>FALSE</li><li>FALSE</li><li>FALSE</li><li>FALSE</li><li>FALSE</li><li>FALSE</li><li>FALSE</li><li>FALSE</li><li>FALSE</li><li>TRUE</li><li>FALSE</li><li>FALSE</li><li>FALSE</li></ol>\n"
      ],
      "text/latex": [
       "\\begin{enumerate*}\n",
       "\\item FALSE\n",
       "\\item FALSE\n",
       "\\item FALSE\n",
       "\\item FALSE\n",
       "\\item FALSE\n",
       "\\item FALSE\n",
       "\\item FALSE\n",
       "\\item FALSE\n",
       "\\item FALSE\n",
       "\\item FALSE\n",
       "\\item FALSE\n",
       "\\item FALSE\n",
       "\\item FALSE\n",
       "\\item FALSE\n",
       "\\item FALSE\n",
       "\\item FALSE\n",
       "\\item FALSE\n",
       "\\item FALSE\n",
       "\\item FALSE\n",
       "\\item FALSE\n",
       "\\item FALSE\n",
       "\\item FALSE\n",
       "\\item FALSE\n",
       "\\item FALSE\n",
       "\\item FALSE\n",
       "\\item FALSE\n",
       "\\item FALSE\n",
       "\\item FALSE\n",
       "\\item FALSE\n",
       "\\item FALSE\n",
       "\\item FALSE\n",
       "\\item TRUE\n",
       "\\item FALSE\n",
       "\\item FALSE\n",
       "\\item FALSE\n",
       "\\item FALSE\n",
       "\\item FALSE\n",
       "\\item FALSE\n",
       "\\item FALSE\n",
       "\\item FALSE\n",
       "\\item FALSE\n",
       "\\item FALSE\n",
       "\\item FALSE\n",
       "\\item FALSE\n",
       "\\item FALSE\n",
       "\\item FALSE\n",
       "\\item TRUE\n",
       "\\item FALSE\n",
       "\\item FALSE\n",
       "\\item FALSE\n",
       "\\end{enumerate*}\n"
      ],
      "text/markdown": [
       "1. FALSE\n",
       "2. FALSE\n",
       "3. FALSE\n",
       "4. FALSE\n",
       "5. FALSE\n",
       "6. FALSE\n",
       "7. FALSE\n",
       "8. FALSE\n",
       "9. FALSE\n",
       "10. FALSE\n",
       "11. FALSE\n",
       "12. FALSE\n",
       "13. FALSE\n",
       "14. FALSE\n",
       "15. FALSE\n",
       "16. FALSE\n",
       "17. FALSE\n",
       "18. FALSE\n",
       "19. FALSE\n",
       "20. FALSE\n",
       "21. FALSE\n",
       "22. FALSE\n",
       "23. FALSE\n",
       "24. FALSE\n",
       "25. FALSE\n",
       "26. FALSE\n",
       "27. FALSE\n",
       "28. FALSE\n",
       "29. FALSE\n",
       "30. FALSE\n",
       "31. FALSE\n",
       "32. TRUE\n",
       "33. FALSE\n",
       "34. FALSE\n",
       "35. FALSE\n",
       "36. FALSE\n",
       "37. FALSE\n",
       "38. FALSE\n",
       "39. FALSE\n",
       "40. FALSE\n",
       "41. FALSE\n",
       "42. FALSE\n",
       "43. FALSE\n",
       "44. FALSE\n",
       "45. FALSE\n",
       "46. FALSE\n",
       "47. TRUE\n",
       "48. FALSE\n",
       "49. FALSE\n",
       "50. FALSE\n",
       "\n",
       "\n"
      ],
      "text/plain": [
       " [1] FALSE FALSE FALSE FALSE FALSE FALSE FALSE FALSE FALSE FALSE FALSE FALSE\n",
       "[13] FALSE FALSE FALSE FALSE FALSE FALSE FALSE FALSE FALSE FALSE FALSE FALSE\n",
       "[25] FALSE FALSE FALSE FALSE FALSE FALSE FALSE  TRUE FALSE FALSE FALSE FALSE\n",
       "[37] FALSE FALSE FALSE FALSE FALSE FALSE FALSE FALSE FALSE FALSE  TRUE FALSE\n",
       "[49] FALSE FALSE"
      ]
     },
     "metadata": {},
     "output_type": "display_data"
    }
   ],
   "source": [
    "duplicated(bdays)"
   ]
  },
  {
   "cell_type": "code",
   "execution_count": 4,
   "metadata": {},
   "outputs": [
    {
     "data": {
      "text/html": [
       "TRUE"
      ],
      "text/latex": [
       "TRUE"
      ],
      "text/markdown": [
       "TRUE"
      ],
      "text/plain": [
       "[1] TRUE"
      ]
     },
     "metadata": {},
     "output_type": "display_data"
    }
   ],
   "source": [
    "any(duplicated(bdays))"
   ]
  },
  {
   "cell_type": "markdown",
   "metadata": {},
   "source": [
    "#### Perform monte carlo simulation to check above result again and again"
   ]
  },
  {
   "cell_type": "code",
   "execution_count": 5,
   "metadata": {},
   "outputs": [],
   "source": [
    "B <- 10000\n",
    "results <- replicate(B, {\n",
    "    bdays <- sample(1:365, n, replace=TRUE)\n",
    "    any(duplicated(bdays))\n",
    "})"
   ]
  },
  {
   "cell_type": "code",
   "execution_count": 6,
   "metadata": {},
   "outputs": [
    {
     "data": {
      "text/html": [
       "0.9731"
      ],
      "text/latex": [
       "0.9731"
      ],
      "text/markdown": [
       "0.9731"
      ],
      "text/plain": [
       "[1] 0.9731"
      ]
     },
     "metadata": {},
     "output_type": "display_data"
    }
   ],
   "source": [
    "mean(results) # Very high probability for at least 2 people to have same birthdays"
   ]
  },
  {
   "cell_type": "code",
   "execution_count": null,
   "metadata": {},
   "outputs": [],
   "source": []
  }
 ],
 "metadata": {
  "kernelspec": {
   "display_name": "R",
   "language": "R",
   "name": "ir"
  },
  "language_info": {
   "codemirror_mode": "r",
   "file_extension": ".r",
   "mimetype": "text/x-r-source",
   "name": "R",
   "pygments_lexer": "r",
   "version": "4.0.2"
  }
 },
 "nbformat": 4,
 "nbformat_minor": 4
}
