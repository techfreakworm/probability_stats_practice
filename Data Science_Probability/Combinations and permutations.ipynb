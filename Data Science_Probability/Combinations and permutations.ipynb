{
 "cells": [
  {
   "cell_type": "code",
   "execution_count": 4,
   "metadata": {},
   "outputs": [
    {
     "data": {
      "text/html": [
       "'Three Hearts'"
      ],
      "text/latex": [
       "'Three Hearts'"
      ],
      "text/markdown": [
       "'Three Hearts'"
      ],
      "text/plain": [
       "[1] \"Three Hearts\""
      ]
     },
     "metadata": {},
     "output_type": "display_data"
    }
   ],
   "source": [
    "number <- \"Three\"\n",
    "suit <- \"Hearts\"\n",
    "paste(number, suit) # Using paste on string"
   ]
  },
  {
   "cell_type": "code",
   "execution_count": 5,
   "metadata": {},
   "outputs": [
    {
     "data": {
      "text/html": [
       "<style>\n",
       ".list-inline {list-style: none; margin:0; padding: 0}\n",
       ".list-inline>li {display: inline-block}\n",
       ".list-inline>li:not(:last-child)::after {content: \"\\00b7\"; padding: 0 .5ex}\n",
       "</style>\n",
       "<ol class=list-inline><li>'a 1'</li><li>'b 2'</li><li>'c 3'</li><li>'d 4'</li><li>'e 5'</li></ol>\n"
      ],
      "text/latex": [
       "\\begin{enumerate*}\n",
       "\\item 'a 1'\n",
       "\\item 'b 2'\n",
       "\\item 'c 3'\n",
       "\\item 'd 4'\n",
       "\\item 'e 5'\n",
       "\\end{enumerate*}\n"
      ],
      "text/markdown": [
       "1. 'a 1'\n",
       "2. 'b 2'\n",
       "3. 'c 3'\n",
       "4. 'd 4'\n",
       "5. 'e 5'\n",
       "\n",
       "\n"
      ],
      "text/plain": [
       "[1] \"a 1\" \"b 2\" \"c 3\" \"d 4\" \"e 5\""
      ]
     },
     "metadata": {},
     "output_type": "display_data"
    }
   ],
   "source": [
    "paste(letters[1:5], as.character(1:5)) # Using paste on vectors"
   ]
  },
  {
   "cell_type": "code",
   "execution_count": 6,
   "metadata": {},
   "outputs": [
    {
     "data": {
      "text/html": [
       "<style>\n",
       ".list-inline {list-style: none; margin:0; padding: 0}\n",
       ".list-inline>li {display: inline-block}\n",
       ".list-inline>li:not(:last-child)::after {content: \"\\00b7\"; padding: 0 .5ex}\n",
       "</style>\n",
       "<ol class=list-inline><li>'a'</li><li>'b'</li><li>'c'</li><li>'d'</li><li>'e'</li><li>'f'</li><li>'g'</li><li>'h'</li><li>'i'</li><li>'j'</li><li>'k'</li><li>'l'</li><li>'m'</li><li>'n'</li><li>'o'</li><li>'p'</li><li>'q'</li><li>'r'</li><li>'s'</li><li>'t'</li><li>'u'</li><li>'v'</li><li>'w'</li><li>'x'</li><li>'y'</li><li>'z'</li></ol>\n"
      ],
      "text/latex": [
       "\\begin{enumerate*}\n",
       "\\item 'a'\n",
       "\\item 'b'\n",
       "\\item 'c'\n",
       "\\item 'd'\n",
       "\\item 'e'\n",
       "\\item 'f'\n",
       "\\item 'g'\n",
       "\\item 'h'\n",
       "\\item 'i'\n",
       "\\item 'j'\n",
       "\\item 'k'\n",
       "\\item 'l'\n",
       "\\item 'm'\n",
       "\\item 'n'\n",
       "\\item 'o'\n",
       "\\item 'p'\n",
       "\\item 'q'\n",
       "\\item 'r'\n",
       "\\item 's'\n",
       "\\item 't'\n",
       "\\item 'u'\n",
       "\\item 'v'\n",
       "\\item 'w'\n",
       "\\item 'x'\n",
       "\\item 'y'\n",
       "\\item 'z'\n",
       "\\end{enumerate*}\n"
      ],
      "text/markdown": [
       "1. 'a'\n",
       "2. 'b'\n",
       "3. 'c'\n",
       "4. 'd'\n",
       "5. 'e'\n",
       "6. 'f'\n",
       "7. 'g'\n",
       "8. 'h'\n",
       "9. 'i'\n",
       "10. 'j'\n",
       "11. 'k'\n",
       "12. 'l'\n",
       "13. 'm'\n",
       "14. 'n'\n",
       "15. 'o'\n",
       "16. 'p'\n",
       "17. 'q'\n",
       "18. 'r'\n",
       "19. 's'\n",
       "20. 't'\n",
       "21. 'u'\n",
       "22. 'v'\n",
       "23. 'w'\n",
       "24. 'x'\n",
       "25. 'y'\n",
       "26. 'z'\n",
       "\n",
       "\n"
      ],
      "text/plain": [
       " [1] \"a\" \"b\" \"c\" \"d\" \"e\" \"f\" \"g\" \"h\" \"i\" \"j\" \"k\" \"l\" \"m\" \"n\" \"o\" \"p\" \"q\" \"r\" \"s\"\n",
       "[20] \"t\" \"u\" \"v\" \"w\" \"x\" \"y\" \"z\""
      ]
     },
     "metadata": {},
     "output_type": "display_data"
    }
   ],
   "source": [
    "letters"
   ]
  },
  {
   "cell_type": "code",
   "execution_count": 7,
   "metadata": {},
   "outputs": [
    {
     "data": {
      "text/html": [
       "<table>\n",
       "<caption>A data.frame: 6 × 2</caption>\n",
       "<thead>\n",
       "\t<tr><th scope=col>pants</th><th scope=col>shirt</th></tr>\n",
       "\t<tr><th scope=col>&lt;fct&gt;</th><th scope=col>&lt;fct&gt;</th></tr>\n",
       "</thead>\n",
       "<tbody>\n",
       "\t<tr><td>blue </td><td>white</td></tr>\n",
       "\t<tr><td>black</td><td>white</td></tr>\n",
       "\t<tr><td>blue </td><td>grey </td></tr>\n",
       "\t<tr><td>black</td><td>grey </td></tr>\n",
       "\t<tr><td>blue </td><td>plaid</td></tr>\n",
       "\t<tr><td>black</td><td>plaid</td></tr>\n",
       "</tbody>\n",
       "</table>\n"
      ],
      "text/latex": [
       "A data.frame: 6 × 2\n",
       "\\begin{tabular}{ll}\n",
       " pants & shirt\\\\\n",
       " <fct> & <fct>\\\\\n",
       "\\hline\n",
       "\t blue  & white\\\\\n",
       "\t black & white\\\\\n",
       "\t blue  & grey \\\\\n",
       "\t black & grey \\\\\n",
       "\t blue  & plaid\\\\\n",
       "\t black & plaid\\\\\n",
       "\\end{tabular}\n"
      ],
      "text/markdown": [
       "\n",
       "A data.frame: 6 × 2\n",
       "\n",
       "| pants &lt;fct&gt; | shirt &lt;fct&gt; |\n",
       "|---|---|\n",
       "| blue  | white |\n",
       "| black | white |\n",
       "| blue  | grey  |\n",
       "| black | grey  |\n",
       "| blue  | plaid |\n",
       "| black | plaid |\n",
       "\n"
      ],
      "text/plain": [
       "  pants shirt\n",
       "1 blue  white\n",
       "2 black white\n",
       "3 blue  grey \n",
       "4 black grey \n",
       "5 blue  plaid\n",
       "6 black plaid"
      ]
     },
     "metadata": {},
     "output_type": "display_data"
    }
   ],
   "source": [
    "expand.grid(pants=c(\"blue\", \"black\"), shirt = c(\"white\", \"grey\", \"plaid\")) # Gives all possible combinations"
   ]
  },
  {
   "cell_type": "markdown",
   "metadata": {},
   "source": [
    "## Generating the deck of cards"
   ]
  },
  {
   "cell_type": "code",
   "execution_count": 13,
   "metadata": {},
   "outputs": [
    {
     "data": {
      "text/html": [
       "<table>\n",
       "<caption>A data.frame: 6 × 2</caption>\n",
       "<thead>\n",
       "\t<tr><th></th><th scope=col>number</th><th scope=col>suits</th></tr>\n",
       "\t<tr><th></th><th scope=col>&lt;fct&gt;</th><th scope=col>&lt;fct&gt;</th></tr>\n",
       "</thead>\n",
       "<tbody>\n",
       "\t<tr><th scope=row>1</th><td>Ace  </td><td>Diamonds</td></tr>\n",
       "\t<tr><th scope=row>2</th><td>Deuce</td><td>Diamonds</td></tr>\n",
       "\t<tr><th scope=row>3</th><td>Three</td><td>Diamonds</td></tr>\n",
       "\t<tr><th scope=row>4</th><td>Four </td><td>Diamonds</td></tr>\n",
       "\t<tr><th scope=row>5</th><td>Five </td><td>Diamonds</td></tr>\n",
       "\t<tr><th scope=row>6</th><td>Six  </td><td>Diamonds</td></tr>\n",
       "</tbody>\n",
       "</table>\n"
      ],
      "text/latex": [
       "A data.frame: 6 × 2\n",
       "\\begin{tabular}{r|ll}\n",
       "  & number & suits\\\\\n",
       "  & <fct> & <fct>\\\\\n",
       "\\hline\n",
       "\t1 & Ace   & Diamonds\\\\\n",
       "\t2 & Deuce & Diamonds\\\\\n",
       "\t3 & Three & Diamonds\\\\\n",
       "\t4 & Four  & Diamonds\\\\\n",
       "\t5 & Five  & Diamonds\\\\\n",
       "\t6 & Six   & Diamonds\\\\\n",
       "\\end{tabular}\n"
      ],
      "text/markdown": [
       "\n",
       "A data.frame: 6 × 2\n",
       "\n",
       "| <!--/--> | number &lt;fct&gt; | suits &lt;fct&gt; |\n",
       "|---|---|---|\n",
       "| 1 | Ace   | Diamonds |\n",
       "| 2 | Deuce | Diamonds |\n",
       "| 3 | Three | Diamonds |\n",
       "| 4 | Four  | Diamonds |\n",
       "| 5 | Five  | Diamonds |\n",
       "| 6 | Six   | Diamonds |\n",
       "\n"
      ],
      "text/plain": [
       "  number suits   \n",
       "1 Ace    Diamonds\n",
       "2 Deuce  Diamonds\n",
       "3 Three  Diamonds\n",
       "4 Four   Diamonds\n",
       "5 Five   Diamonds\n",
       "6 Six    Diamonds"
      ]
     },
     "metadata": {},
     "output_type": "display_data"
    }
   ],
   "source": [
    "suits <- c(\"Diamonds\", \"Clubs\", \"Hearts\", \"Spades\")\n",
    "numbers <- c(\"Ace\", \"Deuce\", \"Three\", \"Four\", \"Five\", \"Six\", \"Seven\", \"Eight\", \"Nine\", \"Ten\", \"Jack\", \"Queen\", \"King\")\n",
    "deck <- expand.grid(number=numbers, suits=suits)\n",
    "head(deck)"
   ]
  },
  {
   "cell_type": "code",
   "execution_count": 14,
   "metadata": {},
   "outputs": [
    {
     "data": {
      "text/html": [
       "<style>\n",
       ".list-inline {list-style: none; margin:0; padding: 0}\n",
       ".list-inline>li {display: inline-block}\n",
       ".list-inline>li:not(:last-child)::after {content: \"\\00b7\"; padding: 0 .5ex}\n",
       "</style>\n",
       "<ol class=list-inline><li>'Ace Diamonds'</li><li>'Deuce Diamonds'</li><li>'Three Diamonds'</li><li>'Four Diamonds'</li><li>'Five Diamonds'</li><li>'Six Diamonds'</li><li>'Seven Diamonds'</li><li>'Eight Diamonds'</li><li>'Nine Diamonds'</li><li>'Ten Diamonds'</li><li>'Jack Diamonds'</li><li>'Queen Diamonds'</li><li>'King Diamonds'</li><li>'Ace Clubs'</li><li>'Deuce Clubs'</li><li>'Three Clubs'</li><li>'Four Clubs'</li><li>'Five Clubs'</li><li>'Six Clubs'</li><li>'Seven Clubs'</li><li>'Eight Clubs'</li><li>'Nine Clubs'</li><li>'Ten Clubs'</li><li>'Jack Clubs'</li><li>'Queen Clubs'</li><li>'King Clubs'</li><li>'Ace Hearts'</li><li>'Deuce Hearts'</li><li>'Three Hearts'</li><li>'Four Hearts'</li><li>'Five Hearts'</li><li>'Six Hearts'</li><li>'Seven Hearts'</li><li>'Eight Hearts'</li><li>'Nine Hearts'</li><li>'Ten Hearts'</li><li>'Jack Hearts'</li><li>'Queen Hearts'</li><li>'King Hearts'</li><li>'Ace Spades'</li><li>'Deuce Spades'</li><li>'Three Spades'</li><li>'Four Spades'</li><li>'Five Spades'</li><li>'Six Spades'</li><li>'Seven Spades'</li><li>'Eight Spades'</li><li>'Nine Spades'</li><li>'Ten Spades'</li><li>'Jack Spades'</li><li>'Queen Spades'</li><li>'King Spades'</li></ol>\n"
      ],
      "text/latex": [
       "\\begin{enumerate*}\n",
       "\\item 'Ace Diamonds'\n",
       "\\item 'Deuce Diamonds'\n",
       "\\item 'Three Diamonds'\n",
       "\\item 'Four Diamonds'\n",
       "\\item 'Five Diamonds'\n",
       "\\item 'Six Diamonds'\n",
       "\\item 'Seven Diamonds'\n",
       "\\item 'Eight Diamonds'\n",
       "\\item 'Nine Diamonds'\n",
       "\\item 'Ten Diamonds'\n",
       "\\item 'Jack Diamonds'\n",
       "\\item 'Queen Diamonds'\n",
       "\\item 'King Diamonds'\n",
       "\\item 'Ace Clubs'\n",
       "\\item 'Deuce Clubs'\n",
       "\\item 'Three Clubs'\n",
       "\\item 'Four Clubs'\n",
       "\\item 'Five Clubs'\n",
       "\\item 'Six Clubs'\n",
       "\\item 'Seven Clubs'\n",
       "\\item 'Eight Clubs'\n",
       "\\item 'Nine Clubs'\n",
       "\\item 'Ten Clubs'\n",
       "\\item 'Jack Clubs'\n",
       "\\item 'Queen Clubs'\n",
       "\\item 'King Clubs'\n",
       "\\item 'Ace Hearts'\n",
       "\\item 'Deuce Hearts'\n",
       "\\item 'Three Hearts'\n",
       "\\item 'Four Hearts'\n",
       "\\item 'Five Hearts'\n",
       "\\item 'Six Hearts'\n",
       "\\item 'Seven Hearts'\n",
       "\\item 'Eight Hearts'\n",
       "\\item 'Nine Hearts'\n",
       "\\item 'Ten Hearts'\n",
       "\\item 'Jack Hearts'\n",
       "\\item 'Queen Hearts'\n",
       "\\item 'King Hearts'\n",
       "\\item 'Ace Spades'\n",
       "\\item 'Deuce Spades'\n",
       "\\item 'Three Spades'\n",
       "\\item 'Four Spades'\n",
       "\\item 'Five Spades'\n",
       "\\item 'Six Spades'\n",
       "\\item 'Seven Spades'\n",
       "\\item 'Eight Spades'\n",
       "\\item 'Nine Spades'\n",
       "\\item 'Ten Spades'\n",
       "\\item 'Jack Spades'\n",
       "\\item 'Queen Spades'\n",
       "\\item 'King Spades'\n",
       "\\end{enumerate*}\n"
      ],
      "text/markdown": [
       "1. 'Ace Diamonds'\n",
       "2. 'Deuce Diamonds'\n",
       "3. 'Three Diamonds'\n",
       "4. 'Four Diamonds'\n",
       "5. 'Five Diamonds'\n",
       "6. 'Six Diamonds'\n",
       "7. 'Seven Diamonds'\n",
       "8. 'Eight Diamonds'\n",
       "9. 'Nine Diamonds'\n",
       "10. 'Ten Diamonds'\n",
       "11. 'Jack Diamonds'\n",
       "12. 'Queen Diamonds'\n",
       "13. 'King Diamonds'\n",
       "14. 'Ace Clubs'\n",
       "15. 'Deuce Clubs'\n",
       "16. 'Three Clubs'\n",
       "17. 'Four Clubs'\n",
       "18. 'Five Clubs'\n",
       "19. 'Six Clubs'\n",
       "20. 'Seven Clubs'\n",
       "21. 'Eight Clubs'\n",
       "22. 'Nine Clubs'\n",
       "23. 'Ten Clubs'\n",
       "24. 'Jack Clubs'\n",
       "25. 'Queen Clubs'\n",
       "26. 'King Clubs'\n",
       "27. 'Ace Hearts'\n",
       "28. 'Deuce Hearts'\n",
       "29. 'Three Hearts'\n",
       "30. 'Four Hearts'\n",
       "31. 'Five Hearts'\n",
       "32. 'Six Hearts'\n",
       "33. 'Seven Hearts'\n",
       "34. 'Eight Hearts'\n",
       "35. 'Nine Hearts'\n",
       "36. 'Ten Hearts'\n",
       "37. 'Jack Hearts'\n",
       "38. 'Queen Hearts'\n",
       "39. 'King Hearts'\n",
       "40. 'Ace Spades'\n",
       "41. 'Deuce Spades'\n",
       "42. 'Three Spades'\n",
       "43. 'Four Spades'\n",
       "44. 'Five Spades'\n",
       "45. 'Six Spades'\n",
       "46. 'Seven Spades'\n",
       "47. 'Eight Spades'\n",
       "48. 'Nine Spades'\n",
       "49. 'Ten Spades'\n",
       "50. 'Jack Spades'\n",
       "51. 'Queen Spades'\n",
       "52. 'King Spades'\n",
       "\n",
       "\n"
      ],
      "text/plain": [
       " [1] \"Ace Diamonds\"   \"Deuce Diamonds\" \"Three Diamonds\" \"Four Diamonds\" \n",
       " [5] \"Five Diamonds\"  \"Six Diamonds\"   \"Seven Diamonds\" \"Eight Diamonds\"\n",
       " [9] \"Nine Diamonds\"  \"Ten Diamonds\"   \"Jack Diamonds\"  \"Queen Diamonds\"\n",
       "[13] \"King Diamonds\"  \"Ace Clubs\"      \"Deuce Clubs\"    \"Three Clubs\"   \n",
       "[17] \"Four Clubs\"     \"Five Clubs\"     \"Six Clubs\"      \"Seven Clubs\"   \n",
       "[21] \"Eight Clubs\"    \"Nine Clubs\"     \"Ten Clubs\"      \"Jack Clubs\"    \n",
       "[25] \"Queen Clubs\"    \"King Clubs\"     \"Ace Hearts\"     \"Deuce Hearts\"  \n",
       "[29] \"Three Hearts\"   \"Four Hearts\"    \"Five Hearts\"    \"Six Hearts\"    \n",
       "[33] \"Seven Hearts\"   \"Eight Hearts\"   \"Nine Hearts\"    \"Ten Hearts\"    \n",
       "[37] \"Jack Hearts\"    \"Queen Hearts\"   \"King Hearts\"    \"Ace Spades\"    \n",
       "[41] \"Deuce Spades\"   \"Three Spades\"   \"Four Spades\"    \"Five Spades\"   \n",
       "[45] \"Six Spades\"     \"Seven Spades\"   \"Eight Spades\"   \"Nine Spades\"   \n",
       "[49] \"Ten Spades\"     \"Jack Spades\"    \"Queen Spades\"   \"King Spades\"   "
      ]
     },
     "metadata": {},
     "output_type": "display_data"
    }
   ],
   "source": [
    "deck <- paste(deck$number, deck$suit)\n",
    "deck"
   ]
  },
  {
   "cell_type": "code",
   "execution_count": 15,
   "metadata": {},
   "outputs": [
    {
     "data": {
      "text/html": [
       "52"
      ],
      "text/latex": [
       "52"
      ],
      "text/markdown": [
       "52"
      ],
      "text/plain": [
       "[1] 52"
      ]
     },
     "metadata": {},
     "output_type": "display_data"
    }
   ],
   "source": [
    "length(deck)"
   ]
  },
  {
   "cell_type": "markdown",
   "metadata": {},
   "source": [
    "### Possible ways to select a king"
   ]
  },
  {
   "cell_type": "code",
   "execution_count": 32,
   "metadata": {},
   "outputs": [
    {
     "data": {
      "text/html": [
       "<style>\n",
       ".list-inline {list-style: none; margin:0; padding: 0}\n",
       ".list-inline>li {display: inline-block}\n",
       ".list-inline>li:not(:last-child)::after {content: \"\\00b7\"; padding: 0 .5ex}\n",
       "</style>\n",
       "<ol class=list-inline><li>'King Diamonds'</li><li>'King Clubs'</li><li>'King Hearts'</li><li>'King Spades'</li></ol>\n"
      ],
      "text/latex": [
       "\\begin{enumerate*}\n",
       "\\item 'King Diamonds'\n",
       "\\item 'King Clubs'\n",
       "\\item 'King Hearts'\n",
       "\\item 'King Spades'\n",
       "\\end{enumerate*}\n"
      ],
      "text/markdown": [
       "1. 'King Diamonds'\n",
       "2. 'King Clubs'\n",
       "3. 'King Hearts'\n",
       "4. 'King Spades'\n",
       "\n",
       "\n"
      ],
      "text/plain": [
       "[1] \"King Diamonds\" \"King Clubs\"    \"King Hearts\"   \"King Spades\"  "
      ]
     },
     "metadata": {},
     "output_type": "display_data"
    }
   ],
   "source": [
    "kings <- paste(\"King\", suits)\n",
    "kings"
   ]
  },
  {
   "cell_type": "code",
   "execution_count": 18,
   "metadata": {},
   "outputs": [
    {
     "data": {
      "text/html": [
       "0.0769230769230769"
      ],
      "text/latex": [
       "0.0769230769230769"
      ],
      "text/markdown": [
       "0.0769230769230769"
      ],
      "text/plain": [
       "[1] 0.07692308"
      ]
     },
     "metadata": {},
     "output_type": "display_data"
    }
   ],
   "source": [
    "mean(deck %in% kings) #What proportion of deck is 'kings'"
   ]
  },
  {
   "cell_type": "markdown",
   "metadata": {},
   "source": [
    "## Using PnC from 'gtools' to select according to conditional probability"
   ]
  },
  {
   "cell_type": "code",
   "execution_count": 20,
   "metadata": {},
   "outputs": [],
   "source": [
    "library(gtools)"
   ]
  },
  {
   "cell_type": "code",
   "execution_count": 22,
   "metadata": {},
   "outputs": [
    {
     "data": {
      "text/html": [
       "<table>\n",
       "<caption>A matrix: 20 × 2 of type int</caption>\n",
       "<tbody>\n",
       "\t<tr><td>1</td><td>2</td></tr>\n",
       "\t<tr><td>1</td><td>3</td></tr>\n",
       "\t<tr><td>1</td><td>4</td></tr>\n",
       "\t<tr><td>1</td><td>5</td></tr>\n",
       "\t<tr><td>2</td><td>1</td></tr>\n",
       "\t<tr><td>2</td><td>3</td></tr>\n",
       "\t<tr><td>2</td><td>4</td></tr>\n",
       "\t<tr><td>2</td><td>5</td></tr>\n",
       "\t<tr><td>3</td><td>1</td></tr>\n",
       "\t<tr><td>3</td><td>2</td></tr>\n",
       "\t<tr><td>3</td><td>4</td></tr>\n",
       "\t<tr><td>3</td><td>5</td></tr>\n",
       "\t<tr><td>4</td><td>1</td></tr>\n",
       "\t<tr><td>4</td><td>2</td></tr>\n",
       "\t<tr><td>4</td><td>3</td></tr>\n",
       "\t<tr><td>4</td><td>5</td></tr>\n",
       "\t<tr><td>5</td><td>1</td></tr>\n",
       "\t<tr><td>5</td><td>2</td></tr>\n",
       "\t<tr><td>5</td><td>3</td></tr>\n",
       "\t<tr><td>5</td><td>4</td></tr>\n",
       "</tbody>\n",
       "</table>\n"
      ],
      "text/latex": [
       "A matrix: 20 × 2 of type int\n",
       "\\begin{tabular}{ll}\n",
       "\t 1 & 2\\\\\n",
       "\t 1 & 3\\\\\n",
       "\t 1 & 4\\\\\n",
       "\t 1 & 5\\\\\n",
       "\t 2 & 1\\\\\n",
       "\t 2 & 3\\\\\n",
       "\t 2 & 4\\\\\n",
       "\t 2 & 5\\\\\n",
       "\t 3 & 1\\\\\n",
       "\t 3 & 2\\\\\n",
       "\t 3 & 4\\\\\n",
       "\t 3 & 5\\\\\n",
       "\t 4 & 1\\\\\n",
       "\t 4 & 2\\\\\n",
       "\t 4 & 3\\\\\n",
       "\t 4 & 5\\\\\n",
       "\t 5 & 1\\\\\n",
       "\t 5 & 2\\\\\n",
       "\t 5 & 3\\\\\n",
       "\t 5 & 4\\\\\n",
       "\\end{tabular}\n"
      ],
      "text/markdown": [
       "\n",
       "A matrix: 20 × 2 of type int\n",
       "\n",
       "| 1 | 2 |\n",
       "| 1 | 3 |\n",
       "| 1 | 4 |\n",
       "| 1 | 5 |\n",
       "| 2 | 1 |\n",
       "| 2 | 3 |\n",
       "| 2 | 4 |\n",
       "| 2 | 5 |\n",
       "| 3 | 1 |\n",
       "| 3 | 2 |\n",
       "| 3 | 4 |\n",
       "| 3 | 5 |\n",
       "| 4 | 1 |\n",
       "| 4 | 2 |\n",
       "| 4 | 3 |\n",
       "| 4 | 5 |\n",
       "| 5 | 1 |\n",
       "| 5 | 2 |\n",
       "| 5 | 3 |\n",
       "| 5 | 4 |\n",
       "\n"
      ],
      "text/plain": [
       "      [,1] [,2]\n",
       " [1,] 1    2   \n",
       " [2,] 1    3   \n",
       " [3,] 1    4   \n",
       " [4,] 1    5   \n",
       " [5,] 2    1   \n",
       " [6,] 2    3   \n",
       " [7,] 2    4   \n",
       " [8,] 2    5   \n",
       " [9,] 3    1   \n",
       "[10,] 3    2   \n",
       "[11,] 3    4   \n",
       "[12,] 3    5   \n",
       "[13,] 4    1   \n",
       "[14,] 4    2   \n",
       "[15,] 4    3   \n",
       "[16,] 4    5   \n",
       "[17,] 5    1   \n",
       "[18,] 5    2   \n",
       "[19,] 5    3   \n",
       "[20,] 5    4   "
      ]
     },
     "metadata": {},
     "output_type": "display_data"
    }
   ],
   "source": [
    "permutations(5,2) # Arranging 5 numbers (1 to 5) into 2 spaces, these are the results:"
   ]
  },
  {
   "cell_type": "markdown",
   "metadata": {},
   "source": [
    "#### Generating phone numbers"
   ]
  },
  {
   "cell_type": "code",
   "execution_count": 23,
   "metadata": {},
   "outputs": [],
   "source": [
    "all_phone_numbers <- permutations(10, 7, v=0:9) # Providing custom vector to use as source values to fit"
   ]
  },
  {
   "cell_type": "code",
   "execution_count": 24,
   "metadata": {},
   "outputs": [
    {
     "data": {
      "text/html": [
       "<style>\n",
       ".list-inline {list-style: none; margin:0; padding: 0}\n",
       ".list-inline>li {display: inline-block}\n",
       ".list-inline>li:not(:last-child)::after {content: \"\\00b7\"; padding: 0 .5ex}\n",
       "</style>\n",
       "<ol class=list-inline><li>88383</li><li>122350</li><li>517692</li><li>184976</li><li>227481</li></ol>\n"
      ],
      "text/latex": [
       "\\begin{enumerate*}\n",
       "\\item 88383\n",
       "\\item 122350\n",
       "\\item 517692\n",
       "\\item 184976\n",
       "\\item 227481\n",
       "\\end{enumerate*}\n"
      ],
      "text/markdown": [
       "1. 88383\n",
       "2. 122350\n",
       "3. 517692\n",
       "4. 184976\n",
       "5. 227481\n",
       "\n",
       "\n"
      ],
      "text/plain": [
       "[1]  88383 122350 517692 184976 227481"
      ]
     },
     "metadata": {},
     "output_type": "display_data"
    }
   ],
   "source": [
    "n <- nrow(all_phone_numbers)\n",
    "index <- sample(n, 5)\n",
    "index # Selecting 5 random indexes"
   ]
  },
  {
   "cell_type": "code",
   "execution_count": 25,
   "metadata": {},
   "outputs": [
    {
     "data": {
      "text/html": [
       "<table>\n",
       "<caption>A matrix: 5 × 7 of type int</caption>\n",
       "<tbody>\n",
       "\t<tr><td>1</td><td>5</td><td>2</td><td>3</td><td>7</td><td>0</td><td>8</td></tr>\n",
       "\t<tr><td>2</td><td>0</td><td>3</td><td>7</td><td>6</td><td>5</td><td>4</td></tr>\n",
       "\t<tr><td>8</td><td>5</td><td>0</td><td>3</td><td>1</td><td>6</td><td>9</td></tr>\n",
       "\t<tr><td>3</td><td>0</td><td>6</td><td>2</td><td>5</td><td>8</td><td>9</td></tr>\n",
       "\t<tr><td>3</td><td>7</td><td>8</td><td>6</td><td>5</td><td>0</td><td>1</td></tr>\n",
       "</tbody>\n",
       "</table>\n"
      ],
      "text/latex": [
       "A matrix: 5 × 7 of type int\n",
       "\\begin{tabular}{lllllll}\n",
       "\t 1 & 5 & 2 & 3 & 7 & 0 & 8\\\\\n",
       "\t 2 & 0 & 3 & 7 & 6 & 5 & 4\\\\\n",
       "\t 8 & 5 & 0 & 3 & 1 & 6 & 9\\\\\n",
       "\t 3 & 0 & 6 & 2 & 5 & 8 & 9\\\\\n",
       "\t 3 & 7 & 8 & 6 & 5 & 0 & 1\\\\\n",
       "\\end{tabular}\n"
      ],
      "text/markdown": [
       "\n",
       "A matrix: 5 × 7 of type int\n",
       "\n",
       "| 1 | 5 | 2 | 3 | 7 | 0 | 8 |\n",
       "| 2 | 0 | 3 | 7 | 6 | 5 | 4 |\n",
       "| 8 | 5 | 0 | 3 | 1 | 6 | 9 |\n",
       "| 3 | 0 | 6 | 2 | 5 | 8 | 9 |\n",
       "| 3 | 7 | 8 | 6 | 5 | 0 | 1 |\n",
       "\n"
      ],
      "text/plain": [
       "     [,1] [,2] [,3] [,4] [,5] [,6] [,7]\n",
       "[1,] 1    5    2    3    7    0    8   \n",
       "[2,] 2    0    3    7    6    5    4   \n",
       "[3,] 8    5    0    3    1    6    9   \n",
       "[4,] 3    0    6    2    5    8    9   \n",
       "[5,] 3    7    8    6    5    0    1   "
      ]
     },
     "metadata": {},
     "output_type": "display_data"
    }
   ],
   "source": [
    "all_phone_numbers[index,]"
   ]
  },
  {
   "cell_type": "markdown",
   "metadata": {},
   "source": [
    "### Selecting 2 cards where order matters (R version of multiplation rule) : CONDITIONAL PROBABILITY"
   ]
  },
  {
   "cell_type": "markdown",
   "metadata": {},
   "source": [
    "\\begin{align}\n",
    "Pr(B|A) = \\frac{Pr(A and B)}{Pr(A)}\\\\\n",
    "\\end{align}"
   ]
  },
  {
   "cell_type": "code",
   "execution_count": 27,
   "metadata": {},
   "outputs": [],
   "source": [
    "hands <- permutations(52, 2, v=dec)"
   ]
  },
  {
   "cell_type": "code",
   "execution_count": 30,
   "metadata": {},
   "outputs": [
    {
     "data": {
      "text/html": [
       "<table>\n",
       "<caption>A matrix: 6 × 2 of type chr</caption>\n",
       "<tbody>\n",
       "\t<tr><td>Ace Clubs</td><td>Ace Diamonds  </td></tr>\n",
       "\t<tr><td>Ace Clubs</td><td>Ace Hearts    </td></tr>\n",
       "\t<tr><td>Ace Clubs</td><td>Ace Spades    </td></tr>\n",
       "\t<tr><td>Ace Clubs</td><td>Deuce Clubs   </td></tr>\n",
       "\t<tr><td>Ace Clubs</td><td>Deuce Diamonds</td></tr>\n",
       "\t<tr><td>Ace Clubs</td><td>Deuce Hearts  </td></tr>\n",
       "</tbody>\n",
       "</table>\n"
      ],
      "text/latex": [
       "A matrix: 6 × 2 of type chr\n",
       "\\begin{tabular}{ll}\n",
       "\t Ace Clubs & Ace Diamonds  \\\\\n",
       "\t Ace Clubs & Ace Hearts    \\\\\n",
       "\t Ace Clubs & Ace Spades    \\\\\n",
       "\t Ace Clubs & Deuce Clubs   \\\\\n",
       "\t Ace Clubs & Deuce Diamonds\\\\\n",
       "\t Ace Clubs & Deuce Hearts  \\\\\n",
       "\\end{tabular}\n"
      ],
      "text/markdown": [
       "\n",
       "A matrix: 6 × 2 of type chr\n",
       "\n",
       "| Ace Clubs | Ace Diamonds   |\n",
       "| Ace Clubs | Ace Hearts     |\n",
       "| Ace Clubs | Ace Spades     |\n",
       "| Ace Clubs | Deuce Clubs    |\n",
       "| Ace Clubs | Deuce Diamonds |\n",
       "| Ace Clubs | Deuce Hearts   |\n",
       "\n"
      ],
      "text/plain": [
       "     [,1]      [,2]          \n",
       "[1,] Ace Clubs Ace Diamonds  \n",
       "[2,] Ace Clubs Ace Hearts    \n",
       "[3,] Ace Clubs Ace Spades    \n",
       "[4,] Ace Clubs Deuce Clubs   \n",
       "[5,] Ace Clubs Deuce Diamonds\n",
       "[6,] Ace Clubs Deuce Hearts  "
      ]
     },
     "metadata": {},
     "output_type": "display_data"
    }
   ],
   "source": [
    "head(hands)"
   ]
  },
  {
   "cell_type": "code",
   "execution_count": 38,
   "metadata": {},
   "outputs": [
    {
     "data": {
      "text/html": [
       "5304"
      ],
      "text/latex": [
       "5304"
      ],
      "text/markdown": [
       "5304"
      ],
      "text/plain": [
       "[1] 5304"
      ]
     },
     "metadata": {},
     "output_type": "display_data"
    }
   ],
   "source": [
    "length(hands)"
   ]
  },
  {
   "cell_type": "code",
   "execution_count": 39,
   "metadata": {},
   "outputs": [],
   "source": [
    "first_card <- hands[,1]\n",
    "second_card <- hands[,2]"
   ]
  },
  {
   "cell_type": "code",
   "execution_count": 43,
   "metadata": {},
   "outputs": [
    {
     "data": {
      "text/html": [
       "204"
      ],
      "text/latex": [
       "204"
      ],
      "text/markdown": [
       "204"
      ],
      "text/plain": [
       "[1] 204"
      ]
     },
     "metadata": {},
     "output_type": "display_data"
    }
   ],
   "source": [
    "first_card_king = sum(first_card %in% kings) # Checking first card is a king\n",
    "first_card_king"
   ]
  },
  {
   "cell_type": "code",
   "execution_count": 45,
   "metadata": {},
   "outputs": [
    {
     "data": {
      "text/html": [
       "12"
      ],
      "text/latex": [
       "12"
      ],
      "text/markdown": [
       "12"
      ],
      "text/plain": [
       "[1] 12"
      ]
     },
     "metadata": {},
     "output_type": "display_data"
    }
   ],
   "source": [
    "# Checking if first and second card both are kings\n",
    "both_first_and_second_king = sum(first_card %in% kings & second_card %in% kings)\n",
    "both_first_and_second_king"
   ]
  },
  {
   "cell_type": "code",
   "execution_count": 46,
   "metadata": {},
   "outputs": [
    {
     "data": {
      "text/html": [
       "0.0588235294117647"
      ],
      "text/latex": [
       "0.0588235294117647"
      ],
      "text/markdown": [
       "0.0588235294117647"
      ],
      "text/plain": [
       "[1] 0.05882353"
      ]
     },
     "metadata": {},
     "output_type": "display_data"
    }
   ],
   "source": [
    "# What proportion of 'first_card_king' is 'both_first_and_second_king' gives the conditional probability\n",
    "both_first_and_second_king/first_card_king"
   ]
  },
  {
   "cell_type": "markdown",
   "metadata": {},
   "source": [
    "## Generating combinations to win blackjack"
   ]
  },
  {
   "cell_type": "code",
   "execution_count": 48,
   "metadata": {},
   "outputs": [],
   "source": [
    "aces <- paste(\"Ace\", suits)"
   ]
  },
  {
   "cell_type": "code",
   "execution_count": 53,
   "metadata": {},
   "outputs": [
    {
     "data": {
      "text/html": [
       "<table>\n",
       "<caption>A data.frame: 16 × 2</caption>\n",
       "<thead>\n",
       "\t<tr><th scope=col>number</th><th scope=col>suit</th></tr>\n",
       "\t<tr><th scope=col>&lt;fct&gt;</th><th scope=col>&lt;fct&gt;</th></tr>\n",
       "</thead>\n",
       "<tbody>\n",
       "\t<tr><td>King </td><td>Diamonds</td></tr>\n",
       "\t<tr><td>Queen</td><td>Diamonds</td></tr>\n",
       "\t<tr><td>Jack </td><td>Diamonds</td></tr>\n",
       "\t<tr><td>Ten  </td><td>Diamonds</td></tr>\n",
       "\t<tr><td>King </td><td>Clubs   </td></tr>\n",
       "\t<tr><td>Queen</td><td>Clubs   </td></tr>\n",
       "\t<tr><td>Jack </td><td>Clubs   </td></tr>\n",
       "\t<tr><td>Ten  </td><td>Clubs   </td></tr>\n",
       "\t<tr><td>King </td><td>Hearts  </td></tr>\n",
       "\t<tr><td>Queen</td><td>Hearts  </td></tr>\n",
       "\t<tr><td>Jack </td><td>Hearts  </td></tr>\n",
       "\t<tr><td>Ten  </td><td>Hearts  </td></tr>\n",
       "\t<tr><td>King </td><td>Spades  </td></tr>\n",
       "\t<tr><td>Queen</td><td>Spades  </td></tr>\n",
       "\t<tr><td>Jack </td><td>Spades  </td></tr>\n",
       "\t<tr><td>Ten  </td><td>Spades  </td></tr>\n",
       "</tbody>\n",
       "</table>\n"
      ],
      "text/latex": [
       "A data.frame: 16 × 2\n",
       "\\begin{tabular}{ll}\n",
       " number & suit\\\\\n",
       " <fct> & <fct>\\\\\n",
       "\\hline\n",
       "\t King  & Diamonds\\\\\n",
       "\t Queen & Diamonds\\\\\n",
       "\t Jack  & Diamonds\\\\\n",
       "\t Ten   & Diamonds\\\\\n",
       "\t King  & Clubs   \\\\\n",
       "\t Queen & Clubs   \\\\\n",
       "\t Jack  & Clubs   \\\\\n",
       "\t Ten   & Clubs   \\\\\n",
       "\t King  & Hearts  \\\\\n",
       "\t Queen & Hearts  \\\\\n",
       "\t Jack  & Hearts  \\\\\n",
       "\t Ten   & Hearts  \\\\\n",
       "\t King  & Spades  \\\\\n",
       "\t Queen & Spades  \\\\\n",
       "\t Jack  & Spades  \\\\\n",
       "\t Ten   & Spades  \\\\\n",
       "\\end{tabular}\n"
      ],
      "text/markdown": [
       "\n",
       "A data.frame: 16 × 2\n",
       "\n",
       "| number &lt;fct&gt; | suit &lt;fct&gt; |\n",
       "|---|---|\n",
       "| King  | Diamonds |\n",
       "| Queen | Diamonds |\n",
       "| Jack  | Diamonds |\n",
       "| Ten   | Diamonds |\n",
       "| King  | Clubs    |\n",
       "| Queen | Clubs    |\n",
       "| Jack  | Clubs    |\n",
       "| Ten   | Clubs    |\n",
       "| King  | Hearts   |\n",
       "| Queen | Hearts   |\n",
       "| Jack  | Hearts   |\n",
       "| Ten   | Hearts   |\n",
       "| King  | Spades   |\n",
       "| Queen | Spades   |\n",
       "| Jack  | Spades   |\n",
       "| Ten   | Spades   |\n",
       "\n"
      ],
      "text/plain": [
       "   number suit    \n",
       "1  King   Diamonds\n",
       "2  Queen  Diamonds\n",
       "3  Jack   Diamonds\n",
       "4  Ten    Diamonds\n",
       "5  King   Clubs   \n",
       "6  Queen  Clubs   \n",
       "7  Jack   Clubs   \n",
       "8  Ten    Clubs   \n",
       "9  King   Hearts  \n",
       "10 Queen  Hearts  \n",
       "11 Jack   Hearts  \n",
       "12 Ten    Hearts  \n",
       "13 King   Spades  \n",
       "14 Queen  Spades  \n",
       "15 Jack   Spades  \n",
       "16 Ten    Spades  "
      ]
     },
     "metadata": {},
     "output_type": "display_data"
    }
   ],
   "source": [
    "facecard <- c(\"King\", \"Queen\", \"Jack\", \"Ten\")\n",
    "facecard <- expand.grid(number=facecard, suit=suits)\n",
    "facecard"
   ]
  },
  {
   "cell_type": "code",
   "execution_count": 54,
   "metadata": {},
   "outputs": [
    {
     "data": {
      "text/html": [
       "<style>\n",
       ".list-inline {list-style: none; margin:0; padding: 0}\n",
       ".list-inline>li {display: inline-block}\n",
       ".list-inline>li:not(:last-child)::after {content: \"\\00b7\"; padding: 0 .5ex}\n",
       "</style>\n",
       "<ol class=list-inline><li>'King Diamonds'</li><li>'Queen Diamonds'</li><li>'Jack Diamonds'</li><li>'Ten Diamonds'</li><li>'King Clubs'</li><li>'Queen Clubs'</li><li>'Jack Clubs'</li><li>'Ten Clubs'</li><li>'King Hearts'</li><li>'Queen Hearts'</li><li>'Jack Hearts'</li><li>'Ten Hearts'</li><li>'King Spades'</li><li>'Queen Spades'</li><li>'Jack Spades'</li><li>'Ten Spades'</li></ol>\n"
      ],
      "text/latex": [
       "\\begin{enumerate*}\n",
       "\\item 'King Diamonds'\n",
       "\\item 'Queen Diamonds'\n",
       "\\item 'Jack Diamonds'\n",
       "\\item 'Ten Diamonds'\n",
       "\\item 'King Clubs'\n",
       "\\item 'Queen Clubs'\n",
       "\\item 'Jack Clubs'\n",
       "\\item 'Ten Clubs'\n",
       "\\item 'King Hearts'\n",
       "\\item 'Queen Hearts'\n",
       "\\item 'Jack Hearts'\n",
       "\\item 'Ten Hearts'\n",
       "\\item 'King Spades'\n",
       "\\item 'Queen Spades'\n",
       "\\item 'Jack Spades'\n",
       "\\item 'Ten Spades'\n",
       "\\end{enumerate*}\n"
      ],
      "text/markdown": [
       "1. 'King Diamonds'\n",
       "2. 'Queen Diamonds'\n",
       "3. 'Jack Diamonds'\n",
       "4. 'Ten Diamonds'\n",
       "5. 'King Clubs'\n",
       "6. 'Queen Clubs'\n",
       "7. 'Jack Clubs'\n",
       "8. 'Ten Clubs'\n",
       "9. 'King Hearts'\n",
       "10. 'Queen Hearts'\n",
       "11. 'Jack Hearts'\n",
       "12. 'Ten Hearts'\n",
       "13. 'King Spades'\n",
       "14. 'Queen Spades'\n",
       "15. 'Jack Spades'\n",
       "16. 'Ten Spades'\n",
       "\n",
       "\n"
      ],
      "text/plain": [
       " [1] \"King Diamonds\"  \"Queen Diamonds\" \"Jack Diamonds\"  \"Ten Diamonds\"  \n",
       " [5] \"King Clubs\"     \"Queen Clubs\"    \"Jack Clubs\"     \"Ten Clubs\"     \n",
       " [9] \"King Hearts\"    \"Queen Hearts\"   \"Jack Hearts\"    \"Ten Hearts\"    \n",
       "[13] \"King Spades\"    \"Queen Spades\"   \"Jack Spades\"    \"Ten Spades\"    "
      ]
     },
     "metadata": {},
     "output_type": "display_data"
    }
   ],
   "source": [
    "facecard <- paste(facecard$number, facecard$suit)\n",
    "facecard"
   ]
  },
  {
   "cell_type": "code",
   "execution_count": 56,
   "metadata": {},
   "outputs": [
    {
     "data": {
      "text/html": [
       "<table>\n",
       "<caption>A matrix: 6 × 2 of type chr</caption>\n",
       "<tbody>\n",
       "\t<tr><td>Ace Clubs</td><td>Ace Diamonds  </td></tr>\n",
       "\t<tr><td>Ace Clubs</td><td>Ace Hearts    </td></tr>\n",
       "\t<tr><td>Ace Clubs</td><td>Ace Spades    </td></tr>\n",
       "\t<tr><td>Ace Clubs</td><td>Deuce Clubs   </td></tr>\n",
       "\t<tr><td>Ace Clubs</td><td>Deuce Diamonds</td></tr>\n",
       "\t<tr><td>Ace Clubs</td><td>Deuce Hearts  </td></tr>\n",
       "</tbody>\n",
       "</table>\n"
      ],
      "text/latex": [
       "A matrix: 6 × 2 of type chr\n",
       "\\begin{tabular}{ll}\n",
       "\t Ace Clubs & Ace Diamonds  \\\\\n",
       "\t Ace Clubs & Ace Hearts    \\\\\n",
       "\t Ace Clubs & Ace Spades    \\\\\n",
       "\t Ace Clubs & Deuce Clubs   \\\\\n",
       "\t Ace Clubs & Deuce Diamonds\\\\\n",
       "\t Ace Clubs & Deuce Hearts  \\\\\n",
       "\\end{tabular}\n"
      ],
      "text/markdown": [
       "\n",
       "A matrix: 6 × 2 of type chr\n",
       "\n",
       "| Ace Clubs | Ace Diamonds   |\n",
       "| Ace Clubs | Ace Hearts     |\n",
       "| Ace Clubs | Ace Spades     |\n",
       "| Ace Clubs | Deuce Clubs    |\n",
       "| Ace Clubs | Deuce Diamonds |\n",
       "| Ace Clubs | Deuce Hearts   |\n",
       "\n"
      ],
      "text/plain": [
       "     [,1]      [,2]          \n",
       "[1,] Ace Clubs Ace Diamonds  \n",
       "[2,] Ace Clubs Ace Hearts    \n",
       "[3,] Ace Clubs Ace Spades    \n",
       "[4,] Ace Clubs Deuce Clubs   \n",
       "[5,] Ace Clubs Deuce Diamonds\n",
       "[6,] Ace Clubs Deuce Hearts  "
      ]
     },
     "metadata": {},
     "output_type": "display_data"
    }
   ],
   "source": [
    "hands <- combinations(52, 2, v=deck)\n",
    "head(hands)"
   ]
  },
  {
   "cell_type": "code",
   "execution_count": 65,
   "metadata": {},
   "outputs": [
    {
     "data": {
      "text/html": [
       "0.0482654600301659"
      ],
      "text/latex": [
       "0.0482654600301659"
      ],
      "text/markdown": [
       "0.0482654600301659"
      ],
      "text/plain": [
       "[1] 0.04826546"
      ]
     },
     "metadata": {},
     "output_type": "display_data"
    }
   ],
   "source": [
    "# Counting how many times we get aces and facecard, since we calculated combinations, if ace-king appeared first, king-ace will not appear again.\n",
    "mean(hands[,1] %in% aces & hands[,2] %in% facecard) # Counting aces in 1st column since it will appear first and king-ace won't appear because it's combination, not permumation"
   ]
  },
  {
   "cell_type": "code",
   "execution_count": 68,
   "metadata": {},
   "outputs": [
    {
     "data": {
      "text/html": [
       "0.0482654600301659"
      ],
      "text/latex": [
       "0.0482654600301659"
      ],
      "text/markdown": [
       "0.0482654600301659"
      ],
      "text/plain": [
       "[1] 0.04826546"
      ]
     },
     "metadata": {},
     "output_type": "display_data"
    }
   ],
   "source": [
    "# To be safe, we will get the answer from both orders possible and keep the non zero one\n",
    "mean((hands[,1] %in% aces & hands[,2] %in% facecard) | mean(hands[,2] %in% aces & hands[,1] %in% facecard))"
   ]
  },
  {
   "cell_type": "markdown",
   "metadata": {},
   "source": [
    "### Approximating above stuff using Monte carlo method"
   ]
  },
  {
   "cell_type": "code",
   "execution_count": null,
   "metadata": {},
   "outputs": [],
   "source": []
  }
 ],
 "metadata": {
  "kernelspec": {
   "display_name": "R",
   "language": "R",
   "name": "ir"
  },
  "language_info": {
   "codemirror_mode": "r",
   "file_extension": ".r",
   "mimetype": "text/x-r-source",
   "name": "R",
   "pygments_lexer": "r",
   "version": "4.0.2"
  }
 },
 "nbformat": 4,
 "nbformat_minor": 4
}
