{
 "cells": [
  {
   "cell_type": "code",
   "execution_count": null,
   "metadata": {},
   "outputs": [],
   "source": [
    "# This line of example code simulates four independent random games where the Celtics either lose or win. Copy this example code to use within the `replicate` function.\n",
    "simulated_games <- sample(c(\"lose\",\"win\"), 4, replace = TRUE, prob = c(0.6, 0.4))\n",
    "\n",
    "# The variable 'B' specifies the number of times we want the simulation to run. Let's run the Monte Carlo simulation 10,000 times.\n",
    "B <- 10000\n",
    "\n",
    "# Use the `set.seed` function to make sure your answer matches the expected result after random sampling.\n",
    "set.seed(1)\n",
    "\n",
    "# Create an object called `celtic_wins` that replicates two steps for B iterations: (1) generating a random four-game series `simulated_games` using the example code, then (2) determining whether the simulated series contains at least one win for the Celtics. Put these steps on separate lines.\n",
    "celtic_wins <- replicate(B, {\n",
    "  simulated_games <- sample(c(\"lose\",\"win\"), 4, replace = TRUE, prob = c(0.6, 0.4))\n",
    "  any(simulated_games==\"win\")\n",
    "})\n",
    "\n",
    "# Calculate the frequency out of B iterations that the Celtics won at least one game. Print your answer to the console. \n",
    "mean(celtic_wins)"
   ]
  }
 ],
 "metadata": {
  "kernelspec": {
   "display_name": "R",
   "language": "R",
   "name": "ir"
  },
  "language_info": {
   "codemirror_mode": "r",
   "file_extension": ".r",
   "mimetype": "text/x-r-source",
   "name": "R",
   "pygments_lexer": "r",
   "version": "4.0.2"
  }
 },
 "nbformat": 4,
 "nbformat_minor": 4
}
