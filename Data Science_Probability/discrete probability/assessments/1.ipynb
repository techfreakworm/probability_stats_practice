{
 "cells": [
  {
   "cell_type": "markdown",
   "metadata": {},
   "source": [
    "In the 200m dash finals in the Olympics, 8 runners compete for 3 medals (order matters). In the 2012 Olympics, 3 of the 8 runners were from Jamaica and the other 5 were from different countries. The three medals were all won by Jamaica (Usain Bolt, Yohan Blake, and Warren Weir)."
   ]
  },
  {
   "cell_type": "markdown",
   "metadata": {},
   "source": [
    "## Question 1a\n",
    "How many different ways can the 3 medals be distributed across 8 runners?"
   ]
  },
  {
   "cell_type": "code",
   "execution_count": 1,
   "metadata": {},
   "outputs": [],
   "source": [
    "medals = c(\"gold\", \"silver\", \"bronze\")"
   ]
  },
  {
   "cell_type": "code",
   "execution_count": 9,
   "metadata": {},
   "outputs": [
    {
     "data": {
      "text/html": [
       "6561"
      ],
      "text/latex": [
       "6561"
      ],
      "text/markdown": [
       "6561"
      ],
      "text/plain": [
       "[1] 6561"
      ]
     },
     "metadata": {},
     "output_type": "display_data"
    }
   ],
   "source": [
    "nrow(expand.grid(rep(list(medals), 8)))"
   ]
  },
  {
   "cell_type": "markdown",
   "metadata": {},
   "source": [
    "### Answer"
   ]
  },
  {
   "cell_type": "code",
   "execution_count": 10,
   "metadata": {},
   "outputs": [],
   "source": [
    "library(gtools)"
   ]
  },
  {
   "cell_type": "code",
   "execution_count": 25,
   "metadata": {},
   "outputs": [],
   "source": [
    "medals <- permutations(8,3)"
   ]
  },
  {
   "cell_type": "code",
   "execution_count": 26,
   "metadata": {},
   "outputs": [
    {
     "data": {
      "text/html": [
       "<table>\n",
       "<caption>A matrix: 336 × 3 of type int</caption>\n",
       "<tbody>\n",
       "\t<tr><td>1</td><td>2</td><td>3</td></tr>\n",
       "\t<tr><td>1</td><td>2</td><td>4</td></tr>\n",
       "\t<tr><td>1</td><td>2</td><td>5</td></tr>\n",
       "\t<tr><td>1</td><td>2</td><td>6</td></tr>\n",
       "\t<tr><td>1</td><td>2</td><td>7</td></tr>\n",
       "\t<tr><td>1</td><td>2</td><td>8</td></tr>\n",
       "\t<tr><td>1</td><td>3</td><td>2</td></tr>\n",
       "\t<tr><td>1</td><td>3</td><td>4</td></tr>\n",
       "\t<tr><td>1</td><td>3</td><td>5</td></tr>\n",
       "\t<tr><td>1</td><td>3</td><td>6</td></tr>\n",
       "\t<tr><td>1</td><td>3</td><td>7</td></tr>\n",
       "\t<tr><td>1</td><td>3</td><td>8</td></tr>\n",
       "\t<tr><td>1</td><td>4</td><td>2</td></tr>\n",
       "\t<tr><td>1</td><td>4</td><td>3</td></tr>\n",
       "\t<tr><td>1</td><td>4</td><td>5</td></tr>\n",
       "\t<tr><td>1</td><td>4</td><td>6</td></tr>\n",
       "\t<tr><td>1</td><td>4</td><td>7</td></tr>\n",
       "\t<tr><td>1</td><td>4</td><td>8</td></tr>\n",
       "\t<tr><td>1</td><td>5</td><td>2</td></tr>\n",
       "\t<tr><td>1</td><td>5</td><td>3</td></tr>\n",
       "\t<tr><td>1</td><td>5</td><td>4</td></tr>\n",
       "\t<tr><td>1</td><td>5</td><td>6</td></tr>\n",
       "\t<tr><td>1</td><td>5</td><td>7</td></tr>\n",
       "\t<tr><td>1</td><td>5</td><td>8</td></tr>\n",
       "\t<tr><td>1</td><td>6</td><td>2</td></tr>\n",
       "\t<tr><td>1</td><td>6</td><td>3</td></tr>\n",
       "\t<tr><td>1</td><td>6</td><td>4</td></tr>\n",
       "\t<tr><td>1</td><td>6</td><td>5</td></tr>\n",
       "\t<tr><td>1</td><td>6</td><td>7</td></tr>\n",
       "\t<tr><td>1</td><td>6</td><td>8</td></tr>\n",
       "\t<tr><td>⋮</td><td>⋮</td><td>⋮</td></tr>\n",
       "\t<tr><td>8</td><td>3</td><td>1</td></tr>\n",
       "\t<tr><td>8</td><td>3</td><td>2</td></tr>\n",
       "\t<tr><td>8</td><td>3</td><td>4</td></tr>\n",
       "\t<tr><td>8</td><td>3</td><td>5</td></tr>\n",
       "\t<tr><td>8</td><td>3</td><td>6</td></tr>\n",
       "\t<tr><td>8</td><td>3</td><td>7</td></tr>\n",
       "\t<tr><td>8</td><td>4</td><td>1</td></tr>\n",
       "\t<tr><td>8</td><td>4</td><td>2</td></tr>\n",
       "\t<tr><td>8</td><td>4</td><td>3</td></tr>\n",
       "\t<tr><td>8</td><td>4</td><td>5</td></tr>\n",
       "\t<tr><td>8</td><td>4</td><td>6</td></tr>\n",
       "\t<tr><td>8</td><td>4</td><td>7</td></tr>\n",
       "\t<tr><td>8</td><td>5</td><td>1</td></tr>\n",
       "\t<tr><td>8</td><td>5</td><td>2</td></tr>\n",
       "\t<tr><td>8</td><td>5</td><td>3</td></tr>\n",
       "\t<tr><td>8</td><td>5</td><td>4</td></tr>\n",
       "\t<tr><td>8</td><td>5</td><td>6</td></tr>\n",
       "\t<tr><td>8</td><td>5</td><td>7</td></tr>\n",
       "\t<tr><td>8</td><td>6</td><td>1</td></tr>\n",
       "\t<tr><td>8</td><td>6</td><td>2</td></tr>\n",
       "\t<tr><td>8</td><td>6</td><td>3</td></tr>\n",
       "\t<tr><td>8</td><td>6</td><td>4</td></tr>\n",
       "\t<tr><td>8</td><td>6</td><td>5</td></tr>\n",
       "\t<tr><td>8</td><td>6</td><td>7</td></tr>\n",
       "\t<tr><td>8</td><td>7</td><td>1</td></tr>\n",
       "\t<tr><td>8</td><td>7</td><td>2</td></tr>\n",
       "\t<tr><td>8</td><td>7</td><td>3</td></tr>\n",
       "\t<tr><td>8</td><td>7</td><td>4</td></tr>\n",
       "\t<tr><td>8</td><td>7</td><td>5</td></tr>\n",
       "\t<tr><td>8</td><td>7</td><td>6</td></tr>\n",
       "</tbody>\n",
       "</table>\n"
      ],
      "text/latex": [
       "A matrix: 336 × 3 of type int\n",
       "\\begin{tabular}{lll}\n",
       "\t 1 & 2 & 3\\\\\n",
       "\t 1 & 2 & 4\\\\\n",
       "\t 1 & 2 & 5\\\\\n",
       "\t 1 & 2 & 6\\\\\n",
       "\t 1 & 2 & 7\\\\\n",
       "\t 1 & 2 & 8\\\\\n",
       "\t 1 & 3 & 2\\\\\n",
       "\t 1 & 3 & 4\\\\\n",
       "\t 1 & 3 & 5\\\\\n",
       "\t 1 & 3 & 6\\\\\n",
       "\t 1 & 3 & 7\\\\\n",
       "\t 1 & 3 & 8\\\\\n",
       "\t 1 & 4 & 2\\\\\n",
       "\t 1 & 4 & 3\\\\\n",
       "\t 1 & 4 & 5\\\\\n",
       "\t 1 & 4 & 6\\\\\n",
       "\t 1 & 4 & 7\\\\\n",
       "\t 1 & 4 & 8\\\\\n",
       "\t 1 & 5 & 2\\\\\n",
       "\t 1 & 5 & 3\\\\\n",
       "\t 1 & 5 & 4\\\\\n",
       "\t 1 & 5 & 6\\\\\n",
       "\t 1 & 5 & 7\\\\\n",
       "\t 1 & 5 & 8\\\\\n",
       "\t 1 & 6 & 2\\\\\n",
       "\t 1 & 6 & 3\\\\\n",
       "\t 1 & 6 & 4\\\\\n",
       "\t 1 & 6 & 5\\\\\n",
       "\t 1 & 6 & 7\\\\\n",
       "\t 1 & 6 & 8\\\\\n",
       "\t ⋮ & ⋮ & ⋮\\\\\n",
       "\t 8 & 3 & 1\\\\\n",
       "\t 8 & 3 & 2\\\\\n",
       "\t 8 & 3 & 4\\\\\n",
       "\t 8 & 3 & 5\\\\\n",
       "\t 8 & 3 & 6\\\\\n",
       "\t 8 & 3 & 7\\\\\n",
       "\t 8 & 4 & 1\\\\\n",
       "\t 8 & 4 & 2\\\\\n",
       "\t 8 & 4 & 3\\\\\n",
       "\t 8 & 4 & 5\\\\\n",
       "\t 8 & 4 & 6\\\\\n",
       "\t 8 & 4 & 7\\\\\n",
       "\t 8 & 5 & 1\\\\\n",
       "\t 8 & 5 & 2\\\\\n",
       "\t 8 & 5 & 3\\\\\n",
       "\t 8 & 5 & 4\\\\\n",
       "\t 8 & 5 & 6\\\\\n",
       "\t 8 & 5 & 7\\\\\n",
       "\t 8 & 6 & 1\\\\\n",
       "\t 8 & 6 & 2\\\\\n",
       "\t 8 & 6 & 3\\\\\n",
       "\t 8 & 6 & 4\\\\\n",
       "\t 8 & 6 & 5\\\\\n",
       "\t 8 & 6 & 7\\\\\n",
       "\t 8 & 7 & 1\\\\\n",
       "\t 8 & 7 & 2\\\\\n",
       "\t 8 & 7 & 3\\\\\n",
       "\t 8 & 7 & 4\\\\\n",
       "\t 8 & 7 & 5\\\\\n",
       "\t 8 & 7 & 6\\\\\n",
       "\\end{tabular}\n"
      ],
      "text/markdown": [
       "\n",
       "A matrix: 336 × 3 of type int\n",
       "\n",
       "| 1 | 2 | 3 |\n",
       "| 1 | 2 | 4 |\n",
       "| 1 | 2 | 5 |\n",
       "| 1 | 2 | 6 |\n",
       "| 1 | 2 | 7 |\n",
       "| 1 | 2 | 8 |\n",
       "| 1 | 3 | 2 |\n",
       "| 1 | 3 | 4 |\n",
       "| 1 | 3 | 5 |\n",
       "| 1 | 3 | 6 |\n",
       "| 1 | 3 | 7 |\n",
       "| 1 | 3 | 8 |\n",
       "| 1 | 4 | 2 |\n",
       "| 1 | 4 | 3 |\n",
       "| 1 | 4 | 5 |\n",
       "| 1 | 4 | 6 |\n",
       "| 1 | 4 | 7 |\n",
       "| 1 | 4 | 8 |\n",
       "| 1 | 5 | 2 |\n",
       "| 1 | 5 | 3 |\n",
       "| 1 | 5 | 4 |\n",
       "| 1 | 5 | 6 |\n",
       "| 1 | 5 | 7 |\n",
       "| 1 | 5 | 8 |\n",
       "| 1 | 6 | 2 |\n",
       "| 1 | 6 | 3 |\n",
       "| 1 | 6 | 4 |\n",
       "| 1 | 6 | 5 |\n",
       "| 1 | 6 | 7 |\n",
       "| 1 | 6 | 8 |\n",
       "| ⋮ | ⋮ | ⋮ |\n",
       "| 8 | 3 | 1 |\n",
       "| 8 | 3 | 2 |\n",
       "| 8 | 3 | 4 |\n",
       "| 8 | 3 | 5 |\n",
       "| 8 | 3 | 6 |\n",
       "| 8 | 3 | 7 |\n",
       "| 8 | 4 | 1 |\n",
       "| 8 | 4 | 2 |\n",
       "| 8 | 4 | 3 |\n",
       "| 8 | 4 | 5 |\n",
       "| 8 | 4 | 6 |\n",
       "| 8 | 4 | 7 |\n",
       "| 8 | 5 | 1 |\n",
       "| 8 | 5 | 2 |\n",
       "| 8 | 5 | 3 |\n",
       "| 8 | 5 | 4 |\n",
       "| 8 | 5 | 6 |\n",
       "| 8 | 5 | 7 |\n",
       "| 8 | 6 | 1 |\n",
       "| 8 | 6 | 2 |\n",
       "| 8 | 6 | 3 |\n",
       "| 8 | 6 | 4 |\n",
       "| 8 | 6 | 5 |\n",
       "| 8 | 6 | 7 |\n",
       "| 8 | 7 | 1 |\n",
       "| 8 | 7 | 2 |\n",
       "| 8 | 7 | 3 |\n",
       "| 8 | 7 | 4 |\n",
       "| 8 | 7 | 5 |\n",
       "| 8 | 7 | 6 |\n",
       "\n"
      ],
      "text/plain": [
       "      [,1] [,2] [,3]\n",
       " [1,] 1    2    3   \n",
       " [2,] 1    2    4   \n",
       " [3,] 1    2    5   \n",
       " [4,] 1    2    6   \n",
       " [5,] 1    2    7   \n",
       " [6,] 1    2    8   \n",
       " [7,] 1    3    2   \n",
       " [8,] 1    3    4   \n",
       " [9,] 1    3    5   \n",
       "[10,] 1    3    6   \n",
       "[11,] 1    3    7   \n",
       "[12,] 1    3    8   \n",
       "[13,] 1    4    2   \n",
       "[14,] 1    4    3   \n",
       "[15,] 1    4    5   \n",
       "[16,] 1    4    6   \n",
       "[17,] 1    4    7   \n",
       "[18,] 1    4    8   \n",
       "[19,] 1    5    2   \n",
       "[20,] 1    5    3   \n",
       "[21,] 1    5    4   \n",
       "[22,] 1    5    6   \n",
       "[23,] 1    5    7   \n",
       "[24,] 1    5    8   \n",
       "[25,] 1    6    2   \n",
       "[26,] 1    6    3   \n",
       "[27,] 1    6    4   \n",
       "[28,] 1    6    5   \n",
       "[29,] 1    6    7   \n",
       "[30,] 1    6    8   \n",
       "[31,] ⋮    ⋮    ⋮   \n",
       "[32,] 8    3    1   \n",
       "[33,] 8    3    2   \n",
       "[34,] 8    3    4   \n",
       "[35,] 8    3    5   \n",
       "[36,] 8    3    6   \n",
       "[37,] 8    3    7   \n",
       "[38,] 8    4    1   \n",
       "[39,] 8    4    2   \n",
       "[40,] 8    4    3   \n",
       "[41,] 8    4    5   \n",
       "[42,] 8    4    6   \n",
       "[43,] 8    4    7   \n",
       "[44,] 8    5    1   \n",
       "[45,] 8    5    2   \n",
       "[46,] 8    5    3   \n",
       "[47,] 8    5    4   \n",
       "[48,] 8    5    6   \n",
       "[49,] 8    5    7   \n",
       "[50,] 8    6    1   \n",
       "[51,] 8    6    2   \n",
       "[52,] 8    6    3   \n",
       "[53,] 8    6    4   \n",
       "[54,] 8    6    5   \n",
       "[55,] 8    6    7   \n",
       "[56,] 8    7    1   \n",
       "[57,] 8    7    2   \n",
       "[58,] 8    7    3   \n",
       "[59,] 8    7    4   \n",
       "[60,] 8    7    5   \n",
       "[61,] 8    7    6   "
      ]
     },
     "metadata": {},
     "output_type": "display_data"
    }
   ],
   "source": [
    "medals"
   ]
  },
  {
   "cell_type": "code",
   "execution_count": 14,
   "metadata": {},
   "outputs": [
    {
     "data": {
      "text/html": [
       "336"
      ],
      "text/latex": [
       "336"
      ],
      "text/markdown": [
       "336"
      ],
      "text/plain": [
       "[1] 336"
      ]
     },
     "metadata": {},
     "output_type": "display_data"
    }
   ],
   "source": [
    "nrow(medals)"
   ]
  },
  {
   "cell_type": "markdown",
   "metadata": {},
   "source": [
    "## Question 1b\n",
    "How many different ways can the three medals be distributed among the 3 runners from Jamaica?"
   ]
  },
  {
   "cell_type": "code",
   "execution_count": 21,
   "metadata": {},
   "outputs": [],
   "source": [
    "jamaica <- permutations(3,3)"
   ]
  },
  {
   "cell_type": "code",
   "execution_count": 22,
   "metadata": {},
   "outputs": [
    {
     "data": {
      "text/html": [
       "<table>\n",
       "<caption>A matrix: 6 × 3 of type int</caption>\n",
       "<tbody>\n",
       "\t<tr><td>1</td><td>2</td><td>3</td></tr>\n",
       "\t<tr><td>1</td><td>3</td><td>2</td></tr>\n",
       "\t<tr><td>2</td><td>1</td><td>3</td></tr>\n",
       "\t<tr><td>2</td><td>3</td><td>1</td></tr>\n",
       "\t<tr><td>3</td><td>1</td><td>2</td></tr>\n",
       "\t<tr><td>3</td><td>2</td><td>1</td></tr>\n",
       "</tbody>\n",
       "</table>\n"
      ],
      "text/latex": [
       "A matrix: 6 × 3 of type int\n",
       "\\begin{tabular}{lll}\n",
       "\t 1 & 2 & 3\\\\\n",
       "\t 1 & 3 & 2\\\\\n",
       "\t 2 & 1 & 3\\\\\n",
       "\t 2 & 3 & 1\\\\\n",
       "\t 3 & 1 & 2\\\\\n",
       "\t 3 & 2 & 1\\\\\n",
       "\\end{tabular}\n"
      ],
      "text/markdown": [
       "\n",
       "A matrix: 6 × 3 of type int\n",
       "\n",
       "| 1 | 2 | 3 |\n",
       "| 1 | 3 | 2 |\n",
       "| 2 | 1 | 3 |\n",
       "| 2 | 3 | 1 |\n",
       "| 3 | 1 | 2 |\n",
       "| 3 | 2 | 1 |\n",
       "\n"
      ],
      "text/plain": [
       "     [,1] [,2] [,3]\n",
       "[1,] 1    2    3   \n",
       "[2,] 1    3    2   \n",
       "[3,] 2    1    3   \n",
       "[4,] 2    3    1   \n",
       "[5,] 3    1    2   \n",
       "[6,] 3    2    1   "
      ]
     },
     "metadata": {},
     "output_type": "display_data"
    }
   ],
   "source": [
    "jamaica"
   ]
  },
  {
   "cell_type": "code",
   "execution_count": 23,
   "metadata": {},
   "outputs": [
    {
     "data": {
      "text/html": [
       "6"
      ],
      "text/latex": [
       "6"
      ],
      "text/markdown": [
       "6"
      ],
      "text/plain": [
       "[1] 6"
      ]
     },
     "metadata": {},
     "output_type": "display_data"
    }
   ],
   "source": [
    "nrow(jamaica)"
   ]
  },
  {
   "cell_type": "markdown",
   "metadata": {},
   "source": [
    "## Question 1c\n",
    "What is the probability that all 3 medals are won by Jamaica?"
   ]
  },
  {
   "cell_type": "code",
   "execution_count": 28,
   "metadata": {},
   "outputs": [
    {
     "data": {
      "text/html": [
       "0.0178571428571429"
      ],
      "text/latex": [
       "0.0178571428571429"
      ],
      "text/markdown": [
       "0.0178571428571429"
      ],
      "text/plain": [
       "[1] 0.01785714"
      ]
     },
     "metadata": {},
     "output_type": "display_data"
    }
   ],
   "source": [
    "(3/8)*(2/7)*(1/6) # [Pr(jamaica winning first prize) * Pr(jamaica winning second given that it won first)*Pr(Jamaica won 3rd given that it won first and second)]"
   ]
  },
  {
   "cell_type": "markdown",
   "metadata": {},
   "source": [
    "### Answer"
   ]
  },
  {
   "cell_type": "code",
   "execution_count": 29,
   "metadata": {},
   "outputs": [
    {
     "data": {
      "text/html": [
       "0.0178571428571429"
      ],
      "text/latex": [
       "0.0178571428571429"
      ],
      "text/markdown": [
       "0.0178571428571429"
      ],
      "text/plain": [
       "[1] 0.01785714"
      ]
     },
     "metadata": {},
     "output_type": "display_data"
    }
   ],
   "source": [
    "nrow(jamaica)/nrow(medals) # (No. of favourable outocomes/ No. of total outcomes)"
   ]
  },
  {
   "cell_type": "markdown",
   "metadata": {},
   "source": [
    "## Question 1d\n",
    "Run a Monte Carlo simulation on this vector representing the countries of the 8 runners in this race: <br>\n",
    "`runners <- c(\"Jamaica\", \"Jamaica\", \"Jamaica\", \"USA\", \"Ecuador\", \"Netherlands\", \"France\", \"South Africa\")`\n"
   ]
  },
  {
   "cell_type": "code",
   "execution_count": 31,
   "metadata": {},
   "outputs": [],
   "source": [
    "runners <- c(\"Jamaica\", \"Jamaica\", \"Jamaica\", \"USA\", \"Ecuador\", \"Netherlands\", \"France\", \"South Africa\")"
   ]
  },
  {
   "cell_type": "code",
   "execution_count": 43,
   "metadata": {},
   "outputs": [],
   "source": [
    "B <- 10000\n",
    "set.seed(1)\n",
    "jamaican_wins <- replicate(B, {\n",
    "    winners <- sample(runners, 3)\n",
    "    length(winners[!winners %in% 'Jamaica' ]) == 0\n",
    "})"
   ]
  },
  {
   "cell_type": "code",
   "execution_count": 44,
   "metadata": {},
   "outputs": [
    {
     "data": {
      "text/html": [
       "0.0174"
      ],
      "text/latex": [
       "0.0174"
      ],
      "text/markdown": [
       "0.0174"
      ],
      "text/plain": [
       "[1] 0.0174"
      ]
     },
     "metadata": {},
     "output_type": "display_data"
    }
   ],
   "source": [
    "mean(jamaican_wins)"
   ]
  },
  {
   "cell_type": "markdown",
   "metadata": {},
   "source": [
    "### Answer"
   ]
  },
  {
   "cell_type": "code",
   "execution_count": 45,
   "metadata": {},
   "outputs": [
    {
     "data": {
      "text/html": [
       "0.0174"
      ],
      "text/latex": [
       "0.0174"
      ],
      "text/markdown": [
       "0.0174"
      ],
      "text/plain": [
       "[1] 0.0174"
      ]
     },
     "metadata": {},
     "output_type": "display_data"
    }
   ],
   "source": [
    "set.seed(1)\n",
    "runners <- c(\"Jamaica\", \"Jamaica\", \"Jamaica\", \"USA\", \"Ecuador\", \"Netherlands\", \"France\", \"South Africa\")\n",
    "B <- 10000\n",
    "all_jamaica <- replicate(B, {\n",
    "  results <- sample(runners, 3)\n",
    "  all(results == \"Jamaica\")\n",
    "})\n",
    "mean(all_jamaica)"
   ]
  },
  {
   "cell_type": "code",
   "execution_count": null,
   "metadata": {},
   "outputs": [],
   "source": []
  }
 ],
 "metadata": {
  "kernelspec": {
   "display_name": "R",
   "language": "R",
   "name": "ir"
  },
  "language_info": {
   "codemirror_mode": "r",
   "file_extension": ".r",
   "mimetype": "text/x-r-source",
   "name": "R",
   "pygments_lexer": "r",
   "version": "4.0.2"
  }
 },
 "nbformat": 4,
 "nbformat_minor": 4
}
