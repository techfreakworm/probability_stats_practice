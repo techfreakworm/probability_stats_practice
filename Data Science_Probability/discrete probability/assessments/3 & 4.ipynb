{
 "cells": [
  {
   "cell_type": "markdown",
   "metadata": {},
   "source": [
    "Case-control studies help determine whether certain exposures are associated with outcomes such as developing cancer. The built-in dataset esoph contains data from a case-control study in France comparing people with esophageal cancer (cases, counted in ncases) to people without esophageal cancer (controls, counted in ncontrols) that are carefully matched on a variety of demographic and medical characteristics. The study compares alcohol intake in grams per day (alcgp) and tobacco intake in grams per day (tobgp) across cases and controls grouped by age range (agegp).\n",
    "\n",
    "The dataset is available in base R and can be called with the variable name esoph:\n",
    "\n",
    "`head(esoph)` <br>\n",
    "You will be using this dataset to answer the following four multi-part questions (Questions 3-6).\n",
    "\n",
    "You may wish to use the tidyverse package:\n",
    "\n",
    "`library(tidyverse)` <br>\n",
    "The following three parts have you explore some basic characteristics of the dataset.\n",
    "\n",
    "Each row contains one group of the experiment. Each group has a different combination of age, alcohol consumption, and tobacco consumption. The number of cancer cases and number of controls (individuals without cancer) are reported for each group."
   ]
  },
  {
   "cell_type": "code",
   "execution_count": 1,
   "metadata": {},
   "outputs": [
    {
     "name": "stderr",
     "output_type": "stream",
     "text": [
      "── \u001b[1mAttaching packages\u001b[22m ─────────────────────────────────────── tidyverse 1.3.0 ──\n",
      "\n",
      "\u001b[32m✔\u001b[39m \u001b[34mggplot2\u001b[39m 3.3.2     \u001b[32m✔\u001b[39m \u001b[34mpurrr  \u001b[39m 0.3.4\n",
      "\u001b[32m✔\u001b[39m \u001b[34mtibble \u001b[39m 3.0.3     \u001b[32m✔\u001b[39m \u001b[34mdplyr  \u001b[39m 1.0.0\n",
      "\u001b[32m✔\u001b[39m \u001b[34mtidyr  \u001b[39m 1.1.1     \u001b[32m✔\u001b[39m \u001b[34mstringr\u001b[39m 1.4.0\n",
      "\u001b[32m✔\u001b[39m \u001b[34mreadr  \u001b[39m 1.3.1     \u001b[32m✔\u001b[39m \u001b[34mforcats\u001b[39m 0.5.0\n",
      "\n",
      "── \u001b[1mConflicts\u001b[22m ────────────────────────────────────────── tidyverse_conflicts() ──\n",
      "\u001b[31m✖\u001b[39m \u001b[34mdplyr\u001b[39m::\u001b[32mfilter()\u001b[39m masks \u001b[34mstats\u001b[39m::filter()\n",
      "\u001b[31m✖\u001b[39m \u001b[34mdplyr\u001b[39m::\u001b[32mlag()\u001b[39m    masks \u001b[34mstats\u001b[39m::lag()\n",
      "\n"
     ]
    }
   ],
   "source": [
    "library(tidyverse)"
   ]
  },
  {
   "cell_type": "markdown",
   "metadata": {},
   "source": [
    "## Question 3a\n",
    "How many groups are in the study?\n"
   ]
  },
  {
   "cell_type": "code",
   "execution_count": 3,
   "metadata": {},
   "outputs": [
    {
     "data": {
      "text/html": [
       "<table>\n",
       "<caption>A data.frame: 6 × 5</caption>\n",
       "<thead>\n",
       "\t<tr><th></th><th scope=col>agegp</th><th scope=col>alcgp</th><th scope=col>tobgp</th><th scope=col>ncases</th><th scope=col>ncontrols</th></tr>\n",
       "\t<tr><th></th><th scope=col>&lt;ord&gt;</th><th scope=col>&lt;ord&gt;</th><th scope=col>&lt;ord&gt;</th><th scope=col>&lt;dbl&gt;</th><th scope=col>&lt;dbl&gt;</th></tr>\n",
       "</thead>\n",
       "<tbody>\n",
       "\t<tr><th scope=row>1</th><td>25-34</td><td>0-39g/day</td><td>0-9g/day</td><td>0</td><td>40</td></tr>\n",
       "\t<tr><th scope=row>2</th><td>25-34</td><td>0-39g/day</td><td>10-19   </td><td>0</td><td>10</td></tr>\n",
       "\t<tr><th scope=row>3</th><td>25-34</td><td>0-39g/day</td><td>20-29   </td><td>0</td><td> 6</td></tr>\n",
       "\t<tr><th scope=row>4</th><td>25-34</td><td>0-39g/day</td><td>30+     </td><td>0</td><td> 5</td></tr>\n",
       "\t<tr><th scope=row>5</th><td>25-34</td><td>40-79    </td><td>0-9g/day</td><td>0</td><td>27</td></tr>\n",
       "\t<tr><th scope=row>6</th><td>25-34</td><td>40-79    </td><td>10-19   </td><td>0</td><td> 7</td></tr>\n",
       "</tbody>\n",
       "</table>\n"
      ],
      "text/latex": [
       "A data.frame: 6 × 5\n",
       "\\begin{tabular}{r|lllll}\n",
       "  & agegp & alcgp & tobgp & ncases & ncontrols\\\\\n",
       "  & <ord> & <ord> & <ord> & <dbl> & <dbl>\\\\\n",
       "\\hline\n",
       "\t1 & 25-34 & 0-39g/day & 0-9g/day & 0 & 40\\\\\n",
       "\t2 & 25-34 & 0-39g/day & 10-19    & 0 & 10\\\\\n",
       "\t3 & 25-34 & 0-39g/day & 20-29    & 0 &  6\\\\\n",
       "\t4 & 25-34 & 0-39g/day & 30+      & 0 &  5\\\\\n",
       "\t5 & 25-34 & 40-79     & 0-9g/day & 0 & 27\\\\\n",
       "\t6 & 25-34 & 40-79     & 10-19    & 0 &  7\\\\\n",
       "\\end{tabular}\n"
      ],
      "text/markdown": [
       "\n",
       "A data.frame: 6 × 5\n",
       "\n",
       "| <!--/--> | agegp &lt;ord&gt; | alcgp &lt;ord&gt; | tobgp &lt;ord&gt; | ncases &lt;dbl&gt; | ncontrols &lt;dbl&gt; |\n",
       "|---|---|---|---|---|---|\n",
       "| 1 | 25-34 | 0-39g/day | 0-9g/day | 0 | 40 |\n",
       "| 2 | 25-34 | 0-39g/day | 10-19    | 0 | 10 |\n",
       "| 3 | 25-34 | 0-39g/day | 20-29    | 0 |  6 |\n",
       "| 4 | 25-34 | 0-39g/day | 30+      | 0 |  5 |\n",
       "| 5 | 25-34 | 40-79     | 0-9g/day | 0 | 27 |\n",
       "| 6 | 25-34 | 40-79     | 10-19    | 0 |  7 |\n",
       "\n"
      ],
      "text/plain": [
       "  agegp alcgp     tobgp    ncases ncontrols\n",
       "1 25-34 0-39g/day 0-9g/day 0      40       \n",
       "2 25-34 0-39g/day 10-19    0      10       \n",
       "3 25-34 0-39g/day 20-29    0       6       \n",
       "4 25-34 0-39g/day 30+      0       5       \n",
       "5 25-34 40-79     0-9g/day 0      27       \n",
       "6 25-34 40-79     10-19    0       7       "
      ]
     },
     "metadata": {},
     "output_type": "display_data"
    }
   ],
   "source": [
    "head(esoph)"
   ]
  },
  {
   "cell_type": "code",
   "execution_count": 4,
   "metadata": {},
   "outputs": [
    {
     "data": {
      "text/html": [
       "88"
      ],
      "text/latex": [
       "88"
      ],
      "text/markdown": [
       "88"
      ],
      "text/plain": [
       "[1] 88"
      ]
     },
     "metadata": {},
     "output_type": "display_data"
    }
   ],
   "source": [
    "nrow(esoph)"
   ]
  },
  {
   "cell_type": "markdown",
   "metadata": {},
   "source": [
    "## Question 3b\n",
    "<b>How many cases are there? </b><br>\n",
    "Save this value as `all_cases` for later problems."
   ]
  },
  {
   "cell_type": "code",
   "execution_count": 7,
   "metadata": {},
   "outputs": [
    {
     "data": {
      "text/html": [
       "200"
      ],
      "text/latex": [
       "200"
      ],
      "text/markdown": [
       "200"
      ],
      "text/plain": [
       "[1] 200"
      ]
     },
     "metadata": {},
     "output_type": "display_data"
    }
   ],
   "source": [
    "all_cases <- sum(esoph$ncases)\n",
    "all_cases"
   ]
  },
  {
   "cell_type": "markdown",
   "metadata": {},
   "source": [
    "## Question 3c\n",
    "<b>How many controls are there?</b> <br>\n",
    "Save this value as `all_controls` for later problems."
   ]
  },
  {
   "cell_type": "code",
   "execution_count": 10,
   "metadata": {},
   "outputs": [
    {
     "data": {
      "text/html": [
       "975"
      ],
      "text/latex": [
       "975"
      ],
      "text/markdown": [
       "975"
      ],
      "text/plain": [
       "[1] 975"
      ]
     },
     "metadata": {},
     "output_type": "display_data"
    }
   ],
   "source": [
    "all_controls <- sum(esoph$ncontrols)\n",
    "all_controls"
   ]
  },
  {
   "cell_type": "markdown",
   "metadata": {},
   "source": [
    "## Question 4a\n",
    "What is the probability that a subject in the highest alcohol consumption group is a cancer case?"
   ]
  },
  {
   "cell_type": "code",
   "execution_count": 11,
   "metadata": {},
   "outputs": [
    {
     "data": {
      "text/html": [
       "<table>\n",
       "<caption>A data.frame: 6 × 5</caption>\n",
       "<thead>\n",
       "\t<tr><th></th><th scope=col>agegp</th><th scope=col>alcgp</th><th scope=col>tobgp</th><th scope=col>ncases</th><th scope=col>ncontrols</th></tr>\n",
       "\t<tr><th></th><th scope=col>&lt;ord&gt;</th><th scope=col>&lt;ord&gt;</th><th scope=col>&lt;ord&gt;</th><th scope=col>&lt;dbl&gt;</th><th scope=col>&lt;dbl&gt;</th></tr>\n",
       "</thead>\n",
       "<tbody>\n",
       "\t<tr><th scope=row>1</th><td>25-34</td><td>0-39g/day</td><td>0-9g/day</td><td>0</td><td>40</td></tr>\n",
       "\t<tr><th scope=row>2</th><td>25-34</td><td>0-39g/day</td><td>10-19   </td><td>0</td><td>10</td></tr>\n",
       "\t<tr><th scope=row>3</th><td>25-34</td><td>0-39g/day</td><td>20-29   </td><td>0</td><td> 6</td></tr>\n",
       "\t<tr><th scope=row>4</th><td>25-34</td><td>0-39g/day</td><td>30+     </td><td>0</td><td> 5</td></tr>\n",
       "\t<tr><th scope=row>5</th><td>25-34</td><td>40-79    </td><td>0-9g/day</td><td>0</td><td>27</td></tr>\n",
       "\t<tr><th scope=row>6</th><td>25-34</td><td>40-79    </td><td>10-19   </td><td>0</td><td> 7</td></tr>\n",
       "</tbody>\n",
       "</table>\n"
      ],
      "text/latex": [
       "A data.frame: 6 × 5\n",
       "\\begin{tabular}{r|lllll}\n",
       "  & agegp & alcgp & tobgp & ncases & ncontrols\\\\\n",
       "  & <ord> & <ord> & <ord> & <dbl> & <dbl>\\\\\n",
       "\\hline\n",
       "\t1 & 25-34 & 0-39g/day & 0-9g/day & 0 & 40\\\\\n",
       "\t2 & 25-34 & 0-39g/day & 10-19    & 0 & 10\\\\\n",
       "\t3 & 25-34 & 0-39g/day & 20-29    & 0 &  6\\\\\n",
       "\t4 & 25-34 & 0-39g/day & 30+      & 0 &  5\\\\\n",
       "\t5 & 25-34 & 40-79     & 0-9g/day & 0 & 27\\\\\n",
       "\t6 & 25-34 & 40-79     & 10-19    & 0 &  7\\\\\n",
       "\\end{tabular}\n"
      ],
      "text/markdown": [
       "\n",
       "A data.frame: 6 × 5\n",
       "\n",
       "| <!--/--> | agegp &lt;ord&gt; | alcgp &lt;ord&gt; | tobgp &lt;ord&gt; | ncases &lt;dbl&gt; | ncontrols &lt;dbl&gt; |\n",
       "|---|---|---|---|---|---|\n",
       "| 1 | 25-34 | 0-39g/day | 0-9g/day | 0 | 40 |\n",
       "| 2 | 25-34 | 0-39g/day | 10-19    | 0 | 10 |\n",
       "| 3 | 25-34 | 0-39g/day | 20-29    | 0 |  6 |\n",
       "| 4 | 25-34 | 0-39g/day | 30+      | 0 |  5 |\n",
       "| 5 | 25-34 | 40-79     | 0-9g/day | 0 | 27 |\n",
       "| 6 | 25-34 | 40-79     | 10-19    | 0 |  7 |\n",
       "\n"
      ],
      "text/plain": [
       "  agegp alcgp     tobgp    ncases ncontrols\n",
       "1 25-34 0-39g/day 0-9g/day 0      40       \n",
       "2 25-34 0-39g/day 10-19    0      10       \n",
       "3 25-34 0-39g/day 20-29    0       6       \n",
       "4 25-34 0-39g/day 30+      0       5       \n",
       "5 25-34 40-79     0-9g/day 0      27       \n",
       "6 25-34 40-79     10-19    0       7       "
      ]
     },
     "metadata": {},
     "output_type": "display_data"
    }
   ],
   "source": [
    "head(esoph)"
   ]
  },
  {
   "cell_type": "code",
   "execution_count": 12,
   "metadata": {},
   "outputs": [
    {
     "data": {
      "text/html": [
       "120+\n",
       "<details>\n",
       "\t<summary style=display:list-item;cursor:pointer>\n",
       "\t\t<strong>Levels</strong>:\n",
       "\t</summary>\n",
       "\t<style>\n",
       "\t.list-inline {list-style: none; margin:0; padding: 0}\n",
       "\t.list-inline>li {display: inline-block}\n",
       "\t.list-inline>li:not(:last-child)::after {content: \"\\00b7\"; padding: 0 .5ex}\n",
       "\t</style>\n",
       "\t<ol class=list-inline><li>'0-39g/day'</li><li>'40-79'</li><li>'80-119'</li><li>'120+'</li></ol>\n",
       "</details>"
      ],
      "text/latex": [
       "120+\n",
       "\\emph{Levels}: \\begin{enumerate*}\n",
       "\\item '0-39g/day'\n",
       "\\item '40-79'\n",
       "\\item '80-119'\n",
       "\\item '120+'\n",
       "\\end{enumerate*}\n"
      ],
      "text/markdown": [
       "120+\n",
       "**Levels**: 1. '0-39g/day'\n",
       "2. '40-79'\n",
       "3. '80-119'\n",
       "4. '120+'\n",
       "\n",
       "\n"
      ],
      "text/plain": [
       "[1] 120+\n",
       "Levels: 0-39g/day < 40-79 < 80-119 < 120+"
      ]
     },
     "metadata": {},
     "output_type": "display_data"
    }
   ],
   "source": [
    "max(esoph$alcgp)"
   ]
  },
  {
   "cell_type": "code",
   "execution_count": 27,
   "metadata": {},
   "outputs": [
    {
     "data": {
      "text/html": [
       "<table>\n",
       "<caption>A data.frame: 21 × 5</caption>\n",
       "<thead>\n",
       "\t<tr><th scope=col>agegp</th><th scope=col>alcgp</th><th scope=col>tobgp</th><th scope=col>ncases</th><th scope=col>ncontrols</th></tr>\n",
       "\t<tr><th scope=col>&lt;ord&gt;</th><th scope=col>&lt;ord&gt;</th><th scope=col>&lt;ord&gt;</th><th scope=col>&lt;dbl&gt;</th><th scope=col>&lt;dbl&gt;</th></tr>\n",
       "</thead>\n",
       "<tbody>\n",
       "\t<tr><td>25-34</td><td>120+</td><td>0-9g/day</td><td>0</td><td> 1</td></tr>\n",
       "\t<tr><td>25-34</td><td>120+</td><td>10-19   </td><td>1</td><td> 1</td></tr>\n",
       "\t<tr><td>25-34</td><td>120+</td><td>20-29   </td><td>0</td><td> 1</td></tr>\n",
       "\t<tr><td>25-34</td><td>120+</td><td>30+     </td><td>0</td><td> 2</td></tr>\n",
       "\t<tr><td>35-44</td><td>120+</td><td>0-9g/day</td><td>2</td><td> 3</td></tr>\n",
       "\t<tr><td>35-44</td><td>120+</td><td>10-19   </td><td>0</td><td> 3</td></tr>\n",
       "\t<tr><td>35-44</td><td>120+</td><td>20-29   </td><td>2</td><td> 4</td></tr>\n",
       "\t<tr><td>45-54</td><td>120+</td><td>0-9g/day</td><td>4</td><td> 4</td></tr>\n",
       "\t<tr><td>45-54</td><td>120+</td><td>10-19   </td><td>3</td><td> 4</td></tr>\n",
       "\t<tr><td>45-54</td><td>120+</td><td>20-29   </td><td>2</td><td> 3</td></tr>\n",
       "\t<tr><td>45-54</td><td>120+</td><td>30+     </td><td>4</td><td> 4</td></tr>\n",
       "\t<tr><td>55-64</td><td>120+</td><td>0-9g/day</td><td>5</td><td>10</td></tr>\n",
       "\t<tr><td>55-64</td><td>120+</td><td>10-19   </td><td>6</td><td> 7</td></tr>\n",
       "\t<tr><td>55-64</td><td>120+</td><td>20-29   </td><td>2</td><td> 3</td></tr>\n",
       "\t<tr><td>55-64</td><td>120+</td><td>30+     </td><td>5</td><td> 6</td></tr>\n",
       "\t<tr><td>65-74</td><td>120+</td><td>0-9g/day</td><td>3</td><td> 4</td></tr>\n",
       "\t<tr><td>65-74</td><td>120+</td><td>10-19   </td><td>1</td><td> 2</td></tr>\n",
       "\t<tr><td>65-74</td><td>120+</td><td>20-29   </td><td>1</td><td> 1</td></tr>\n",
       "\t<tr><td>65-74</td><td>120+</td><td>30+     </td><td>1</td><td> 1</td></tr>\n",
       "\t<tr><td>75+  </td><td>120+</td><td>0-9g/day</td><td>2</td><td> 2</td></tr>\n",
       "\t<tr><td>75+  </td><td>120+</td><td>10-19   </td><td>1</td><td> 1</td></tr>\n",
       "</tbody>\n",
       "</table>\n"
      ],
      "text/latex": [
       "A data.frame: 21 × 5\n",
       "\\begin{tabular}{lllll}\n",
       " agegp & alcgp & tobgp & ncases & ncontrols\\\\\n",
       " <ord> & <ord> & <ord> & <dbl> & <dbl>\\\\\n",
       "\\hline\n",
       "\t 25-34 & 120+ & 0-9g/day & 0 &  1\\\\\n",
       "\t 25-34 & 120+ & 10-19    & 1 &  1\\\\\n",
       "\t 25-34 & 120+ & 20-29    & 0 &  1\\\\\n",
       "\t 25-34 & 120+ & 30+      & 0 &  2\\\\\n",
       "\t 35-44 & 120+ & 0-9g/day & 2 &  3\\\\\n",
       "\t 35-44 & 120+ & 10-19    & 0 &  3\\\\\n",
       "\t 35-44 & 120+ & 20-29    & 2 &  4\\\\\n",
       "\t 45-54 & 120+ & 0-9g/day & 4 &  4\\\\\n",
       "\t 45-54 & 120+ & 10-19    & 3 &  4\\\\\n",
       "\t 45-54 & 120+ & 20-29    & 2 &  3\\\\\n",
       "\t 45-54 & 120+ & 30+      & 4 &  4\\\\\n",
       "\t 55-64 & 120+ & 0-9g/day & 5 & 10\\\\\n",
       "\t 55-64 & 120+ & 10-19    & 6 &  7\\\\\n",
       "\t 55-64 & 120+ & 20-29    & 2 &  3\\\\\n",
       "\t 55-64 & 120+ & 30+      & 5 &  6\\\\\n",
       "\t 65-74 & 120+ & 0-9g/day & 3 &  4\\\\\n",
       "\t 65-74 & 120+ & 10-19    & 1 &  2\\\\\n",
       "\t 65-74 & 120+ & 20-29    & 1 &  1\\\\\n",
       "\t 65-74 & 120+ & 30+      & 1 &  1\\\\\n",
       "\t 75+   & 120+ & 0-9g/day & 2 &  2\\\\\n",
       "\t 75+   & 120+ & 10-19    & 1 &  1\\\\\n",
       "\\end{tabular}\n"
      ],
      "text/markdown": [
       "\n",
       "A data.frame: 21 × 5\n",
       "\n",
       "| agegp &lt;ord&gt; | alcgp &lt;ord&gt; | tobgp &lt;ord&gt; | ncases &lt;dbl&gt; | ncontrols &lt;dbl&gt; |\n",
       "|---|---|---|---|---|\n",
       "| 25-34 | 120+ | 0-9g/day | 0 |  1 |\n",
       "| 25-34 | 120+ | 10-19    | 1 |  1 |\n",
       "| 25-34 | 120+ | 20-29    | 0 |  1 |\n",
       "| 25-34 | 120+ | 30+      | 0 |  2 |\n",
       "| 35-44 | 120+ | 0-9g/day | 2 |  3 |\n",
       "| 35-44 | 120+ | 10-19    | 0 |  3 |\n",
       "| 35-44 | 120+ | 20-29    | 2 |  4 |\n",
       "| 45-54 | 120+ | 0-9g/day | 4 |  4 |\n",
       "| 45-54 | 120+ | 10-19    | 3 |  4 |\n",
       "| 45-54 | 120+ | 20-29    | 2 |  3 |\n",
       "| 45-54 | 120+ | 30+      | 4 |  4 |\n",
       "| 55-64 | 120+ | 0-9g/day | 5 | 10 |\n",
       "| 55-64 | 120+ | 10-19    | 6 |  7 |\n",
       "| 55-64 | 120+ | 20-29    | 2 |  3 |\n",
       "| 55-64 | 120+ | 30+      | 5 |  6 |\n",
       "| 65-74 | 120+ | 0-9g/day | 3 |  4 |\n",
       "| 65-74 | 120+ | 10-19    | 1 |  2 |\n",
       "| 65-74 | 120+ | 20-29    | 1 |  1 |\n",
       "| 65-74 | 120+ | 30+      | 1 |  1 |\n",
       "| 75+   | 120+ | 0-9g/day | 2 |  2 |\n",
       "| 75+   | 120+ | 10-19    | 1 |  1 |\n",
       "\n"
      ],
      "text/plain": [
       "   agegp alcgp tobgp    ncases ncontrols\n",
       "1  25-34 120+  0-9g/day 0       1       \n",
       "2  25-34 120+  10-19    1       1       \n",
       "3  25-34 120+  20-29    0       1       \n",
       "4  25-34 120+  30+      0       2       \n",
       "5  35-44 120+  0-9g/day 2       3       \n",
       "6  35-44 120+  10-19    0       3       \n",
       "7  35-44 120+  20-29    2       4       \n",
       "8  45-54 120+  0-9g/day 4       4       \n",
       "9  45-54 120+  10-19    3       4       \n",
       "10 45-54 120+  20-29    2       3       \n",
       "11 45-54 120+  30+      4       4       \n",
       "12 55-64 120+  0-9g/day 5      10       \n",
       "13 55-64 120+  10-19    6       7       \n",
       "14 55-64 120+  20-29    2       3       \n",
       "15 55-64 120+  30+      5       6       \n",
       "16 65-74 120+  0-9g/day 3       4       \n",
       "17 65-74 120+  10-19    1       2       \n",
       "18 65-74 120+  20-29    1       1       \n",
       "19 65-74 120+  30+      1       1       \n",
       "20 75+   120+  0-9g/day 2       2       \n",
       "21 75+   120+  10-19    1       1       "
      ]
     },
     "metadata": {},
     "output_type": "display_data"
    }
   ],
   "source": [
    "df <- esoph %>% filter(alcgp >= '120+')\n",
    "df"
   ]
  },
  {
   "cell_type": "code",
   "execution_count": 26,
   "metadata": {},
   "outputs": [
    {
     "data": {
      "text/html": [
       "0.671641791044776"
      ],
      "text/latex": [
       "0.671641791044776"
      ],
      "text/markdown": [
       "0.671641791044776"
      ],
      "text/plain": [
       "[1] 0.6716418"
      ]
     },
     "metadata": {},
     "output_type": "display_data"
    }
   ],
   "source": [
    "sum(df$ncases)/sum(df$ncontrols)"
   ]
  },
  {
   "cell_type": "markdown",
   "metadata": {},
   "source": [
    "### Answer"
   ]
  },
  {
   "cell_type": "code",
   "execution_count": 30,
   "metadata": {},
   "outputs": [
    {
     "data": {
      "text/html": [
       "<table>\n",
       "<caption>A data.frame: 21 × 5</caption>\n",
       "<thead>\n",
       "\t<tr><th scope=col>agegp</th><th scope=col>alcgp</th><th scope=col>tobgp</th><th scope=col>ncases</th><th scope=col>ncontrols</th></tr>\n",
       "\t<tr><th scope=col>&lt;ord&gt;</th><th scope=col>&lt;ord&gt;</th><th scope=col>&lt;ord&gt;</th><th scope=col>&lt;dbl&gt;</th><th scope=col>&lt;dbl&gt;</th></tr>\n",
       "</thead>\n",
       "<tbody>\n",
       "\t<tr><td>25-34</td><td>120+</td><td>0-9g/day</td><td>0</td><td> 1</td></tr>\n",
       "\t<tr><td>25-34</td><td>120+</td><td>10-19   </td><td>1</td><td> 1</td></tr>\n",
       "\t<tr><td>25-34</td><td>120+</td><td>20-29   </td><td>0</td><td> 1</td></tr>\n",
       "\t<tr><td>25-34</td><td>120+</td><td>30+     </td><td>0</td><td> 2</td></tr>\n",
       "\t<tr><td>35-44</td><td>120+</td><td>0-9g/day</td><td>2</td><td> 3</td></tr>\n",
       "\t<tr><td>35-44</td><td>120+</td><td>10-19   </td><td>0</td><td> 3</td></tr>\n",
       "\t<tr><td>35-44</td><td>120+</td><td>20-29   </td><td>2</td><td> 4</td></tr>\n",
       "\t<tr><td>45-54</td><td>120+</td><td>0-9g/day</td><td>4</td><td> 4</td></tr>\n",
       "\t<tr><td>45-54</td><td>120+</td><td>10-19   </td><td>3</td><td> 4</td></tr>\n",
       "\t<tr><td>45-54</td><td>120+</td><td>20-29   </td><td>2</td><td> 3</td></tr>\n",
       "\t<tr><td>45-54</td><td>120+</td><td>30+     </td><td>4</td><td> 4</td></tr>\n",
       "\t<tr><td>55-64</td><td>120+</td><td>0-9g/day</td><td>5</td><td>10</td></tr>\n",
       "\t<tr><td>55-64</td><td>120+</td><td>10-19   </td><td>6</td><td> 7</td></tr>\n",
       "\t<tr><td>55-64</td><td>120+</td><td>20-29   </td><td>2</td><td> 3</td></tr>\n",
       "\t<tr><td>55-64</td><td>120+</td><td>30+     </td><td>5</td><td> 6</td></tr>\n",
       "\t<tr><td>65-74</td><td>120+</td><td>0-9g/day</td><td>3</td><td> 4</td></tr>\n",
       "\t<tr><td>65-74</td><td>120+</td><td>10-19   </td><td>1</td><td> 2</td></tr>\n",
       "\t<tr><td>65-74</td><td>120+</td><td>20-29   </td><td>1</td><td> 1</td></tr>\n",
       "\t<tr><td>65-74</td><td>120+</td><td>30+     </td><td>1</td><td> 1</td></tr>\n",
       "\t<tr><td>75+  </td><td>120+</td><td>0-9g/day</td><td>2</td><td> 2</td></tr>\n",
       "\t<tr><td>75+  </td><td>120+</td><td>10-19   </td><td>1</td><td> 1</td></tr>\n",
       "</tbody>\n",
       "</table>\n"
      ],
      "text/latex": [
       "A data.frame: 21 × 5\n",
       "\\begin{tabular}{lllll}\n",
       " agegp & alcgp & tobgp & ncases & ncontrols\\\\\n",
       " <ord> & <ord> & <ord> & <dbl> & <dbl>\\\\\n",
       "\\hline\n",
       "\t 25-34 & 120+ & 0-9g/day & 0 &  1\\\\\n",
       "\t 25-34 & 120+ & 10-19    & 1 &  1\\\\\n",
       "\t 25-34 & 120+ & 20-29    & 0 &  1\\\\\n",
       "\t 25-34 & 120+ & 30+      & 0 &  2\\\\\n",
       "\t 35-44 & 120+ & 0-9g/day & 2 &  3\\\\\n",
       "\t 35-44 & 120+ & 10-19    & 0 &  3\\\\\n",
       "\t 35-44 & 120+ & 20-29    & 2 &  4\\\\\n",
       "\t 45-54 & 120+ & 0-9g/day & 4 &  4\\\\\n",
       "\t 45-54 & 120+ & 10-19    & 3 &  4\\\\\n",
       "\t 45-54 & 120+ & 20-29    & 2 &  3\\\\\n",
       "\t 45-54 & 120+ & 30+      & 4 &  4\\\\\n",
       "\t 55-64 & 120+ & 0-9g/day & 5 & 10\\\\\n",
       "\t 55-64 & 120+ & 10-19    & 6 &  7\\\\\n",
       "\t 55-64 & 120+ & 20-29    & 2 &  3\\\\\n",
       "\t 55-64 & 120+ & 30+      & 5 &  6\\\\\n",
       "\t 65-74 & 120+ & 0-9g/day & 3 &  4\\\\\n",
       "\t 65-74 & 120+ & 10-19    & 1 &  2\\\\\n",
       "\t 65-74 & 120+ & 20-29    & 1 &  1\\\\\n",
       "\t 65-74 & 120+ & 30+      & 1 &  1\\\\\n",
       "\t 75+   & 120+ & 0-9g/day & 2 &  2\\\\\n",
       "\t 75+   & 120+ & 10-19    & 1 &  1\\\\\n",
       "\\end{tabular}\n"
      ],
      "text/markdown": [
       "\n",
       "A data.frame: 21 × 5\n",
       "\n",
       "| agegp &lt;ord&gt; | alcgp &lt;ord&gt; | tobgp &lt;ord&gt; | ncases &lt;dbl&gt; | ncontrols &lt;dbl&gt; |\n",
       "|---|---|---|---|---|\n",
       "| 25-34 | 120+ | 0-9g/day | 0 |  1 |\n",
       "| 25-34 | 120+ | 10-19    | 1 |  1 |\n",
       "| 25-34 | 120+ | 20-29    | 0 |  1 |\n",
       "| 25-34 | 120+ | 30+      | 0 |  2 |\n",
       "| 35-44 | 120+ | 0-9g/day | 2 |  3 |\n",
       "| 35-44 | 120+ | 10-19    | 0 |  3 |\n",
       "| 35-44 | 120+ | 20-29    | 2 |  4 |\n",
       "| 45-54 | 120+ | 0-9g/day | 4 |  4 |\n",
       "| 45-54 | 120+ | 10-19    | 3 |  4 |\n",
       "| 45-54 | 120+ | 20-29    | 2 |  3 |\n",
       "| 45-54 | 120+ | 30+      | 4 |  4 |\n",
       "| 55-64 | 120+ | 0-9g/day | 5 | 10 |\n",
       "| 55-64 | 120+ | 10-19    | 6 |  7 |\n",
       "| 55-64 | 120+ | 20-29    | 2 |  3 |\n",
       "| 55-64 | 120+ | 30+      | 5 |  6 |\n",
       "| 65-74 | 120+ | 0-9g/day | 3 |  4 |\n",
       "| 65-74 | 120+ | 10-19    | 1 |  2 |\n",
       "| 65-74 | 120+ | 20-29    | 1 |  1 |\n",
       "| 65-74 | 120+ | 30+      | 1 |  1 |\n",
       "| 75+   | 120+ | 0-9g/day | 2 |  2 |\n",
       "| 75+   | 120+ | 10-19    | 1 |  1 |\n",
       "\n"
      ],
      "text/plain": [
       "   agegp alcgp tobgp    ncases ncontrols\n",
       "1  25-34 120+  0-9g/day 0       1       \n",
       "2  25-34 120+  10-19    1       1       \n",
       "3  25-34 120+  20-29    0       1       \n",
       "4  25-34 120+  30+      0       2       \n",
       "5  35-44 120+  0-9g/day 2       3       \n",
       "6  35-44 120+  10-19    0       3       \n",
       "7  35-44 120+  20-29    2       4       \n",
       "8  45-54 120+  0-9g/day 4       4       \n",
       "9  45-54 120+  10-19    3       4       \n",
       "10 45-54 120+  20-29    2       3       \n",
       "11 45-54 120+  30+      4       4       \n",
       "12 55-64 120+  0-9g/day 5      10       \n",
       "13 55-64 120+  10-19    6       7       \n",
       "14 55-64 120+  20-29    2       3       \n",
       "15 55-64 120+  30+      5       6       \n",
       "16 65-74 120+  0-9g/day 3       4       \n",
       "17 65-74 120+  10-19    1       2       \n",
       "18 65-74 120+  20-29    1       1       \n",
       "19 65-74 120+  30+      1       1       \n",
       "20 75+   120+  0-9g/day 2       2       \n",
       "21 75+   120+  10-19    1       1       "
      ]
     },
     "metadata": {},
     "output_type": "display_data"
    }
   ],
   "source": [
    "esoph %>%\n",
    "filter(alcgp == \"120+\") "
   ]
  },
  {
   "cell_type": "code",
   "execution_count": 31,
   "metadata": {},
   "outputs": [
    {
     "data": {
      "text/html": [
       "<table>\n",
       "<caption>A data.frame: 1 × 2</caption>\n",
       "<thead>\n",
       "\t<tr><th scope=col>ncases</th><th scope=col>ncontrols</th></tr>\n",
       "\t<tr><th scope=col>&lt;dbl&gt;</th><th scope=col>&lt;dbl&gt;</th></tr>\n",
       "</thead>\n",
       "<tbody>\n",
       "\t<tr><td>45</td><td>67</td></tr>\n",
       "</tbody>\n",
       "</table>\n"
      ],
      "text/latex": [
       "A data.frame: 1 × 2\n",
       "\\begin{tabular}{ll}\n",
       " ncases & ncontrols\\\\\n",
       " <dbl> & <dbl>\\\\\n",
       "\\hline\n",
       "\t 45 & 67\\\\\n",
       "\\end{tabular}\n"
      ],
      "text/markdown": [
       "\n",
       "A data.frame: 1 × 2\n",
       "\n",
       "| ncases &lt;dbl&gt; | ncontrols &lt;dbl&gt; |\n",
       "|---|---|\n",
       "| 45 | 67 |\n",
       "\n"
      ],
      "text/plain": [
       "  ncases ncontrols\n",
       "1 45     67       "
      ]
     },
     "metadata": {},
     "output_type": "display_data"
    }
   ],
   "source": [
    "esoph %>%\n",
    "filter(alcgp == \"120+\") %>%\n",
    "summarize(ncases = sum(ncases), ncontrols = sum(ncontrols))"
   ]
  },
  {
   "cell_type": "code",
   "execution_count": 33,
   "metadata": {},
   "outputs": [
    {
     "data": {
      "text/html": [
       "<table>\n",
       "<caption>A data.frame: 1 × 3</caption>\n",
       "<thead>\n",
       "\t<tr><th scope=col>ncases</th><th scope=col>ncontrols</th><th scope=col>p_case</th></tr>\n",
       "\t<tr><th scope=col>&lt;dbl&gt;</th><th scope=col>&lt;dbl&gt;</th><th scope=col>&lt;dbl&gt;</th></tr>\n",
       "</thead>\n",
       "<tbody>\n",
       "\t<tr><td>45</td><td>67</td><td>0.4017857</td></tr>\n",
       "</tbody>\n",
       "</table>\n"
      ],
      "text/latex": [
       "A data.frame: 1 × 3\n",
       "\\begin{tabular}{lll}\n",
       " ncases & ncontrols & p\\_case\\\\\n",
       " <dbl> & <dbl> & <dbl>\\\\\n",
       "\\hline\n",
       "\t 45 & 67 & 0.4017857\\\\\n",
       "\\end{tabular}\n"
      ],
      "text/markdown": [
       "\n",
       "A data.frame: 1 × 3\n",
       "\n",
       "| ncases &lt;dbl&gt; | ncontrols &lt;dbl&gt; | p_case &lt;dbl&gt; |\n",
       "|---|---|---|\n",
       "| 45 | 67 | 0.4017857 |\n",
       "\n"
      ],
      "text/plain": [
       "  ncases ncontrols p_case   \n",
       "1 45     67        0.4017857"
      ]
     },
     "metadata": {},
     "output_type": "display_data"
    }
   ],
   "source": [
    "esoph %>%\n",
    "filter(alcgp == \"120+\") %>%\n",
    "summarize(ncases = sum(ncases), ncontrols = sum(ncontrols)) %>%\n",
    "mutate(p_case = ncases / (ncases + ncontrols)) "
   ]
  },
  {
   "cell_type": "code",
   "execution_count": 34,
   "metadata": {},
   "outputs": [
    {
     "data": {
      "text/html": [
       "0.401785714285714"
      ],
      "text/latex": [
       "0.401785714285714"
      ],
      "text/markdown": [
       "0.401785714285714"
      ],
      "text/plain": [
       "[1] 0.4017857"
      ]
     },
     "metadata": {},
     "output_type": "display_data"
    }
   ],
   "source": [
    "esoph %>%\n",
    "filter(alcgp == \"120+\") %>%\n",
    "summarize(ncases = sum(ncases), ncontrols = sum(ncontrols)) %>%\n",
    "mutate(p_case = ncases / (ncases + ncontrols)) %>%\n",
    "pull(p_case)"
   ]
  },
  {
   "cell_type": "markdown",
   "metadata": {},
   "source": [
    "## Question 4b\n",
    "What is the probability that a subject in the lowest alcohol consumption group is a cancer case?"
   ]
  },
  {
   "cell_type": "code",
   "execution_count": 36,
   "metadata": {},
   "outputs": [
    {
     "data": {
      "text/html": [
       "0-39g/day\n",
       "<details>\n",
       "\t<summary style=display:list-item;cursor:pointer>\n",
       "\t\t<strong>Levels</strong>:\n",
       "\t</summary>\n",
       "\t<style>\n",
       "\t.list-inline {list-style: none; margin:0; padding: 0}\n",
       "\t.list-inline>li {display: inline-block}\n",
       "\t.list-inline>li:not(:last-child)::after {content: \"\\00b7\"; padding: 0 .5ex}\n",
       "\t</style>\n",
       "\t<ol class=list-inline><li>'0-39g/day'</li><li>'40-79'</li><li>'80-119'</li><li>'120+'</li></ol>\n",
       "</details>"
      ],
      "text/latex": [
       "0-39g/day\n",
       "\\emph{Levels}: \\begin{enumerate*}\n",
       "\\item '0-39g/day'\n",
       "\\item '40-79'\n",
       "\\item '80-119'\n",
       "\\item '120+'\n",
       "\\end{enumerate*}\n"
      ],
      "text/markdown": [
       "0-39g/day\n",
       "**Levels**: 1. '0-39g/day'\n",
       "2. '40-79'\n",
       "3. '80-119'\n",
       "4. '120+'\n",
       "\n",
       "\n"
      ],
      "text/plain": [
       "[1] 0-39g/day\n",
       "Levels: 0-39g/day < 40-79 < 80-119 < 120+"
      ]
     },
     "metadata": {},
     "output_type": "display_data"
    }
   ],
   "source": [
    "min(esoph$alcgp)"
   ]
  },
  {
   "cell_type": "code",
   "execution_count": 37,
   "metadata": {},
   "outputs": [
    {
     "data": {
      "text/html": [
       "<table>\n",
       "<caption>A data.frame: 23 × 5</caption>\n",
       "<thead>\n",
       "\t<tr><th scope=col>agegp</th><th scope=col>alcgp</th><th scope=col>tobgp</th><th scope=col>ncases</th><th scope=col>ncontrols</th></tr>\n",
       "\t<tr><th scope=col>&lt;ord&gt;</th><th scope=col>&lt;ord&gt;</th><th scope=col>&lt;ord&gt;</th><th scope=col>&lt;dbl&gt;</th><th scope=col>&lt;dbl&gt;</th></tr>\n",
       "</thead>\n",
       "<tbody>\n",
       "\t<tr><td>25-34</td><td>0-39g/day</td><td>0-9g/day</td><td>0</td><td>40</td></tr>\n",
       "\t<tr><td>25-34</td><td>0-39g/day</td><td>10-19   </td><td>0</td><td>10</td></tr>\n",
       "\t<tr><td>25-34</td><td>0-39g/day</td><td>20-29   </td><td>0</td><td> 6</td></tr>\n",
       "\t<tr><td>25-34</td><td>0-39g/day</td><td>30+     </td><td>0</td><td> 5</td></tr>\n",
       "\t<tr><td>35-44</td><td>0-39g/day</td><td>0-9g/day</td><td>0</td><td>60</td></tr>\n",
       "\t<tr><td>35-44</td><td>0-39g/day</td><td>10-19   </td><td>1</td><td>14</td></tr>\n",
       "\t<tr><td>35-44</td><td>0-39g/day</td><td>20-29   </td><td>0</td><td> 7</td></tr>\n",
       "\t<tr><td>35-44</td><td>0-39g/day</td><td>30+     </td><td>0</td><td> 8</td></tr>\n",
       "\t<tr><td>45-54</td><td>0-39g/day</td><td>0-9g/day</td><td>1</td><td>46</td></tr>\n",
       "\t<tr><td>45-54</td><td>0-39g/day</td><td>10-19   </td><td>0</td><td>18</td></tr>\n",
       "\t<tr><td>45-54</td><td>0-39g/day</td><td>20-29   </td><td>0</td><td>10</td></tr>\n",
       "\t<tr><td>45-54</td><td>0-39g/day</td><td>30+     </td><td>0</td><td> 4</td></tr>\n",
       "\t<tr><td>55-64</td><td>0-39g/day</td><td>0-9g/day</td><td>2</td><td>49</td></tr>\n",
       "\t<tr><td>55-64</td><td>0-39g/day</td><td>10-19   </td><td>3</td><td>22</td></tr>\n",
       "\t<tr><td>55-64</td><td>0-39g/day</td><td>20-29   </td><td>3</td><td>12</td></tr>\n",
       "\t<tr><td>55-64</td><td>0-39g/day</td><td>30+     </td><td>4</td><td> 6</td></tr>\n",
       "\t<tr><td>65-74</td><td>0-39g/day</td><td>0-9g/day</td><td>5</td><td>48</td></tr>\n",
       "\t<tr><td>65-74</td><td>0-39g/day</td><td>10-19   </td><td>4</td><td>14</td></tr>\n",
       "\t<tr><td>65-74</td><td>0-39g/day</td><td>20-29   </td><td>2</td><td> 7</td></tr>\n",
       "\t<tr><td>65-74</td><td>0-39g/day</td><td>30+     </td><td>0</td><td> 2</td></tr>\n",
       "\t<tr><td>75+  </td><td>0-39g/day</td><td>0-9g/day</td><td>1</td><td>18</td></tr>\n",
       "\t<tr><td>75+  </td><td>0-39g/day</td><td>10-19   </td><td>2</td><td> 6</td></tr>\n",
       "\t<tr><td>75+  </td><td>0-39g/day</td><td>30+     </td><td>1</td><td> 3</td></tr>\n",
       "</tbody>\n",
       "</table>\n"
      ],
      "text/latex": [
       "A data.frame: 23 × 5\n",
       "\\begin{tabular}{lllll}\n",
       " agegp & alcgp & tobgp & ncases & ncontrols\\\\\n",
       " <ord> & <ord> & <ord> & <dbl> & <dbl>\\\\\n",
       "\\hline\n",
       "\t 25-34 & 0-39g/day & 0-9g/day & 0 & 40\\\\\n",
       "\t 25-34 & 0-39g/day & 10-19    & 0 & 10\\\\\n",
       "\t 25-34 & 0-39g/day & 20-29    & 0 &  6\\\\\n",
       "\t 25-34 & 0-39g/day & 30+      & 0 &  5\\\\\n",
       "\t 35-44 & 0-39g/day & 0-9g/day & 0 & 60\\\\\n",
       "\t 35-44 & 0-39g/day & 10-19    & 1 & 14\\\\\n",
       "\t 35-44 & 0-39g/day & 20-29    & 0 &  7\\\\\n",
       "\t 35-44 & 0-39g/day & 30+      & 0 &  8\\\\\n",
       "\t 45-54 & 0-39g/day & 0-9g/day & 1 & 46\\\\\n",
       "\t 45-54 & 0-39g/day & 10-19    & 0 & 18\\\\\n",
       "\t 45-54 & 0-39g/day & 20-29    & 0 & 10\\\\\n",
       "\t 45-54 & 0-39g/day & 30+      & 0 &  4\\\\\n",
       "\t 55-64 & 0-39g/day & 0-9g/day & 2 & 49\\\\\n",
       "\t 55-64 & 0-39g/day & 10-19    & 3 & 22\\\\\n",
       "\t 55-64 & 0-39g/day & 20-29    & 3 & 12\\\\\n",
       "\t 55-64 & 0-39g/day & 30+      & 4 &  6\\\\\n",
       "\t 65-74 & 0-39g/day & 0-9g/day & 5 & 48\\\\\n",
       "\t 65-74 & 0-39g/day & 10-19    & 4 & 14\\\\\n",
       "\t 65-74 & 0-39g/day & 20-29    & 2 &  7\\\\\n",
       "\t 65-74 & 0-39g/day & 30+      & 0 &  2\\\\\n",
       "\t 75+   & 0-39g/day & 0-9g/day & 1 & 18\\\\\n",
       "\t 75+   & 0-39g/day & 10-19    & 2 &  6\\\\\n",
       "\t 75+   & 0-39g/day & 30+      & 1 &  3\\\\\n",
       "\\end{tabular}\n"
      ],
      "text/markdown": [
       "\n",
       "A data.frame: 23 × 5\n",
       "\n",
       "| agegp &lt;ord&gt; | alcgp &lt;ord&gt; | tobgp &lt;ord&gt; | ncases &lt;dbl&gt; | ncontrols &lt;dbl&gt; |\n",
       "|---|---|---|---|---|\n",
       "| 25-34 | 0-39g/day | 0-9g/day | 0 | 40 |\n",
       "| 25-34 | 0-39g/day | 10-19    | 0 | 10 |\n",
       "| 25-34 | 0-39g/day | 20-29    | 0 |  6 |\n",
       "| 25-34 | 0-39g/day | 30+      | 0 |  5 |\n",
       "| 35-44 | 0-39g/day | 0-9g/day | 0 | 60 |\n",
       "| 35-44 | 0-39g/day | 10-19    | 1 | 14 |\n",
       "| 35-44 | 0-39g/day | 20-29    | 0 |  7 |\n",
       "| 35-44 | 0-39g/day | 30+      | 0 |  8 |\n",
       "| 45-54 | 0-39g/day | 0-9g/day | 1 | 46 |\n",
       "| 45-54 | 0-39g/day | 10-19    | 0 | 18 |\n",
       "| 45-54 | 0-39g/day | 20-29    | 0 | 10 |\n",
       "| 45-54 | 0-39g/day | 30+      | 0 |  4 |\n",
       "| 55-64 | 0-39g/day | 0-9g/day | 2 | 49 |\n",
       "| 55-64 | 0-39g/day | 10-19    | 3 | 22 |\n",
       "| 55-64 | 0-39g/day | 20-29    | 3 | 12 |\n",
       "| 55-64 | 0-39g/day | 30+      | 4 |  6 |\n",
       "| 65-74 | 0-39g/day | 0-9g/day | 5 | 48 |\n",
       "| 65-74 | 0-39g/day | 10-19    | 4 | 14 |\n",
       "| 65-74 | 0-39g/day | 20-29    | 2 |  7 |\n",
       "| 65-74 | 0-39g/day | 30+      | 0 |  2 |\n",
       "| 75+   | 0-39g/day | 0-9g/day | 1 | 18 |\n",
       "| 75+   | 0-39g/day | 10-19    | 2 |  6 |\n",
       "| 75+   | 0-39g/day | 30+      | 1 |  3 |\n",
       "\n"
      ],
      "text/plain": [
       "   agegp alcgp     tobgp    ncases ncontrols\n",
       "1  25-34 0-39g/day 0-9g/day 0      40       \n",
       "2  25-34 0-39g/day 10-19    0      10       \n",
       "3  25-34 0-39g/day 20-29    0       6       \n",
       "4  25-34 0-39g/day 30+      0       5       \n",
       "5  35-44 0-39g/day 0-9g/day 0      60       \n",
       "6  35-44 0-39g/day 10-19    1      14       \n",
       "7  35-44 0-39g/day 20-29    0       7       \n",
       "8  35-44 0-39g/day 30+      0       8       \n",
       "9  45-54 0-39g/day 0-9g/day 1      46       \n",
       "10 45-54 0-39g/day 10-19    0      18       \n",
       "11 45-54 0-39g/day 20-29    0      10       \n",
       "12 45-54 0-39g/day 30+      0       4       \n",
       "13 55-64 0-39g/day 0-9g/day 2      49       \n",
       "14 55-64 0-39g/day 10-19    3      22       \n",
       "15 55-64 0-39g/day 20-29    3      12       \n",
       "16 55-64 0-39g/day 30+      4       6       \n",
       "17 65-74 0-39g/day 0-9g/day 5      48       \n",
       "18 65-74 0-39g/day 10-19    4      14       \n",
       "19 65-74 0-39g/day 20-29    2       7       \n",
       "20 65-74 0-39g/day 30+      0       2       \n",
       "21 75+   0-39g/day 0-9g/day 1      18       \n",
       "22 75+   0-39g/day 10-19    2       6       \n",
       "23 75+   0-39g/day 30+      1       3       "
      ]
     },
     "metadata": {},
     "output_type": "display_data"
    }
   ],
   "source": [
    "esoph %>% filter(alcgp == \"0-39g/day\")"
   ]
  },
  {
   "cell_type": "code",
   "execution_count": 40,
   "metadata": {},
   "outputs": [
    {
     "data": {
      "text/html": [
       "<table>\n",
       "<caption>A data.frame: 1 × 2</caption>\n",
       "<thead>\n",
       "\t<tr><th scope=col>ncases</th><th scope=col>ncontrols</th></tr>\n",
       "\t<tr><th scope=col>&lt;dbl&gt;</th><th scope=col>&lt;dbl&gt;</th></tr>\n",
       "</thead>\n",
       "<tbody>\n",
       "\t<tr><td>29</td><td>415</td></tr>\n",
       "</tbody>\n",
       "</table>\n"
      ],
      "text/latex": [
       "A data.frame: 1 × 2\n",
       "\\begin{tabular}{ll}\n",
       " ncases & ncontrols\\\\\n",
       " <dbl> & <dbl>\\\\\n",
       "\\hline\n",
       "\t 29 & 415\\\\\n",
       "\\end{tabular}\n"
      ],
      "text/markdown": [
       "\n",
       "A data.frame: 1 × 2\n",
       "\n",
       "| ncases &lt;dbl&gt; | ncontrols &lt;dbl&gt; |\n",
       "|---|---|\n",
       "| 29 | 415 |\n",
       "\n"
      ],
      "text/plain": [
       "  ncases ncontrols\n",
       "1 29     415      "
      ]
     },
     "metadata": {},
     "output_type": "display_data"
    }
   ],
   "source": [
    "esoph %>% filter(alcgp == \"0-39g/day\") %>%\n",
    "summarize(ncases = sum(ncases), ncontrols = sum(ncontrols))"
   ]
  },
  {
   "cell_type": "code",
   "execution_count": 41,
   "metadata": {},
   "outputs": [
    {
     "data": {
      "text/html": [
       "<table>\n",
       "<caption>A data.frame: 1 × 3</caption>\n",
       "<thead>\n",
       "\t<tr><th scope=col>ncases</th><th scope=col>ncontrols</th><th scope=col>p_case</th></tr>\n",
       "\t<tr><th scope=col>&lt;dbl&gt;</th><th scope=col>&lt;dbl&gt;</th><th scope=col>&lt;dbl&gt;</th></tr>\n",
       "</thead>\n",
       "<tbody>\n",
       "\t<tr><td>29</td><td>415</td><td>0.06531532</td></tr>\n",
       "</tbody>\n",
       "</table>\n"
      ],
      "text/latex": [
       "A data.frame: 1 × 3\n",
       "\\begin{tabular}{lll}\n",
       " ncases & ncontrols & p\\_case\\\\\n",
       " <dbl> & <dbl> & <dbl>\\\\\n",
       "\\hline\n",
       "\t 29 & 415 & 0.06531532\\\\\n",
       "\\end{tabular}\n"
      ],
      "text/markdown": [
       "\n",
       "A data.frame: 1 × 3\n",
       "\n",
       "| ncases &lt;dbl&gt; | ncontrols &lt;dbl&gt; | p_case &lt;dbl&gt; |\n",
       "|---|---|---|\n",
       "| 29 | 415 | 0.06531532 |\n",
       "\n"
      ],
      "text/plain": [
       "  ncases ncontrols p_case    \n",
       "1 29     415       0.06531532"
      ]
     },
     "metadata": {},
     "output_type": "display_data"
    }
   ],
   "source": [
    "esoph %>% filter(alcgp == \"0-39g/day\") %>%\n",
    "summarize(ncases = sum(ncases), ncontrols = sum(ncontrols)) %>%\n",
    "mutate(p_case = ncases/(ncases+ncontrols))"
   ]
  },
  {
   "cell_type": "code",
   "execution_count": 42,
   "metadata": {},
   "outputs": [
    {
     "data": {
      "text/html": [
       "0.0653153153153153"
      ],
      "text/latex": [
       "0.0653153153153153"
      ],
      "text/markdown": [
       "0.0653153153153153"
      ],
      "text/plain": [
       "[1] 0.06531532"
      ]
     },
     "metadata": {},
     "output_type": "display_data"
    }
   ],
   "source": [
    "esoph %>% filter(alcgp == \"0-39g/day\") %>%\n",
    "summarize(ncases = sum(ncases), ncontrols = sum(ncontrols)) %>%\n",
    "mutate(p_case = ncases/(ncases+ncontrols)) %>%\n",
    "pull(p_case)"
   ]
  },
  {
   "cell_type": "markdown",
   "metadata": {},
   "source": [
    "## Question 4c\n",
    "Given that a person is a case, what is the probability that they smoke 10g or more a day?"
   ]
  },
  {
   "cell_type": "code",
   "execution_count": 44,
   "metadata": {},
   "outputs": [],
   "source": [
    "# Pr(case) * Pr(smoking a cigarette)"
   ]
  },
  {
   "cell_type": "code",
   "execution_count": 47,
   "metadata": {},
   "outputs": [
    {
     "data": {
      "text/html": [
       "0.170212765957447"
      ],
      "text/latex": [
       "0.170212765957447"
      ],
      "text/markdown": [
       "0.170212765957447"
      ],
      "text/plain": [
       "[1] 0.1702128"
      ]
     },
     "metadata": {},
     "output_type": "display_data"
    }
   ],
   "source": [
    "p_case <- sum(esoph$ncases)/(sum(esoph$ncases) + sum(esoph$ncontrols))\n",
    "p_case"
   ]
  },
  {
   "cell_type": "code",
   "execution_count": 50,
   "metadata": {},
   "outputs": [
    {
     "data": {
      "text/html": [
       "0-9g/day\n",
       "<details>\n",
       "\t<summary style=display:list-item;cursor:pointer>\n",
       "\t\t<strong>Levels</strong>:\n",
       "\t</summary>\n",
       "\t<style>\n",
       "\t.list-inline {list-style: none; margin:0; padding: 0}\n",
       "\t.list-inline>li {display: inline-block}\n",
       "\t.list-inline>li:not(:last-child)::after {content: \"\\00b7\"; padding: 0 .5ex}\n",
       "\t</style>\n",
       "\t<ol class=list-inline><li>'0-9g/day'</li><li>'10-19'</li><li>'20-29'</li><li>'30+'</li></ol>\n",
       "</details>"
      ],
      "text/latex": [
       "0-9g/day\n",
       "\\emph{Levels}: \\begin{enumerate*}\n",
       "\\item '0-9g/day'\n",
       "\\item '10-19'\n",
       "\\item '20-29'\n",
       "\\item '30+'\n",
       "\\end{enumerate*}\n"
      ],
      "text/markdown": [
       "0-9g/day\n",
       "**Levels**: 1. '0-9g/day'\n",
       "2. '10-19'\n",
       "3. '20-29'\n",
       "4. '30+'\n",
       "\n",
       "\n"
      ],
      "text/plain": [
       "[1] 0-9g/day\n",
       "Levels: 0-9g/day < 10-19 < 20-29 < 30+"
      ]
     },
     "metadata": {},
     "output_type": "display_data"
    }
   ],
   "source": [
    "min(esoph$tobgp)"
   ]
  },
  {
   "cell_type": "code",
   "execution_count": 52,
   "metadata": {},
   "outputs": [
    {
     "data": {
      "text/html": [
       "<table>\n",
       "<caption>A data.frame: 64 × 5</caption>\n",
       "<thead>\n",
       "\t<tr><th scope=col>agegp</th><th scope=col>alcgp</th><th scope=col>tobgp</th><th scope=col>ncases</th><th scope=col>ncontrols</th></tr>\n",
       "\t<tr><th scope=col>&lt;ord&gt;</th><th scope=col>&lt;ord&gt;</th><th scope=col>&lt;ord&gt;</th><th scope=col>&lt;dbl&gt;</th><th scope=col>&lt;dbl&gt;</th></tr>\n",
       "</thead>\n",
       "<tbody>\n",
       "\t<tr><td>25-34</td><td>0-39g/day</td><td>10-19</td><td>0</td><td>10</td></tr>\n",
       "\t<tr><td>25-34</td><td>0-39g/day</td><td>20-29</td><td>0</td><td> 6</td></tr>\n",
       "\t<tr><td>25-34</td><td>0-39g/day</td><td>30+  </td><td>0</td><td> 5</td></tr>\n",
       "\t<tr><td>25-34</td><td>40-79    </td><td>10-19</td><td>0</td><td> 7</td></tr>\n",
       "\t<tr><td>25-34</td><td>40-79    </td><td>20-29</td><td>0</td><td> 4</td></tr>\n",
       "\t<tr><td>25-34</td><td>40-79    </td><td>30+  </td><td>0</td><td> 7</td></tr>\n",
       "\t<tr><td>25-34</td><td>80-119   </td><td>10-19</td><td>0</td><td> 1</td></tr>\n",
       "\t<tr><td>25-34</td><td>80-119   </td><td>30+  </td><td>0</td><td> 2</td></tr>\n",
       "\t<tr><td>25-34</td><td>120+     </td><td>10-19</td><td>1</td><td> 1</td></tr>\n",
       "\t<tr><td>25-34</td><td>120+     </td><td>20-29</td><td>0</td><td> 1</td></tr>\n",
       "\t<tr><td>25-34</td><td>120+     </td><td>30+  </td><td>0</td><td> 2</td></tr>\n",
       "\t<tr><td>35-44</td><td>0-39g/day</td><td>10-19</td><td>1</td><td>14</td></tr>\n",
       "\t<tr><td>35-44</td><td>0-39g/day</td><td>20-29</td><td>0</td><td> 7</td></tr>\n",
       "\t<tr><td>35-44</td><td>0-39g/day</td><td>30+  </td><td>0</td><td> 8</td></tr>\n",
       "\t<tr><td>35-44</td><td>40-79    </td><td>10-19</td><td>3</td><td>23</td></tr>\n",
       "\t<tr><td>35-44</td><td>40-79    </td><td>20-29</td><td>1</td><td>14</td></tr>\n",
       "\t<tr><td>35-44</td><td>40-79    </td><td>30+  </td><td>0</td><td> 8</td></tr>\n",
       "\t<tr><td>35-44</td><td>80-119   </td><td>10-19</td><td>0</td><td> 6</td></tr>\n",
       "\t<tr><td>35-44</td><td>80-119   </td><td>20-29</td><td>0</td><td> 2</td></tr>\n",
       "\t<tr><td>35-44</td><td>80-119   </td><td>30+  </td><td>0</td><td> 1</td></tr>\n",
       "\t<tr><td>35-44</td><td>120+     </td><td>10-19</td><td>0</td><td> 3</td></tr>\n",
       "\t<tr><td>35-44</td><td>120+     </td><td>20-29</td><td>2</td><td> 4</td></tr>\n",
       "\t<tr><td>45-54</td><td>0-39g/day</td><td>10-19</td><td>0</td><td>18</td></tr>\n",
       "\t<tr><td>45-54</td><td>0-39g/day</td><td>20-29</td><td>0</td><td>10</td></tr>\n",
       "\t<tr><td>45-54</td><td>0-39g/day</td><td>30+  </td><td>0</td><td> 4</td></tr>\n",
       "\t<tr><td>45-54</td><td>40-79    </td><td>10-19</td><td>4</td><td>21</td></tr>\n",
       "\t<tr><td>45-54</td><td>40-79    </td><td>20-29</td><td>5</td><td>15</td></tr>\n",
       "\t<tr><td>45-54</td><td>40-79    </td><td>30+  </td><td>5</td><td> 7</td></tr>\n",
       "\t<tr><td>45-54</td><td>80-119   </td><td>10-19</td><td>6</td><td>14</td></tr>\n",
       "\t<tr><td>45-54</td><td>80-119   </td><td>20-29</td><td>1</td><td> 5</td></tr>\n",
       "\t<tr><td>⋮</td><td>⋮</td><td>⋮</td><td>⋮</td><td>⋮</td></tr>\n",
       "\t<tr><td>55-64</td><td>0-39g/day</td><td>10-19</td><td>3</td><td>22</td></tr>\n",
       "\t<tr><td>55-64</td><td>0-39g/day</td><td>20-29</td><td>3</td><td>12</td></tr>\n",
       "\t<tr><td>55-64</td><td>0-39g/day</td><td>30+  </td><td>4</td><td> 6</td></tr>\n",
       "\t<tr><td>55-64</td><td>40-79    </td><td>10-19</td><td>6</td><td>21</td></tr>\n",
       "\t<tr><td>55-64</td><td>40-79    </td><td>20-29</td><td>4</td><td>17</td></tr>\n",
       "\t<tr><td>55-64</td><td>40-79    </td><td>30+  </td><td>3</td><td> 6</td></tr>\n",
       "\t<tr><td>55-64</td><td>80-119   </td><td>10-19</td><td>8</td><td>15</td></tr>\n",
       "\t<tr><td>55-64</td><td>80-119   </td><td>20-29</td><td>3</td><td> 6</td></tr>\n",
       "\t<tr><td>55-64</td><td>80-119   </td><td>30+  </td><td>4</td><td> 4</td></tr>\n",
       "\t<tr><td>55-64</td><td>120+     </td><td>10-19</td><td>6</td><td> 7</td></tr>\n",
       "\t<tr><td>55-64</td><td>120+     </td><td>20-29</td><td>2</td><td> 3</td></tr>\n",
       "\t<tr><td>55-64</td><td>120+     </td><td>30+  </td><td>5</td><td> 6</td></tr>\n",
       "\t<tr><td>65-74</td><td>0-39g/day</td><td>10-19</td><td>4</td><td>14</td></tr>\n",
       "\t<tr><td>65-74</td><td>0-39g/day</td><td>20-29</td><td>2</td><td> 7</td></tr>\n",
       "\t<tr><td>65-74</td><td>0-39g/day</td><td>30+  </td><td>0</td><td> 2</td></tr>\n",
       "\t<tr><td>65-74</td><td>40-79    </td><td>10-19</td><td>3</td><td>10</td></tr>\n",
       "\t<tr><td>65-74</td><td>40-79    </td><td>20-29</td><td>5</td><td> 9</td></tr>\n",
       "\t<tr><td>65-74</td><td>80-119   </td><td>10-19</td><td>4</td><td>12</td></tr>\n",
       "\t<tr><td>65-74</td><td>80-119   </td><td>20-29</td><td>2</td><td> 3</td></tr>\n",
       "\t<tr><td>65-74</td><td>80-119   </td><td>30+  </td><td>1</td><td> 1</td></tr>\n",
       "\t<tr><td>65-74</td><td>120+     </td><td>10-19</td><td>1</td><td> 2</td></tr>\n",
       "\t<tr><td>65-74</td><td>120+     </td><td>20-29</td><td>1</td><td> 1</td></tr>\n",
       "\t<tr><td>65-74</td><td>120+     </td><td>30+  </td><td>1</td><td> 1</td></tr>\n",
       "\t<tr><td>75+  </td><td>0-39g/day</td><td>10-19</td><td>2</td><td> 6</td></tr>\n",
       "\t<tr><td>75+  </td><td>0-39g/day</td><td>30+  </td><td>1</td><td> 3</td></tr>\n",
       "\t<tr><td>75+  </td><td>40-79    </td><td>10-19</td><td>1</td><td> 3</td></tr>\n",
       "\t<tr><td>75+  </td><td>40-79    </td><td>20-29</td><td>0</td><td> 3</td></tr>\n",
       "\t<tr><td>75+  </td><td>40-79    </td><td>30+  </td><td>1</td><td> 1</td></tr>\n",
       "\t<tr><td>75+  </td><td>80-119   </td><td>10-19</td><td>1</td><td> 1</td></tr>\n",
       "\t<tr><td>75+  </td><td>120+     </td><td>10-19</td><td>1</td><td> 1</td></tr>\n",
       "</tbody>\n",
       "</table>\n"
      ],
      "text/latex": [
       "A data.frame: 64 × 5\n",
       "\\begin{tabular}{lllll}\n",
       " agegp & alcgp & tobgp & ncases & ncontrols\\\\\n",
       " <ord> & <ord> & <ord> & <dbl> & <dbl>\\\\\n",
       "\\hline\n",
       "\t 25-34 & 0-39g/day & 10-19 & 0 & 10\\\\\n",
       "\t 25-34 & 0-39g/day & 20-29 & 0 &  6\\\\\n",
       "\t 25-34 & 0-39g/day & 30+   & 0 &  5\\\\\n",
       "\t 25-34 & 40-79     & 10-19 & 0 &  7\\\\\n",
       "\t 25-34 & 40-79     & 20-29 & 0 &  4\\\\\n",
       "\t 25-34 & 40-79     & 30+   & 0 &  7\\\\\n",
       "\t 25-34 & 80-119    & 10-19 & 0 &  1\\\\\n",
       "\t 25-34 & 80-119    & 30+   & 0 &  2\\\\\n",
       "\t 25-34 & 120+      & 10-19 & 1 &  1\\\\\n",
       "\t 25-34 & 120+      & 20-29 & 0 &  1\\\\\n",
       "\t 25-34 & 120+      & 30+   & 0 &  2\\\\\n",
       "\t 35-44 & 0-39g/day & 10-19 & 1 & 14\\\\\n",
       "\t 35-44 & 0-39g/day & 20-29 & 0 &  7\\\\\n",
       "\t 35-44 & 0-39g/day & 30+   & 0 &  8\\\\\n",
       "\t 35-44 & 40-79     & 10-19 & 3 & 23\\\\\n",
       "\t 35-44 & 40-79     & 20-29 & 1 & 14\\\\\n",
       "\t 35-44 & 40-79     & 30+   & 0 &  8\\\\\n",
       "\t 35-44 & 80-119    & 10-19 & 0 &  6\\\\\n",
       "\t 35-44 & 80-119    & 20-29 & 0 &  2\\\\\n",
       "\t 35-44 & 80-119    & 30+   & 0 &  1\\\\\n",
       "\t 35-44 & 120+      & 10-19 & 0 &  3\\\\\n",
       "\t 35-44 & 120+      & 20-29 & 2 &  4\\\\\n",
       "\t 45-54 & 0-39g/day & 10-19 & 0 & 18\\\\\n",
       "\t 45-54 & 0-39g/day & 20-29 & 0 & 10\\\\\n",
       "\t 45-54 & 0-39g/day & 30+   & 0 &  4\\\\\n",
       "\t 45-54 & 40-79     & 10-19 & 4 & 21\\\\\n",
       "\t 45-54 & 40-79     & 20-29 & 5 & 15\\\\\n",
       "\t 45-54 & 40-79     & 30+   & 5 &  7\\\\\n",
       "\t 45-54 & 80-119    & 10-19 & 6 & 14\\\\\n",
       "\t 45-54 & 80-119    & 20-29 & 1 &  5\\\\\n",
       "\t ⋮ & ⋮ & ⋮ & ⋮ & ⋮\\\\\n",
       "\t 55-64 & 0-39g/day & 10-19 & 3 & 22\\\\\n",
       "\t 55-64 & 0-39g/day & 20-29 & 3 & 12\\\\\n",
       "\t 55-64 & 0-39g/day & 30+   & 4 &  6\\\\\n",
       "\t 55-64 & 40-79     & 10-19 & 6 & 21\\\\\n",
       "\t 55-64 & 40-79     & 20-29 & 4 & 17\\\\\n",
       "\t 55-64 & 40-79     & 30+   & 3 &  6\\\\\n",
       "\t 55-64 & 80-119    & 10-19 & 8 & 15\\\\\n",
       "\t 55-64 & 80-119    & 20-29 & 3 &  6\\\\\n",
       "\t 55-64 & 80-119    & 30+   & 4 &  4\\\\\n",
       "\t 55-64 & 120+      & 10-19 & 6 &  7\\\\\n",
       "\t 55-64 & 120+      & 20-29 & 2 &  3\\\\\n",
       "\t 55-64 & 120+      & 30+   & 5 &  6\\\\\n",
       "\t 65-74 & 0-39g/day & 10-19 & 4 & 14\\\\\n",
       "\t 65-74 & 0-39g/day & 20-29 & 2 &  7\\\\\n",
       "\t 65-74 & 0-39g/day & 30+   & 0 &  2\\\\\n",
       "\t 65-74 & 40-79     & 10-19 & 3 & 10\\\\\n",
       "\t 65-74 & 40-79     & 20-29 & 5 &  9\\\\\n",
       "\t 65-74 & 80-119    & 10-19 & 4 & 12\\\\\n",
       "\t 65-74 & 80-119    & 20-29 & 2 &  3\\\\\n",
       "\t 65-74 & 80-119    & 30+   & 1 &  1\\\\\n",
       "\t 65-74 & 120+      & 10-19 & 1 &  2\\\\\n",
       "\t 65-74 & 120+      & 20-29 & 1 &  1\\\\\n",
       "\t 65-74 & 120+      & 30+   & 1 &  1\\\\\n",
       "\t 75+   & 0-39g/day & 10-19 & 2 &  6\\\\\n",
       "\t 75+   & 0-39g/day & 30+   & 1 &  3\\\\\n",
       "\t 75+   & 40-79     & 10-19 & 1 &  3\\\\\n",
       "\t 75+   & 40-79     & 20-29 & 0 &  3\\\\\n",
       "\t 75+   & 40-79     & 30+   & 1 &  1\\\\\n",
       "\t 75+   & 80-119    & 10-19 & 1 &  1\\\\\n",
       "\t 75+   & 120+      & 10-19 & 1 &  1\\\\\n",
       "\\end{tabular}\n"
      ],
      "text/markdown": [
       "\n",
       "A data.frame: 64 × 5\n",
       "\n",
       "| agegp &lt;ord&gt; | alcgp &lt;ord&gt; | tobgp &lt;ord&gt; | ncases &lt;dbl&gt; | ncontrols &lt;dbl&gt; |\n",
       "|---|---|---|---|---|\n",
       "| 25-34 | 0-39g/day | 10-19 | 0 | 10 |\n",
       "| 25-34 | 0-39g/day | 20-29 | 0 |  6 |\n",
       "| 25-34 | 0-39g/day | 30+   | 0 |  5 |\n",
       "| 25-34 | 40-79     | 10-19 | 0 |  7 |\n",
       "| 25-34 | 40-79     | 20-29 | 0 |  4 |\n",
       "| 25-34 | 40-79     | 30+   | 0 |  7 |\n",
       "| 25-34 | 80-119    | 10-19 | 0 |  1 |\n",
       "| 25-34 | 80-119    | 30+   | 0 |  2 |\n",
       "| 25-34 | 120+      | 10-19 | 1 |  1 |\n",
       "| 25-34 | 120+      | 20-29 | 0 |  1 |\n",
       "| 25-34 | 120+      | 30+   | 0 |  2 |\n",
       "| 35-44 | 0-39g/day | 10-19 | 1 | 14 |\n",
       "| 35-44 | 0-39g/day | 20-29 | 0 |  7 |\n",
       "| 35-44 | 0-39g/day | 30+   | 0 |  8 |\n",
       "| 35-44 | 40-79     | 10-19 | 3 | 23 |\n",
       "| 35-44 | 40-79     | 20-29 | 1 | 14 |\n",
       "| 35-44 | 40-79     | 30+   | 0 |  8 |\n",
       "| 35-44 | 80-119    | 10-19 | 0 |  6 |\n",
       "| 35-44 | 80-119    | 20-29 | 0 |  2 |\n",
       "| 35-44 | 80-119    | 30+   | 0 |  1 |\n",
       "| 35-44 | 120+      | 10-19 | 0 |  3 |\n",
       "| 35-44 | 120+      | 20-29 | 2 |  4 |\n",
       "| 45-54 | 0-39g/day | 10-19 | 0 | 18 |\n",
       "| 45-54 | 0-39g/day | 20-29 | 0 | 10 |\n",
       "| 45-54 | 0-39g/day | 30+   | 0 |  4 |\n",
       "| 45-54 | 40-79     | 10-19 | 4 | 21 |\n",
       "| 45-54 | 40-79     | 20-29 | 5 | 15 |\n",
       "| 45-54 | 40-79     | 30+   | 5 |  7 |\n",
       "| 45-54 | 80-119    | 10-19 | 6 | 14 |\n",
       "| 45-54 | 80-119    | 20-29 | 1 |  5 |\n",
       "| ⋮ | ⋮ | ⋮ | ⋮ | ⋮ |\n",
       "| 55-64 | 0-39g/day | 10-19 | 3 | 22 |\n",
       "| 55-64 | 0-39g/day | 20-29 | 3 | 12 |\n",
       "| 55-64 | 0-39g/day | 30+   | 4 |  6 |\n",
       "| 55-64 | 40-79     | 10-19 | 6 | 21 |\n",
       "| 55-64 | 40-79     | 20-29 | 4 | 17 |\n",
       "| 55-64 | 40-79     | 30+   | 3 |  6 |\n",
       "| 55-64 | 80-119    | 10-19 | 8 | 15 |\n",
       "| 55-64 | 80-119    | 20-29 | 3 |  6 |\n",
       "| 55-64 | 80-119    | 30+   | 4 |  4 |\n",
       "| 55-64 | 120+      | 10-19 | 6 |  7 |\n",
       "| 55-64 | 120+      | 20-29 | 2 |  3 |\n",
       "| 55-64 | 120+      | 30+   | 5 |  6 |\n",
       "| 65-74 | 0-39g/day | 10-19 | 4 | 14 |\n",
       "| 65-74 | 0-39g/day | 20-29 | 2 |  7 |\n",
       "| 65-74 | 0-39g/day | 30+   | 0 |  2 |\n",
       "| 65-74 | 40-79     | 10-19 | 3 | 10 |\n",
       "| 65-74 | 40-79     | 20-29 | 5 |  9 |\n",
       "| 65-74 | 80-119    | 10-19 | 4 | 12 |\n",
       "| 65-74 | 80-119    | 20-29 | 2 |  3 |\n",
       "| 65-74 | 80-119    | 30+   | 1 |  1 |\n",
       "| 65-74 | 120+      | 10-19 | 1 |  2 |\n",
       "| 65-74 | 120+      | 20-29 | 1 |  1 |\n",
       "| 65-74 | 120+      | 30+   | 1 |  1 |\n",
       "| 75+   | 0-39g/day | 10-19 | 2 |  6 |\n",
       "| 75+   | 0-39g/day | 30+   | 1 |  3 |\n",
       "| 75+   | 40-79     | 10-19 | 1 |  3 |\n",
       "| 75+   | 40-79     | 20-29 | 0 |  3 |\n",
       "| 75+   | 40-79     | 30+   | 1 |  1 |\n",
       "| 75+   | 80-119    | 10-19 | 1 |  1 |\n",
       "| 75+   | 120+      | 10-19 | 1 |  1 |\n",
       "\n"
      ],
      "text/plain": [
       "   agegp alcgp     tobgp ncases ncontrols\n",
       "1  25-34 0-39g/day 10-19 0      10       \n",
       "2  25-34 0-39g/day 20-29 0       6       \n",
       "3  25-34 0-39g/day 30+   0       5       \n",
       "4  25-34 40-79     10-19 0       7       \n",
       "5  25-34 40-79     20-29 0       4       \n",
       "6  25-34 40-79     30+   0       7       \n",
       "7  25-34 80-119    10-19 0       1       \n",
       "8  25-34 80-119    30+   0       2       \n",
       "9  25-34 120+      10-19 1       1       \n",
       "10 25-34 120+      20-29 0       1       \n",
       "11 25-34 120+      30+   0       2       \n",
       "12 35-44 0-39g/day 10-19 1      14       \n",
       "13 35-44 0-39g/day 20-29 0       7       \n",
       "14 35-44 0-39g/day 30+   0       8       \n",
       "15 35-44 40-79     10-19 3      23       \n",
       "16 35-44 40-79     20-29 1      14       \n",
       "17 35-44 40-79     30+   0       8       \n",
       "18 35-44 80-119    10-19 0       6       \n",
       "19 35-44 80-119    20-29 0       2       \n",
       "20 35-44 80-119    30+   0       1       \n",
       "21 35-44 120+      10-19 0       3       \n",
       "22 35-44 120+      20-29 2       4       \n",
       "23 45-54 0-39g/day 10-19 0      18       \n",
       "24 45-54 0-39g/day 20-29 0      10       \n",
       "25 45-54 0-39g/day 30+   0       4       \n",
       "26 45-54 40-79     10-19 4      21       \n",
       "27 45-54 40-79     20-29 5      15       \n",
       "28 45-54 40-79     30+   5       7       \n",
       "29 45-54 80-119    10-19 6      14       \n",
       "30 45-54 80-119    20-29 1       5       \n",
       "⋮  ⋮     ⋮         ⋮     ⋮      ⋮        \n",
       "35 55-64 0-39g/day 10-19 3      22       \n",
       "36 55-64 0-39g/day 20-29 3      12       \n",
       "37 55-64 0-39g/day 30+   4       6       \n",
       "38 55-64 40-79     10-19 6      21       \n",
       "39 55-64 40-79     20-29 4      17       \n",
       "40 55-64 40-79     30+   3       6       \n",
       "41 55-64 80-119    10-19 8      15       \n",
       "42 55-64 80-119    20-29 3       6       \n",
       "43 55-64 80-119    30+   4       4       \n",
       "44 55-64 120+      10-19 6       7       \n",
       "45 55-64 120+      20-29 2       3       \n",
       "46 55-64 120+      30+   5       6       \n",
       "47 65-74 0-39g/day 10-19 4      14       \n",
       "48 65-74 0-39g/day 20-29 2       7       \n",
       "49 65-74 0-39g/day 30+   0       2       \n",
       "50 65-74 40-79     10-19 3      10       \n",
       "51 65-74 40-79     20-29 5       9       \n",
       "52 65-74 80-119    10-19 4      12       \n",
       "53 65-74 80-119    20-29 2       3       \n",
       "54 65-74 80-119    30+   1       1       \n",
       "55 65-74 120+      10-19 1       2       \n",
       "56 65-74 120+      20-29 1       1       \n",
       "57 65-74 120+      30+   1       1       \n",
       "58 75+   0-39g/day 10-19 2       6       \n",
       "59 75+   0-39g/day 30+   1       3       \n",
       "60 75+   40-79     10-19 1       3       \n",
       "61 75+   40-79     20-29 0       3       \n",
       "62 75+   40-79     30+   1       1       \n",
       "63 75+   80-119    10-19 1       1       \n",
       "64 75+   120+      10-19 1       1       "
      ]
     },
     "metadata": {},
     "output_type": "display_data"
    }
   ],
   "source": [
    "df <- esoph %>% filter(tobgp != \"0-9g/day\")\n",
    "df"
   ]
  },
  {
   "cell_type": "code",
   "execution_count": 53,
   "metadata": {},
   "outputs": [
    {
     "data": {
      "text/html": [
       "64"
      ],
      "text/latex": [
       "64"
      ],
      "text/markdown": [
       "64"
      ],
      "text/plain": [
       "[1] 64"
      ]
     },
     "metadata": {},
     "output_type": "display_data"
    }
   ],
   "source": [
    "nrow(df) # Groups smoking more than 10g"
   ]
  },
  {
   "cell_type": "code",
   "execution_count": 54,
   "metadata": {},
   "outputs": [
    {
     "data": {
      "text/html": [
       "88"
      ],
      "text/latex": [
       "88"
      ],
      "text/markdown": [
       "88"
      ],
      "text/plain": [
       "[1] 88"
      ]
     },
     "metadata": {},
     "output_type": "display_data"
    }
   ],
   "source": [
    "nrow(esoph)"
   ]
  },
  {
   "cell_type": "code",
   "execution_count": 56,
   "metadata": {},
   "outputs": [
    {
     "data": {
      "text/html": [
       "0.727272727272727"
      ],
      "text/latex": [
       "0.727272727272727"
      ],
      "text/markdown": [
       "0.727272727272727"
      ],
      "text/plain": [
       "[1] 0.7272727"
      ]
     },
     "metadata": {},
     "output_type": "display_data"
    }
   ],
   "source": [
    "# Pr(cig) :=\n",
    "p_cig <- nrow(df)/nrow(esoph)\n",
    "p_cig"
   ]
  },
  {
   "cell_type": "code",
   "execution_count": 57,
   "metadata": {},
   "outputs": [
    {
     "data": {
      "text/html": [
       "0.123791102514507"
      ],
      "text/latex": [
       "0.123791102514507"
      ],
      "text/markdown": [
       "0.123791102514507"
      ],
      "text/plain": [
       "[1] 0.1237911"
      ]
     },
     "metadata": {},
     "output_type": "display_data"
    }
   ],
   "source": [
    "#Required answer =:\n",
    "p_cig*p_case"
   ]
  },
  {
   "cell_type": "markdown",
   "metadata": {},
   "source": [
    "### Answer"
   ]
  },
  {
   "cell_type": "code",
   "execution_count": 58,
   "metadata": {},
   "outputs": [
    {
     "data": {
      "text/html": [
       "0.61"
      ],
      "text/latex": [
       "0.61"
      ],
      "text/markdown": [
       "0.61"
      ],
      "text/plain": [
       "[1] 0.61"
      ]
     },
     "metadata": {},
     "output_type": "display_data"
    }
   ],
   "source": [
    "tob_cases <- esoph %>%\n",
    "  filter(tobgp != \"0-9g/day\") %>%\n",
    "  pull(ncases) %>%\n",
    "  sum()\n",
    "\n",
    "tob_cases/all_cases"
   ]
  },
  {
   "cell_type": "markdown",
   "metadata": {},
   "source": [
    "## Question 4d\n",
    "Given that a person is a control, what is the probability that they smoke 10g or more a day?"
   ]
  },
  {
   "cell_type": "code",
   "execution_count": 63,
   "metadata": {},
   "outputs": [
    {
     "data": {
      "text/html": [
       "0.461538461538462"
      ],
      "text/latex": [
       "0.461538461538462"
      ],
      "text/markdown": [
       "0.461538461538462"
      ],
      "text/plain": [
       "[1] 0.4615385"
      ]
     },
     "metadata": {},
     "output_type": "display_data"
    }
   ],
   "source": [
    "tob_cases <- esoph %>%\n",
    "  filter(tobgp != \"0-9g/day\") %>%\n",
    "  pull(ncontrols) %>%\n",
    "  sum()\n",
    "\n",
    "tob_cases/all_controls"
   ]
  },
  {
   "cell_type": "code",
   "execution_count": null,
   "metadata": {},
   "outputs": [],
   "source": []
  }
 ],
 "metadata": {
  "kernelspec": {
   "display_name": "R",
   "language": "R",
   "name": "ir"
  },
  "language_info": {
   "codemirror_mode": "r",
   "file_extension": ".r",
   "mimetype": "text/x-r-source",
   "name": "R",
   "pygments_lexer": "r",
   "version": "4.0.2"
  }
 },
 "nbformat": 4,
 "nbformat_minor": 4
}
