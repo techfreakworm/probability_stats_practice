{
 "cells": [
  {
   "cell_type": "markdown",
   "metadata": {},
   "source": [
    "A restaurant manager wants to advertise that his lunch special offers enough choices to eat different meals every day of the year. He doesn't think his current special actually allows that number of choices, but wants to change his special if needed to allow at least 365 choices.\n",
    "\n",
    "A meal at the restaurant includes 1 entree, 2 sides, and 1 drink. He currently offers a choice of 1 entree from a list of 6 options, a choice of 2 different sides from a list of 6 options, and a choice of 1 drink from a list of 2 options."
   ]
  },
  {
   "cell_type": "markdown",
   "metadata": {},
   "source": [
    "## Question 2a\n",
    "How many meal combinations are possible with the current menu?"
   ]
  },
  {
   "cell_type": "code",
   "execution_count": 2,
   "metadata": {},
   "outputs": [],
   "source": [
    "library(gtools)"
   ]
  },
  {
   "cell_type": "code",
   "execution_count": 6,
   "metadata": {},
   "outputs": [],
   "source": [
    "entree <- permutations(6,1)"
   ]
  },
  {
   "cell_type": "code",
   "execution_count": 7,
   "metadata": {},
   "outputs": [],
   "source": [
    "sides <- permutations(6,2)"
   ]
  },
  {
   "cell_type": "code",
   "execution_count": 8,
   "metadata": {},
   "outputs": [],
   "source": [
    "drink <- permutations(2,1)"
   ]
  },
  {
   "cell_type": "code",
   "execution_count": 12,
   "metadata": {},
   "outputs": [],
   "source": [
    "total_meals = expand.grid(entree=entree, sides=sides, drink=drink)"
   ]
  },
  {
   "cell_type": "code",
   "execution_count": 14,
   "metadata": {},
   "outputs": [
    {
     "data": {
      "text/html": [
       "720"
      ],
      "text/latex": [
       "720"
      ],
      "text/markdown": [
       "720"
      ],
      "text/plain": [
       "[1] 720"
      ]
     },
     "metadata": {},
     "output_type": "display_data"
    }
   ],
   "source": [
    "nrow(total_meals)"
   ]
  },
  {
   "cell_type": "markdown",
   "metadata": {},
   "source": [
    "### Answer"
   ]
  },
  {
   "cell_type": "code",
   "execution_count": 17,
   "metadata": {},
   "outputs": [
    {
     "data": {
      "text/html": [
       "180"
      ],
      "text/latex": [
       "180"
      ],
      "text/markdown": [
       "180"
      ],
      "text/plain": [
       "[1] 180"
      ]
     },
     "metadata": {},
     "output_type": "display_data"
    }
   ],
   "source": [
    "nrow(combinations(6,1)) * nrow(combinations(6,2)) * nrow(combinations(2,1))"
   ]
  },
  {
   "cell_type": "markdown",
   "metadata": {},
   "source": [
    "## Question 2b\n",
    "The manager has one additional drink he could add to the special.\n",
    "\n",
    "How many combinations are possible if he expands his original special to 3 drink options?"
   ]
  },
  {
   "cell_type": "code",
   "execution_count": 18,
   "metadata": {},
   "outputs": [
    {
     "data": {
      "text/html": [
       "270"
      ],
      "text/latex": [
       "270"
      ],
      "text/markdown": [
       "270"
      ],
      "text/plain": [
       "[1] 270"
      ]
     },
     "metadata": {},
     "output_type": "display_data"
    }
   ],
   "source": [
    "nrow(combinations(6,1)) * nrow(combinations(6,2)) * nrow(combinations(3,1))"
   ]
  },
  {
   "cell_type": "markdown",
   "metadata": {},
   "source": [
    "## Question 2c\n",
    "The manager decides to add the third drink but needs to expand the number of options. The manager would prefer not to change his menu further and wants to know if he can meet his goal by letting customers choose more sides.\n",
    "\n",
    "How many meal combinations are there if customers can choose from 6 entrees, 3 drinks, and select 3 sides from the current 6 options?"
   ]
  },
  {
   "cell_type": "code",
   "execution_count": 19,
   "metadata": {},
   "outputs": [
    {
     "data": {
      "text/html": [
       "360"
      ],
      "text/latex": [
       "360"
      ],
      "text/markdown": [
       "360"
      ],
      "text/plain": [
       "[1] 360"
      ]
     },
     "metadata": {},
     "output_type": "display_data"
    }
   ],
   "source": [
    "nrow(combinations(6,1)) * nrow(combinations(6,3)) * nrow(combinations(3,1))"
   ]
  },
  {
   "cell_type": "markdown",
   "metadata": {},
   "source": [
    "## Question 2d\n",
    "The manager is concerned that customers may not want 3 sides with their meal. He is willing to increase the number of entree choices instead, but if he adds too many expensive options it could eat into profits. He wants to know how many entree choices he would have to offer in order to meet his goal.\n",
    "\n",
    "- Write a function that takes a number of entree choices and returns the number of meal combinations possible given that number of entree options, 3 drink choices, and a selection of 2 sides from 6 options.\n",
    "\n",
    "- Use `sapply()` to apply the function to entree option counts ranging from 1 to 12.\n",
    "\n",
    "What is the minimum number of entree options required in order to generate more than 365 combinations?"
   ]
  },
  {
   "cell_type": "code",
   "execution_count": 36,
   "metadata": {},
   "outputs": [],
   "source": [
    "#install.packages('tidyverse')"
   ]
  },
  {
   "cell_type": "code",
   "execution_count": 37,
   "metadata": {},
   "outputs": [],
   "source": [
    "library(tidyverse)"
   ]
  },
  {
   "cell_type": "code",
   "execution_count": 40,
   "metadata": {},
   "outputs": [],
   "source": [
    "meals <- function(entree_no) {\n",
    "    nrow(combinations(entree_no,1)) * nrow(combinations(6,2)) * nrow(combinations(3,1))\n",
    "}"
   ]
  },
  {
   "cell_type": "code",
   "execution_count": 42,
   "metadata": {},
   "outputs": [],
   "source": [
    "combos <- sapply(1:12, meals)"
   ]
  },
  {
   "cell_type": "code",
   "execution_count": 44,
   "metadata": {},
   "outputs": [
    {
     "data": {
      "text/html": [
       "<table>\n",
       "<caption>A data.frame: 12 × 2</caption>\n",
       "<thead>\n",
       "\t<tr><th scope=col>entrees</th><th scope=col>combos</th></tr>\n",
       "\t<tr><th scope=col>&lt;int&gt;</th><th scope=col>&lt;int&gt;</th></tr>\n",
       "</thead>\n",
       "<tbody>\n",
       "\t<tr><td> 1</td><td> 45</td></tr>\n",
       "\t<tr><td> 2</td><td> 90</td></tr>\n",
       "\t<tr><td> 3</td><td>135</td></tr>\n",
       "\t<tr><td> 4</td><td>180</td></tr>\n",
       "\t<tr><td> 5</td><td>225</td></tr>\n",
       "\t<tr><td> 6</td><td>270</td></tr>\n",
       "\t<tr><td> 7</td><td>315</td></tr>\n",
       "\t<tr><td> 8</td><td>360</td></tr>\n",
       "\t<tr><td> 9</td><td>405</td></tr>\n",
       "\t<tr><td>10</td><td>450</td></tr>\n",
       "\t<tr><td>11</td><td>495</td></tr>\n",
       "\t<tr><td>12</td><td>540</td></tr>\n",
       "</tbody>\n",
       "</table>\n"
      ],
      "text/latex": [
       "A data.frame: 12 × 2\n",
       "\\begin{tabular}{ll}\n",
       " entrees & combos\\\\\n",
       " <int> & <int>\\\\\n",
       "\\hline\n",
       "\t  1 &  45\\\\\n",
       "\t  2 &  90\\\\\n",
       "\t  3 & 135\\\\\n",
       "\t  4 & 180\\\\\n",
       "\t  5 & 225\\\\\n",
       "\t  6 & 270\\\\\n",
       "\t  7 & 315\\\\\n",
       "\t  8 & 360\\\\\n",
       "\t  9 & 405\\\\\n",
       "\t 10 & 450\\\\\n",
       "\t 11 & 495\\\\\n",
       "\t 12 & 540\\\\\n",
       "\\end{tabular}\n"
      ],
      "text/markdown": [
       "\n",
       "A data.frame: 12 × 2\n",
       "\n",
       "| entrees &lt;int&gt; | combos &lt;int&gt; |\n",
       "|---|---|\n",
       "|  1 |  45 |\n",
       "|  2 |  90 |\n",
       "|  3 | 135 |\n",
       "|  4 | 180 |\n",
       "|  5 | 225 |\n",
       "|  6 | 270 |\n",
       "|  7 | 315 |\n",
       "|  8 | 360 |\n",
       "|  9 | 405 |\n",
       "| 10 | 450 |\n",
       "| 11 | 495 |\n",
       "| 12 | 540 |\n",
       "\n"
      ],
      "text/plain": [
       "   entrees combos\n",
       "1   1       45   \n",
       "2   2       90   \n",
       "3   3      135   \n",
       "4   4      180   \n",
       "5   5      225   \n",
       "6   6      270   \n",
       "7   7      315   \n",
       "8   8      360   \n",
       "9   9      405   \n",
       "10 10      450   \n",
       "11 11      495   \n",
       "12 12      540   "
      ]
     },
     "metadata": {},
     "output_type": "display_data"
    }
   ],
   "source": [
    "df <- data.frame(entrees=1:12, combos=combos)\n",
    "df"
   ]
  },
  {
   "cell_type": "code",
   "execution_count": 45,
   "metadata": {},
   "outputs": [
    {
     "data": {
      "text/html": [
       "<table>\n",
       "<caption>A data.frame: 4 × 2</caption>\n",
       "<thead>\n",
       "\t<tr><th scope=col>entrees</th><th scope=col>combos</th></tr>\n",
       "\t<tr><th scope=col>&lt;int&gt;</th><th scope=col>&lt;int&gt;</th></tr>\n",
       "</thead>\n",
       "<tbody>\n",
       "\t<tr><td> 9</td><td>405</td></tr>\n",
       "\t<tr><td>10</td><td>450</td></tr>\n",
       "\t<tr><td>11</td><td>495</td></tr>\n",
       "\t<tr><td>12</td><td>540</td></tr>\n",
       "</tbody>\n",
       "</table>\n"
      ],
      "text/latex": [
       "A data.frame: 4 × 2\n",
       "\\begin{tabular}{ll}\n",
       " entrees & combos\\\\\n",
       " <int> & <int>\\\\\n",
       "\\hline\n",
       "\t  9 & 405\\\\\n",
       "\t 10 & 450\\\\\n",
       "\t 11 & 495\\\\\n",
       "\t 12 & 540\\\\\n",
       "\\end{tabular}\n"
      ],
      "text/markdown": [
       "\n",
       "A data.frame: 4 × 2\n",
       "\n",
       "| entrees &lt;int&gt; | combos &lt;int&gt; |\n",
       "|---|---|\n",
       "|  9 | 405 |\n",
       "| 10 | 450 |\n",
       "| 11 | 495 |\n",
       "| 12 | 540 |\n",
       "\n"
      ],
      "text/plain": [
       "  entrees combos\n",
       "1  9      405   \n",
       "2 10      450   \n",
       "3 11      495   \n",
       "4 12      540   "
      ]
     },
     "metadata": {},
     "output_type": "display_data"
    }
   ],
   "source": [
    "df %>% filter(combos > 365)"
   ]
  },
  {
   "cell_type": "code",
   "execution_count": 46,
   "metadata": {},
   "outputs": [
    {
     "data": {
      "text/html": [
       "9"
      ],
      "text/latex": [
       "9"
      ],
      "text/markdown": [
       "9"
      ],
      "text/plain": [
       "[1] 9"
      ]
     },
     "metadata": {},
     "output_type": "display_data"
    }
   ],
   "source": [
    "df %>% filter(combos > 365) %>% min(.$entrees)"
   ]
  },
  {
   "cell_type": "markdown",
   "metadata": {},
   "source": [
    "## Question 2e\n",
    "The manager isn't sure he can afford to put that many entree choices on the lunch menu and thinks it would be cheaper for him to expand the number of sides. He wants to know how many sides he would have to offer to meet his goal of at least 365 combinations.\n",
    "\n",
    "- Write a function that takes a number of side choices and returns the number of meal combinations possible given 6 entree choices, 3 drink choices, and a selection of 2 sides from the specified number of side choices.\n",
    "\n",
    "- Use `sapply()` to apply the function to side counts ranging from 2 to 12.\n",
    "\n",
    "What is the minimum number of side options required in order to generate more than 365 combinations?"
   ]
  },
  {
   "cell_type": "code",
   "execution_count": 48,
   "metadata": {},
   "outputs": [],
   "source": [
    "library(tidyverse)\n"
   ]
  },
  {
   "cell_type": "code",
   "execution_count": 53,
   "metadata": {},
   "outputs": [],
   "source": [
    "combo_gen <- function(sides_selection) {\n",
    "    nrow(combinations(6, 1))*nrow(combinations(3, 1))*nrow(combinations(sides_selection, 2))\n",
    "}"
   ]
  },
  {
   "cell_type": "code",
   "execution_count": 55,
   "metadata": {},
   "outputs": [
    {
     "data": {
      "text/html": [
       "<style>\n",
       ".list-inline {list-style: none; margin:0; padding: 0}\n",
       ".list-inline>li {display: inline-block}\n",
       ".list-inline>li:not(:last-child)::after {content: \"\\00b7\"; padding: 0 .5ex}\n",
       "</style>\n",
       "<ol class=list-inline><li>18</li><li>54</li><li>108</li><li>180</li><li>270</li><li>378</li><li>504</li><li>648</li><li>810</li><li>990</li><li>1188</li></ol>\n"
      ],
      "text/latex": [
       "\\begin{enumerate*}\n",
       "\\item 18\n",
       "\\item 54\n",
       "\\item 108\n",
       "\\item 180\n",
       "\\item 270\n",
       "\\item 378\n",
       "\\item 504\n",
       "\\item 648\n",
       "\\item 810\n",
       "\\item 990\n",
       "\\item 1188\n",
       "\\end{enumerate*}\n"
      ],
      "text/markdown": [
       "1. 18\n",
       "2. 54\n",
       "3. 108\n",
       "4. 180\n",
       "5. 270\n",
       "6. 378\n",
       "7. 504\n",
       "8. 648\n",
       "9. 810\n",
       "10. 990\n",
       "11. 1188\n",
       "\n",
       "\n"
      ],
      "text/plain": [
       " [1]   18   54  108  180  270  378  504  648  810  990 1188"
      ]
     },
     "metadata": {},
     "output_type": "display_data"
    }
   ],
   "source": [
    "combos <- sapply(2:12, combo_gen)\n",
    "combos"
   ]
  },
  {
   "cell_type": "code",
   "execution_count": 57,
   "metadata": {},
   "outputs": [
    {
     "data": {
      "text/html": [
       "<table>\n",
       "<caption>A data.frame: 6 × 2</caption>\n",
       "<thead>\n",
       "\t<tr><th></th><th scope=col>sides_offer</th><th scope=col>combos</th></tr>\n",
       "\t<tr><th></th><th scope=col>&lt;int&gt;</th><th scope=col>&lt;int&gt;</th></tr>\n",
       "</thead>\n",
       "<tbody>\n",
       "\t<tr><th scope=row>1</th><td>2</td><td> 18</td></tr>\n",
       "\t<tr><th scope=row>2</th><td>3</td><td> 54</td></tr>\n",
       "\t<tr><th scope=row>3</th><td>4</td><td>108</td></tr>\n",
       "\t<tr><th scope=row>4</th><td>5</td><td>180</td></tr>\n",
       "\t<tr><th scope=row>5</th><td>6</td><td>270</td></tr>\n",
       "\t<tr><th scope=row>6</th><td>7</td><td>378</td></tr>\n",
       "</tbody>\n",
       "</table>\n"
      ],
      "text/latex": [
       "A data.frame: 6 × 2\n",
       "\\begin{tabular}{r|ll}\n",
       "  & sides\\_offer & combos\\\\\n",
       "  & <int> & <int>\\\\\n",
       "\\hline\n",
       "\t1 & 2 &  18\\\\\n",
       "\t2 & 3 &  54\\\\\n",
       "\t3 & 4 & 108\\\\\n",
       "\t4 & 5 & 180\\\\\n",
       "\t5 & 6 & 270\\\\\n",
       "\t6 & 7 & 378\\\\\n",
       "\\end{tabular}\n"
      ],
      "text/markdown": [
       "\n",
       "A data.frame: 6 × 2\n",
       "\n",
       "| <!--/--> | sides_offer &lt;int&gt; | combos &lt;int&gt; |\n",
       "|---|---|---|\n",
       "| 1 | 2 |  18 |\n",
       "| 2 | 3 |  54 |\n",
       "| 3 | 4 | 108 |\n",
       "| 4 | 5 | 180 |\n",
       "| 5 | 6 | 270 |\n",
       "| 6 | 7 | 378 |\n",
       "\n"
      ],
      "text/plain": [
       "  sides_offer combos\n",
       "1 2            18   \n",
       "2 3            54   \n",
       "3 4           108   \n",
       "4 5           180   \n",
       "5 6           270   \n",
       "6 7           378   "
      ]
     },
     "metadata": {},
     "output_type": "display_data"
    }
   ],
   "source": [
    "df <- data.frame(sides_offer=2:12, combos=combos)\n",
    "head(df)"
   ]
  },
  {
   "cell_type": "code",
   "execution_count": 58,
   "metadata": {},
   "outputs": [
    {
     "data": {
      "text/html": [
       "<table>\n",
       "<caption>A data.frame: 6 × 2</caption>\n",
       "<thead>\n",
       "\t<tr><th scope=col>sides_offer</th><th scope=col>combos</th></tr>\n",
       "\t<tr><th scope=col>&lt;int&gt;</th><th scope=col>&lt;int&gt;</th></tr>\n",
       "</thead>\n",
       "<tbody>\n",
       "\t<tr><td> 7</td><td> 378</td></tr>\n",
       "\t<tr><td> 8</td><td> 504</td></tr>\n",
       "\t<tr><td> 9</td><td> 648</td></tr>\n",
       "\t<tr><td>10</td><td> 810</td></tr>\n",
       "\t<tr><td>11</td><td> 990</td></tr>\n",
       "\t<tr><td>12</td><td>1188</td></tr>\n",
       "</tbody>\n",
       "</table>\n"
      ],
      "text/latex": [
       "A data.frame: 6 × 2\n",
       "\\begin{tabular}{ll}\n",
       " sides\\_offer & combos\\\\\n",
       " <int> & <int>\\\\\n",
       "\\hline\n",
       "\t  7 &  378\\\\\n",
       "\t  8 &  504\\\\\n",
       "\t  9 &  648\\\\\n",
       "\t 10 &  810\\\\\n",
       "\t 11 &  990\\\\\n",
       "\t 12 & 1188\\\\\n",
       "\\end{tabular}\n"
      ],
      "text/markdown": [
       "\n",
       "A data.frame: 6 × 2\n",
       "\n",
       "| sides_offer &lt;int&gt; | combos &lt;int&gt; |\n",
       "|---|---|\n",
       "|  7 |  378 |\n",
       "|  8 |  504 |\n",
       "|  9 |  648 |\n",
       "| 10 |  810 |\n",
       "| 11 |  990 |\n",
       "| 12 | 1188 |\n",
       "\n"
      ],
      "text/plain": [
       "  sides_offer combos\n",
       "1  7           378  \n",
       "2  8           504  \n",
       "3  9           648  \n",
       "4 10           810  \n",
       "5 11           990  \n",
       "6 12          1188  "
      ]
     },
     "metadata": {},
     "output_type": "display_data"
    }
   ],
   "source": [
    "df %>% filter(combos >365)"
   ]
  },
  {
   "cell_type": "code",
   "execution_count": 59,
   "metadata": {},
   "outputs": [
    {
     "data": {
      "text/html": [
       "7"
      ],
      "text/latex": [
       "7"
      ],
      "text/markdown": [
       "7"
      ],
      "text/plain": [
       "[1] 7"
      ]
     },
     "metadata": {},
     "output_type": "display_data"
    }
   ],
   "source": [
    "df %>% filter(combos >365) %>% min(.$sides_offer)"
   ]
  },
  {
   "cell_type": "code",
   "execution_count": null,
   "metadata": {},
   "outputs": [],
   "source": []
  }
 ],
 "metadata": {
  "kernelspec": {
   "display_name": "R",
   "language": "R",
   "name": "ir"
  },
  "language_info": {
   "codemirror_mode": "r",
   "file_extension": ".r",
   "mimetype": "text/x-r-source",
   "name": "R",
   "pygments_lexer": "r",
   "version": "4.0.2"
  }
 },
 "nbformat": 4,
 "nbformat_minor": 4
}
