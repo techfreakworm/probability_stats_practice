{
 "cells": [
  {
   "cell_type": "markdown",
   "metadata": {},
   "source": [
    "In this 3-part question, you will convert raw ACT scores to Z-scores and answer some questions about them.\n",
    "\n",
    "Convert `act_scores` to Z-scores. Recall from Data Visualization (the second course in this series) that to standardize values (convert values into Z-scores, that is, values distributed with a mean of 0 and standard deviation of 1), you must subtract the mean and then divide by the standard deviation. Use the mean and standard deviation of `act_scores`, not the original values used to generate random test scores."
   ]
  },
  {
   "cell_type": "code",
   "execution_count": 2,
   "metadata": {},
   "outputs": [],
   "source": [
    "set.seed(16)\n",
    "act_scores <- rnorm(10000, 20.9, 5.7)"
   ]
  },
  {
   "cell_type": "code",
   "execution_count": 3,
   "metadata": {},
   "outputs": [],
   "source": [
    "avg <- mean(act_scores)\n",
    "sd <- sd(act_scores)"
   ]
  },
  {
   "cell_type": "code",
   "execution_count": 6,
   "metadata": {},
   "outputs": [],
   "source": [
    "z_scorify <- function(val){\n",
    "    (val - avg)/sd\n",
    "}"
   ]
  },
  {
   "cell_type": "code",
   "execution_count": 11,
   "metadata": {},
   "outputs": [],
   "source": [
    "act_z_scores <- sapply(act_scores, z_scorify)"
   ]
  },
  {
   "cell_type": "code",
   "execution_count": 12,
   "metadata": {},
   "outputs": [
    {
     "data": {
      "text/html": [
       "0.0233"
      ],
      "text/latex": [
       "0.0233"
      ],
      "text/markdown": [
       "0.0233"
      ],
      "text/plain": [
       "[1] 0.0233"
      ]
     },
     "metadata": {},
     "output_type": "display_data"
    }
   ],
   "source": [
    "mean(act_z_scores > 2)"
   ]
  },
  {
   "cell_type": "code",
   "execution_count": 13,
   "metadata": {},
   "outputs": [
    {
     "data": {
      "text/html": [
       "0.0233"
      ],
      "text/latex": [
       "0.0233"
      ],
      "text/markdown": [
       "0.0233"
      ],
      "text/plain": [
       "[1] 0.0233"
      ]
     },
     "metadata": {},
     "output_type": "display_data"
    }
   ],
   "source": [
    "#Answer\n",
    "z_scores <- (act_scores - mean(act_scores))/sd(act_scores)\n",
    "mean(z_scores > 2)"
   ]
  },
  {
   "cell_type": "markdown",
   "metadata": {},
   "source": [
    "## Question 3b\n",
    "What ACT score value corresponds to 2 standard deviations above the mean (Z = 2)?"
   ]
  },
  {
   "cell_type": "code",
   "execution_count": 15,
   "metadata": {},
   "outputs": [
    {
     "data": {
      "text/html": [
       "32.1905954415075"
      ],
      "text/latex": [
       "32.1905954415075"
      ],
      "text/markdown": [
       "32.1905954415075"
      ],
      "text/plain": [
       "[1] 32.1906"
      ]
     },
     "metadata": {},
     "output_type": "display_data"
    }
   ],
   "source": [
    " 2*sd(act_scores) + mean(act_scores)"
   ]
  },
  {
   "cell_type": "markdown",
   "metadata": {},
   "source": [
    "## Question 3c\n",
    "A Z-score of 2 corresponds roughly to the 97.5th percentile.\n",
    "\n",
    "Use `qnorm()` to determine the 97.5th percentile of normally distributed data with the mean and standard deviation observed in `act_scores`.\n",
    "\n",
    "What is the 97.5th percentile of `act_scores`?"
   ]
  },
  {
   "cell_type": "code",
   "execution_count": 17,
   "metadata": {},
   "outputs": [
    {
     "data": {
      "text/html": [
       "31.9633815649971"
      ],
      "text/latex": [
       "31.9633815649971"
      ],
      "text/markdown": [
       "31.9633815649971"
      ],
      "text/plain": [
       "[1] 31.96338"
      ]
     },
     "metadata": {},
     "output_type": "display_data"
    }
   ],
   "source": [
    "qnorm(.975, avg, sd)"
   ]
  },
  {
   "cell_type": "markdown",
   "metadata": {},
   "source": [
    "-------"
   ]
  },
  {
   "cell_type": "markdown",
   "metadata": {},
   "source": [
    "In this 4-part question, you will write a function to create a CDF for ACT scores.\n",
    "\n",
    "Write a function that takes a value and produces the probability of an ACT score less than or equal to that value (the CDF). Apply this function to the range 1 to 36.\n",
    "\n"
   ]
  },
  {
   "cell_type": "code",
   "execution_count": 19,
   "metadata": {},
   "outputs": [],
   "source": [
    "act_cdf <- function(val) {\n",
    "    mean(act_scores <= val)\n",
    "}"
   ]
  },
  {
   "cell_type": "code",
   "execution_count": 24,
   "metadata": {},
   "outputs": [],
   "source": [
    "cdf <- sapply(seq(1:36), act_cdf)"
   ]
  },
  {
   "cell_type": "markdown",
   "metadata": {},
   "source": [
    "## Question 4a\n",
    "What is the minimum integer score such that the probability of that score or lower is at least .95?"
   ]
  },
  {
   "cell_type": "code",
   "execution_count": 25,
   "metadata": {},
   "outputs": [
    {
     "data": {
      "text/html": [
       "30.175055602642"
      ],
      "text/latex": [
       "30.175055602642"
      ],
      "text/markdown": [
       "30.175055602642"
      ],
      "text/plain": [
       "[1] 30.17506"
      ]
     },
     "metadata": {},
     "output_type": "display_data"
    }
   ],
   "source": [
    "qnorm(.95, avg, sd)"
   ]
  },
  {
   "cell_type": "code",
   "execution_count": 28,
   "metadata": {},
   "outputs": [
    {
     "data": {
      "text/html": [
       "31"
      ],
      "text/latex": [
       "31"
      ],
      "text/markdown": [
       "31"
      ],
      "text/plain": [
       "[1] 31"
      ]
     },
     "metadata": {},
     "output_type": "display_data"
    }
   ],
   "source": [
    "# Answer\n",
    "min(which(cdf >= .95))# TODO: ???? What is the significance of this????"
   ]
  },
  {
   "cell_type": "markdown",
   "metadata": {},
   "source": [
    "## Question 4b\n",
    "Use qnorm() to determine the expected 95th percentile, the value for which the probability of receiving that score or lower is 0.95, given a mean score of 20.9 and standard deviation of 5.7.\n",
    "\n",
    "What is the expected 95th percentile of ACT scores?"
   ]
  },
  {
   "cell_type": "code",
   "execution_count": 29,
   "metadata": {},
   "outputs": [
    {
     "data": {
      "text/html": [
       "30.2756656736234"
      ],
      "text/latex": [
       "30.2756656736234"
      ],
      "text/markdown": [
       "30.2756656736234"
      ],
      "text/plain": [
       "[1] 30.27567"
      ]
     },
     "metadata": {},
     "output_type": "display_data"
    }
   ],
   "source": [
    "qnorm(.95, 20.9, 5.7)"
   ]
  },
  {
   "cell_type": "markdown",
   "metadata": {},
   "source": [
    "## Question 4c\n",
    "As discussed in the Data Visualization course, we can use quantile() to determine sample quantiles from the data.\n",
    "\n",
    "Make a vector containing the quantiles for p <- seq(0.01, 0.99, 0.01), the 1st through 99th percentiles of the act_scores data. Save these as sample_quantiles.\n",
    "\n",
    "In what percentile is a score of 26?"
   ]
  },
  {
   "cell_type": "code",
   "execution_count": 30,
   "metadata": {},
   "outputs": [],
   "source": [
    "p <- seq(0.01, 0.99, 0.01)"
   ]
  },
  {
   "cell_type": "code",
   "execution_count": 36,
   "metadata": {},
   "outputs": [
    {
     "data": {
      "text/html": [
       "<style>\n",
       ".dl-inline {width: auto; margin:0; padding: 0}\n",
       ".dl-inline>dt, .dl-inline>dd {float: none; width: auto; display: inline-block}\n",
       ".dl-inline>dt::after {content: \":\\0020\"; padding-right: .5ex}\n",
       ".dl-inline>dt:not(:first-of-type) {padding-left: .5ex}\n",
       "</style><dl class=dl-inline><dt>1%</dt><dd>7.60548643455939</dd><dt>2%</dt><dd>9.08277500120146</dd><dt>3%</dt><dd>10.1446795271492</dd><dt>4%</dt><dd>10.9394402939899</dd><dt>5%</dt><dd>11.484863347674</dd><dt>6%</dt><dd>11.9460222173403</dd><dt>7%</dt><dd>12.4330432855707</dd><dt>8%</dt><dd>12.8889113950076</dd><dt>9%</dt><dd>13.2877540331182</dd><dt>10%</dt><dd>13.604940804819</dd><dt>11%</dt><dd>13.8950664531368</dd><dt>12%</dt><dd>14.198617185266</dd><dt>13%</dt><dd>14.4666397525034</dd><dt>14%</dt><dd>14.7135994294688</dd><dt>15%</dt><dd>14.9827391981755</dd><dt>16%</dt><dd>15.249469662012</dd><dt>17%</dt><dd>15.4785321224995</dd><dt>18%</dt><dd>15.7299874464236</dd><dt>19%</dt><dd>15.9412095536424</dd><dt>20%</dt><dd>16.1219967033729</dd><dt>21%</dt><dd>16.32099892044</dd><dt>22%</dt><dd>16.5244703989518</dd><dt>23%</dt><dd>16.6758006479426</dd><dt>24%</dt><dd>16.8924506756887</dd><dt>25%</dt><dd>17.0751989000343</dd><dt>26%</dt><dd>17.2436224948629</dd><dt>27%</dt><dd>17.4082265386297</dd><dt>28%</dt><dd>17.601733620335</dd><dt>29%</dt><dd>17.7661476757176</dd><dt>30%</dt><dd>17.9276551987713</dd><dt>31%</dt><dd>18.0724764117011</dd><dt>32%</dt><dd>18.2297318351815</dd><dt>33%</dt><dd>18.3493114290241</dd><dt>34%</dt><dd>18.5280772536867</dd><dt>35%</dt><dd>18.6754206605393</dd><dt>36%</dt><dd>18.8049753234498</dd><dt>37%</dt><dd>18.9460368560988</dd><dt>38%</dt><dd>19.0969095863687</dd><dt>39%</dt><dd>19.2533505413412</dd><dt>40%</dt><dd>19.3834823627725</dd><dt>41%</dt><dd>19.5308080406029</dd><dt>42%</dt><dd>19.6648573268035</dd><dt>43%</dt><dd>19.7983313884018</dd><dt>44%</dt><dd>19.9486290996966</dd><dt>45%</dt><dd>20.0927825420866</dd><dt>46%</dt><dd>20.24325289842</dd><dt>47%</dt><dd>20.3724746632618</dd><dt>48%</dt><dd>20.5123084099582</dd><dt>49%</dt><dd>20.6606992135472</dd><dt>50%</dt><dd>20.7994588304799</dd><dt>51%</dt><dd>20.9273370283591</dd><dt>52%</dt><dd>21.0810918469326</dd><dt>53%</dt><dd>21.2345925978124</dd><dt>54%</dt><dd>21.3842914875396</dd><dt>55%</dt><dd>21.5381401049802</dd><dt>56%</dt><dd>21.6623248472047</dd><dt>57%</dt><dd>21.8288025545956</dd><dt>58%</dt><dd>21.9976786608014</dd><dt>59%</dt><dd>22.1344436018745</dd><dt>60%</dt><dd>22.2760735601565</dd><dt>61%</dt><dd>22.4321753637445</dd><dt>62%</dt><dd>22.5634214633489</dd><dt>63%</dt><dd>22.713591548319</dd><dt>64%</dt><dd>22.8548588441394</dd><dt>65%</dt><dd>23.0046966025339</dd><dt>66%</dt><dd>23.1624564892512</dd><dt>67%</dt><dd>23.328437656299</dd><dt>68%</dt><dd>23.4996385008726</dd><dt>69%</dt><dd>23.6643976658388</dd><dt>70%</dt><dd>23.8122259768881</dd><dt>71%</dt><dd>23.9843914735472</dd><dt>72%</dt><dd>24.1099882287758</dd><dt>73%</dt><dd>24.2970490336683</dd><dt>74%</dt><dd>24.481218167305</dd><dt>75%</dt><dd>24.6849938758795</dd><dt>76%</dt><dd>24.8907365945104</dd><dt>77%</dt><dd>25.0603211972474</dd><dt>78%</dt><dd>25.235280171104</dd><dt>79%</dt><dd>25.4153438938788</dd><dt>80%</dt><dd>25.600345786545</dd><dt>81%</dt><dd>25.8089314694672</dd><dt>82%</dt><dd>25.9926603250173</dd><dt>83%</dt><dd>26.2109460976033</dd><dt>84%</dt><dd>26.4229270737115</dd><dt>85%</dt><dd>26.6964140739741</dd><dt>86%</dt><dd>26.9314522319677</dd><dt>87%</dt><dd>27.2375082334538</dd><dt>88%</dt><dd>27.5039351175479</dd><dt>89%</dt><dd>27.8149403635298</dd><dt>90%</dt><dd>28.1023393636141</dd><dt>91%</dt><dd>28.4319095678098</dd><dt>92%</dt><dd>28.8666171005775</dd><dt>93%</dt><dd>29.2216791812319</dd><dt>94%</dt><dd>29.6080511875468</dd><dt>95%</dt><dd>30.1799050207227</dd><dt>96%</dt><dd>30.68391017781</dd><dt>97%</dt><dd>31.4292861063764</dd><dt>98%</dt><dd>32.5618835866641</dd><dt>99%</dt><dd>34.0065624220387</dd></dl>\n"
      ],
      "text/latex": [
       "\\begin{description*}\n",
       "\\item[1\\textbackslash{}\\%] 7.60548643455939\n",
       "\\item[2\\textbackslash{}\\%] 9.08277500120146\n",
       "\\item[3\\textbackslash{}\\%] 10.1446795271492\n",
       "\\item[4\\textbackslash{}\\%] 10.9394402939899\n",
       "\\item[5\\textbackslash{}\\%] 11.484863347674\n",
       "\\item[6\\textbackslash{}\\%] 11.9460222173403\n",
       "\\item[7\\textbackslash{}\\%] 12.4330432855707\n",
       "\\item[8\\textbackslash{}\\%] 12.8889113950076\n",
       "\\item[9\\textbackslash{}\\%] 13.2877540331182\n",
       "\\item[10\\textbackslash{}\\%] 13.604940804819\n",
       "\\item[11\\textbackslash{}\\%] 13.8950664531368\n",
       "\\item[12\\textbackslash{}\\%] 14.198617185266\n",
       "\\item[13\\textbackslash{}\\%] 14.4666397525034\n",
       "\\item[14\\textbackslash{}\\%] 14.7135994294688\n",
       "\\item[15\\textbackslash{}\\%] 14.9827391981755\n",
       "\\item[16\\textbackslash{}\\%] 15.249469662012\n",
       "\\item[17\\textbackslash{}\\%] 15.4785321224995\n",
       "\\item[18\\textbackslash{}\\%] 15.7299874464236\n",
       "\\item[19\\textbackslash{}\\%] 15.9412095536424\n",
       "\\item[20\\textbackslash{}\\%] 16.1219967033729\n",
       "\\item[21\\textbackslash{}\\%] 16.32099892044\n",
       "\\item[22\\textbackslash{}\\%] 16.5244703989518\n",
       "\\item[23\\textbackslash{}\\%] 16.6758006479426\n",
       "\\item[24\\textbackslash{}\\%] 16.8924506756887\n",
       "\\item[25\\textbackslash{}\\%] 17.0751989000343\n",
       "\\item[26\\textbackslash{}\\%] 17.2436224948629\n",
       "\\item[27\\textbackslash{}\\%] 17.4082265386297\n",
       "\\item[28\\textbackslash{}\\%] 17.601733620335\n",
       "\\item[29\\textbackslash{}\\%] 17.7661476757176\n",
       "\\item[30\\textbackslash{}\\%] 17.9276551987713\n",
       "\\item[31\\textbackslash{}\\%] 18.0724764117011\n",
       "\\item[32\\textbackslash{}\\%] 18.2297318351815\n",
       "\\item[33\\textbackslash{}\\%] 18.3493114290241\n",
       "\\item[34\\textbackslash{}\\%] 18.5280772536867\n",
       "\\item[35\\textbackslash{}\\%] 18.6754206605393\n",
       "\\item[36\\textbackslash{}\\%] 18.8049753234498\n",
       "\\item[37\\textbackslash{}\\%] 18.9460368560988\n",
       "\\item[38\\textbackslash{}\\%] 19.0969095863687\n",
       "\\item[39\\textbackslash{}\\%] 19.2533505413412\n",
       "\\item[40\\textbackslash{}\\%] 19.3834823627725\n",
       "\\item[41\\textbackslash{}\\%] 19.5308080406029\n",
       "\\item[42\\textbackslash{}\\%] 19.6648573268035\n",
       "\\item[43\\textbackslash{}\\%] 19.7983313884018\n",
       "\\item[44\\textbackslash{}\\%] 19.9486290996966\n",
       "\\item[45\\textbackslash{}\\%] 20.0927825420866\n",
       "\\item[46\\textbackslash{}\\%] 20.24325289842\n",
       "\\item[47\\textbackslash{}\\%] 20.3724746632618\n",
       "\\item[48\\textbackslash{}\\%] 20.5123084099582\n",
       "\\item[49\\textbackslash{}\\%] 20.6606992135472\n",
       "\\item[50\\textbackslash{}\\%] 20.7994588304799\n",
       "\\item[51\\textbackslash{}\\%] 20.9273370283591\n",
       "\\item[52\\textbackslash{}\\%] 21.0810918469326\n",
       "\\item[53\\textbackslash{}\\%] 21.2345925978124\n",
       "\\item[54\\textbackslash{}\\%] 21.3842914875396\n",
       "\\item[55\\textbackslash{}\\%] 21.5381401049802\n",
       "\\item[56\\textbackslash{}\\%] 21.6623248472047\n",
       "\\item[57\\textbackslash{}\\%] 21.8288025545956\n",
       "\\item[58\\textbackslash{}\\%] 21.9976786608014\n",
       "\\item[59\\textbackslash{}\\%] 22.1344436018745\n",
       "\\item[60\\textbackslash{}\\%] 22.2760735601565\n",
       "\\item[61\\textbackslash{}\\%] 22.4321753637445\n",
       "\\item[62\\textbackslash{}\\%] 22.5634214633489\n",
       "\\item[63\\textbackslash{}\\%] 22.713591548319\n",
       "\\item[64\\textbackslash{}\\%] 22.8548588441394\n",
       "\\item[65\\textbackslash{}\\%] 23.0046966025339\n",
       "\\item[66\\textbackslash{}\\%] 23.1624564892512\n",
       "\\item[67\\textbackslash{}\\%] 23.328437656299\n",
       "\\item[68\\textbackslash{}\\%] 23.4996385008726\n",
       "\\item[69\\textbackslash{}\\%] 23.6643976658388\n",
       "\\item[70\\textbackslash{}\\%] 23.8122259768881\n",
       "\\item[71\\textbackslash{}\\%] 23.9843914735472\n",
       "\\item[72\\textbackslash{}\\%] 24.1099882287758\n",
       "\\item[73\\textbackslash{}\\%] 24.2970490336683\n",
       "\\item[74\\textbackslash{}\\%] 24.481218167305\n",
       "\\item[75\\textbackslash{}\\%] 24.6849938758795\n",
       "\\item[76\\textbackslash{}\\%] 24.8907365945104\n",
       "\\item[77\\textbackslash{}\\%] 25.0603211972474\n",
       "\\item[78\\textbackslash{}\\%] 25.235280171104\n",
       "\\item[79\\textbackslash{}\\%] 25.4153438938788\n",
       "\\item[80\\textbackslash{}\\%] 25.600345786545\n",
       "\\item[81\\textbackslash{}\\%] 25.8089314694672\n",
       "\\item[82\\textbackslash{}\\%] 25.9926603250173\n",
       "\\item[83\\textbackslash{}\\%] 26.2109460976033\n",
       "\\item[84\\textbackslash{}\\%] 26.4229270737115\n",
       "\\item[85\\textbackslash{}\\%] 26.6964140739741\n",
       "\\item[86\\textbackslash{}\\%] 26.9314522319677\n",
       "\\item[87\\textbackslash{}\\%] 27.2375082334538\n",
       "\\item[88\\textbackslash{}\\%] 27.5039351175479\n",
       "\\item[89\\textbackslash{}\\%] 27.8149403635298\n",
       "\\item[90\\textbackslash{}\\%] 28.1023393636141\n",
       "\\item[91\\textbackslash{}\\%] 28.4319095678098\n",
       "\\item[92\\textbackslash{}\\%] 28.8666171005775\n",
       "\\item[93\\textbackslash{}\\%] 29.2216791812319\n",
       "\\item[94\\textbackslash{}\\%] 29.6080511875468\n",
       "\\item[95\\textbackslash{}\\%] 30.1799050207227\n",
       "\\item[96\\textbackslash{}\\%] 30.68391017781\n",
       "\\item[97\\textbackslash{}\\%] 31.4292861063764\n",
       "\\item[98\\textbackslash{}\\%] 32.5618835866641\n",
       "\\item[99\\textbackslash{}\\%] 34.0065624220387\n",
       "\\end{description*}\n"
      ],
      "text/markdown": [
       "1%\n",
       ":   7.605486434559392%\n",
       ":   9.082775001201463%\n",
       ":   10.14467952714924%\n",
       ":   10.93944029398995%\n",
       ":   11.4848633476746%\n",
       ":   11.94602221734037%\n",
       ":   12.43304328557078%\n",
       ":   12.88891139500769%\n",
       ":   13.287754033118210%\n",
       ":   13.60494080481911%\n",
       ":   13.895066453136812%\n",
       ":   14.19861718526613%\n",
       ":   14.466639752503414%\n",
       ":   14.713599429468815%\n",
       ":   14.982739198175516%\n",
       ":   15.24946966201217%\n",
       ":   15.478532122499518%\n",
       ":   15.729987446423619%\n",
       ":   15.941209553642420%\n",
       ":   16.121996703372921%\n",
       ":   16.3209989204422%\n",
       ":   16.524470398951823%\n",
       ":   16.675800647942624%\n",
       ":   16.892450675688725%\n",
       ":   17.075198900034326%\n",
       ":   17.243622494862927%\n",
       ":   17.408226538629728%\n",
       ":   17.60173362033529%\n",
       ":   17.766147675717630%\n",
       ":   17.927655198771331%\n",
       ":   18.072476411701132%\n",
       ":   18.229731835181533%\n",
       ":   18.349311429024134%\n",
       ":   18.528077253686735%\n",
       ":   18.675420660539336%\n",
       ":   18.804975323449837%\n",
       ":   18.946036856098838%\n",
       ":   19.096909586368739%\n",
       ":   19.253350541341240%\n",
       ":   19.383482362772541%\n",
       ":   19.530808040602942%\n",
       ":   19.664857326803543%\n",
       ":   19.798331388401844%\n",
       ":   19.948629099696645%\n",
       ":   20.092782542086646%\n",
       ":   20.2432528984247%\n",
       ":   20.372474663261848%\n",
       ":   20.512308409958249%\n",
       ":   20.660699213547250%\n",
       ":   20.799458830479951%\n",
       ":   20.927337028359152%\n",
       ":   21.081091846932653%\n",
       ":   21.234592597812454%\n",
       ":   21.384291487539655%\n",
       ":   21.538140104980256%\n",
       ":   21.662324847204757%\n",
       ":   21.828802554595658%\n",
       ":   21.997678660801459%\n",
       ":   22.134443601874560%\n",
       ":   22.276073560156561%\n",
       ":   22.432175363744562%\n",
       ":   22.563421463348963%\n",
       ":   22.71359154831964%\n",
       ":   22.854858844139465%\n",
       ":   23.004696602533966%\n",
       ":   23.162456489251267%\n",
       ":   23.32843765629968%\n",
       ":   23.499638500872669%\n",
       ":   23.664397665838870%\n",
       ":   23.812225976888171%\n",
       ":   23.984391473547272%\n",
       ":   24.109988228775873%\n",
       ":   24.297049033668374%\n",
       ":   24.48121816730575%\n",
       ":   24.684993875879576%\n",
       ":   24.890736594510477%\n",
       ":   25.060321197247478%\n",
       ":   25.23528017110479%\n",
       ":   25.415343893878880%\n",
       ":   25.60034578654581%\n",
       ":   25.808931469467282%\n",
       ":   25.992660325017383%\n",
       ":   26.210946097603384%\n",
       ":   26.422927073711585%\n",
       ":   26.696414073974186%\n",
       ":   26.931452231967787%\n",
       ":   27.237508233453888%\n",
       ":   27.503935117547989%\n",
       ":   27.814940363529890%\n",
       ":   28.102339363614191%\n",
       ":   28.431909567809892%\n",
       ":   28.866617100577593%\n",
       ":   29.221679181231994%\n",
       ":   29.608051187546895%\n",
       ":   30.179905020722796%\n",
       ":   30.6839101778197%\n",
       ":   31.429286106376498%\n",
       ":   32.561883586664199%\n",
       ":   34.0065624220387\n",
       "\n"
      ],
      "text/plain": [
       "       1%        2%        3%        4%        5%        6%        7%        8% \n",
       " 7.605486  9.082775 10.144680 10.939440 11.484863 11.946022 12.433043 12.888911 \n",
       "       9%       10%       11%       12%       13%       14%       15%       16% \n",
       "13.287754 13.604941 13.895066 14.198617 14.466640 14.713599 14.982739 15.249470 \n",
       "      17%       18%       19%       20%       21%       22%       23%       24% \n",
       "15.478532 15.729987 15.941210 16.121997 16.320999 16.524470 16.675801 16.892451 \n",
       "      25%       26%       27%       28%       29%       30%       31%       32% \n",
       "17.075199 17.243622 17.408227 17.601734 17.766148 17.927655 18.072476 18.229732 \n",
       "      33%       34%       35%       36%       37%       38%       39%       40% \n",
       "18.349311 18.528077 18.675421 18.804975 18.946037 19.096910 19.253351 19.383482 \n",
       "      41%       42%       43%       44%       45%       46%       47%       48% \n",
       "19.530808 19.664857 19.798331 19.948629 20.092783 20.243253 20.372475 20.512308 \n",
       "      49%       50%       51%       52%       53%       54%       55%       56% \n",
       "20.660699 20.799459 20.927337 21.081092 21.234593 21.384291 21.538140 21.662325 \n",
       "      57%       58%       59%       60%       61%       62%       63%       64% \n",
       "21.828803 21.997679 22.134444 22.276074 22.432175 22.563421 22.713592 22.854859 \n",
       "      65%       66%       67%       68%       69%       70%       71%       72% \n",
       "23.004697 23.162456 23.328438 23.499639 23.664398 23.812226 23.984391 24.109988 \n",
       "      73%       74%       75%       76%       77%       78%       79%       80% \n",
       "24.297049 24.481218 24.684994 24.890737 25.060321 25.235280 25.415344 25.600346 \n",
       "      81%       82%       83%       84%       85%       86%       87%       88% \n",
       "25.808931 25.992660 26.210946 26.422927 26.696414 26.931452 27.237508 27.503935 \n",
       "      89%       90%       91%       92%       93%       94%       95%       96% \n",
       "27.814940 28.102339 28.431910 28.866617 29.221679 29.608051 30.179905 30.683910 \n",
       "      97%       98%       99% \n",
       "31.429286 32.561884 34.006562 "
      ]
     },
     "metadata": {},
     "output_type": "display_data"
    }
   ],
   "source": [
    "sample_quantiles <- quantile(act_scores, p)\n",
    "sample_quantiles"
   ]
  },
  {
   "cell_type": "code",
   "execution_count": 45,
   "metadata": {},
   "outputs": [
    {
     "data": {
      "text/html": [
       "'82%'"
      ],
      "text/latex": [
       "'82\\%'"
      ],
      "text/markdown": [
       "'82%'"
      ],
      "text/plain": [
       "[1] \"82%\""
      ]
     },
     "metadata": {},
     "output_type": "display_data"
    }
   ],
   "source": [
    "names(sample_quantiles[max(which(sample_quantiles < 26))])"
   ]
  },
  {
   "cell_type": "markdown",
   "metadata": {},
   "source": [
    "## Question 4d\n",
    "Make a corresponding set of theoretical quantiles using `qnorm()` over the interval `p <- seq(0.01, 0.99, 0.01)` with mean 20.9 and standard deviation 5.7. Save these as `theoretical_quantiles`. Make a QQ-plot graphing `sample_quantiles` on the y-axis versus `theoretical_quantiles` on the x-axis."
   ]
  },
  {
   "cell_type": "code",
   "execution_count": 49,
   "metadata": {},
   "outputs": [
    {
     "data": {
      "image/png": "[encoded data removed]",
      "text/plain": [
       "plot without title"
      ]
     },
     "metadata": {
      "image/png": {
       "height": 420,
       "width": 420
      }
     },
     "output_type": "display_data"
    }
   ],
   "source": [
    "  p <- seq(0.01, 0.99, 0.01)\n",
    "sample_quantiles <- quantile(act_scores, p)\n",
    "theoretical_quantiles <- qnorm(p, 20.9, 5.7)\n",
    "qplot(theoretical_quantiles, sample_quantiles) + geom_abline()"
   ]
  },
  {
   "cell_type": "code",
   "execution_count": null,
   "metadata": {},
   "outputs": [],
   "source": []
  }
 ],
 "metadata": {
  "kernelspec": {
   "display_name": "R",
   "language": "R",
   "name": "ir"
  },
  "language_info": {
   "codemirror_mode": "r",
   "file_extension": ".r",
   "mimetype": "text/x-r-source",
   "name": "R",
   "pygments_lexer": "r",
   "version": "4.0.2"
  }
 },
 "nbformat": 4,
 "nbformat_minor": 4
}
